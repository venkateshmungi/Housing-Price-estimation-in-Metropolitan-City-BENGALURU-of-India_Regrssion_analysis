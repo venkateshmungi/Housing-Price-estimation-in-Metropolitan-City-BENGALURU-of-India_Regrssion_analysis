{
 "cells": [
  {
   "cell_type": "markdown",
   "id": "bdd23ea7",
   "metadata": {},
   "source": [
    "<p style=\"background-color:lightgreen;font-family:newtimeroman;font-size:22px;line-height:1.7em;text-align:center;border-radius:5px 5px\">Housing Price estimation in Metropolitan City [BENGALURU] of India_Part_3_Scikit-Learn</p>"
   ]
  },
  {
   "cell_type": "code",
   "execution_count": 1,
   "id": "56308286",
   "metadata": {},
   "outputs": [],
   "source": [
    "# Importing Pre-Required Libraries\n",
    "import pandas as pd\n",
    "import numpy as np\n",
    "import matplotlib.pyplot as plt\n",
    "import seaborn as sns\n",
    "import shap\n",
    "import sklearn\n",
    "import warnings\n",
    "warnings.filterwarnings(\"ignore\")"
   ]
  },
  {
   "cell_type": "code",
   "execution_count": 2,
   "id": "a558fabc",
   "metadata": {},
   "outputs": [
    {
     "data": {
      "text/html": [
       "<div>\n",
       "<style scoped>\n",
       "    .dataframe tbody tr th:only-of-type {\n",
       "        vertical-align: middle;\n",
       "    }\n",
       "\n",
       "    .dataframe tbody tr th {\n",
       "        vertical-align: top;\n",
       "    }\n",
       "\n",
       "    .dataframe thead th {\n",
       "        text-align: right;\n",
       "    }\n",
       "</style>\n",
       "<table border=\"1\" class=\"dataframe\">\n",
       "  <thead>\n",
       "    <tr style=\"text-align: right;\">\n",
       "      <th></th>\n",
       "      <th>Unnamed: 0</th>\n",
       "      <th>area_type</th>\n",
       "      <th>availability</th>\n",
       "      <th>location</th>\n",
       "      <th>size</th>\n",
       "      <th>bath</th>\n",
       "      <th>balcony</th>\n",
       "      <th>Area_sqft</th>\n",
       "      <th>price</th>\n",
       "    </tr>\n",
       "  </thead>\n",
       "  <tbody>\n",
       "    <tr>\n",
       "      <th>0</th>\n",
       "      <td>0</td>\n",
       "      <td>Super built-up  Area</td>\n",
       "      <td>19-Dec</td>\n",
       "      <td>Electronic City Phase II</td>\n",
       "      <td>2 BHK</td>\n",
       "      <td>2.0</td>\n",
       "      <td>1.0</td>\n",
       "      <td>1056</td>\n",
       "      <td>39.07</td>\n",
       "    </tr>\n",
       "    <tr>\n",
       "      <th>1</th>\n",
       "      <td>1</td>\n",
       "      <td>Plot  Area</td>\n",
       "      <td>Ready To Move</td>\n",
       "      <td>Chikka Tirupathi</td>\n",
       "      <td>4 BHK</td>\n",
       "      <td>5.0</td>\n",
       "      <td>3.0</td>\n",
       "      <td>2600</td>\n",
       "      <td>120.00</td>\n",
       "    </tr>\n",
       "    <tr>\n",
       "      <th>2</th>\n",
       "      <td>2</td>\n",
       "      <td>Built-up  Area</td>\n",
       "      <td>Ready To Move</td>\n",
       "      <td>Uttarahalli</td>\n",
       "      <td>3 BHK</td>\n",
       "      <td>2.0</td>\n",
       "      <td>3.0</td>\n",
       "      <td>1440</td>\n",
       "      <td>62.00</td>\n",
       "    </tr>\n",
       "    <tr>\n",
       "      <th>3</th>\n",
       "      <td>3</td>\n",
       "      <td>Super built-up  Area</td>\n",
       "      <td>Ready To Move</td>\n",
       "      <td>Lingadheeranahalli</td>\n",
       "      <td>3 BHK</td>\n",
       "      <td>3.0</td>\n",
       "      <td>1.0</td>\n",
       "      <td>1521</td>\n",
       "      <td>95.00</td>\n",
       "    </tr>\n",
       "    <tr>\n",
       "      <th>4</th>\n",
       "      <td>4</td>\n",
       "      <td>Super built-up  Area</td>\n",
       "      <td>Ready To Move</td>\n",
       "      <td>Kothanur</td>\n",
       "      <td>2 BHK</td>\n",
       "      <td>2.0</td>\n",
       "      <td>1.0</td>\n",
       "      <td>1200</td>\n",
       "      <td>51.00</td>\n",
       "    </tr>\n",
       "  </tbody>\n",
       "</table>\n",
       "</div>"
      ],
      "text/plain": [
       "   Unnamed: 0             area_type   availability                  location  \\\n",
       "0           0  Super built-up  Area         19-Dec  Electronic City Phase II   \n",
       "1           1            Plot  Area  Ready To Move          Chikka Tirupathi   \n",
       "2           2        Built-up  Area  Ready To Move               Uttarahalli   \n",
       "3           3  Super built-up  Area  Ready To Move        Lingadheeranahalli   \n",
       "4           4  Super built-up  Area  Ready To Move                  Kothanur   \n",
       "\n",
       "    size  bath  balcony  Area_sqft   price  \n",
       "0  2 BHK   2.0      1.0       1056   39.07  \n",
       "1  4 BHK   5.0      3.0       2600  120.00  \n",
       "2  3 BHK   2.0      3.0       1440   62.00  \n",
       "3  3 BHK   3.0      1.0       1521   95.00  \n",
       "4  2 BHK   2.0      1.0       1200   51.00  "
      ]
     },
     "execution_count": 2,
     "metadata": {},
     "output_type": "execute_result"
    }
   ],
   "source": [
    "# Loading Dataset\n",
    "df = pd.read_csv(r\"C:\\PYTHON\\AI_ML\\Machine_Learning_Projects\\Banglorehouseprice\\cleaned_data_of_bengaluru_house.csv\")\n",
    "df.head()"
   ]
  },
  {
   "cell_type": "code",
   "execution_count": 3,
   "id": "32aa851d",
   "metadata": {},
   "outputs": [
    {
     "data": {
      "text/html": [
       "<div>\n",
       "<style scoped>\n",
       "    .dataframe tbody tr th:only-of-type {\n",
       "        vertical-align: middle;\n",
       "    }\n",
       "\n",
       "    .dataframe tbody tr th {\n",
       "        vertical-align: top;\n",
       "    }\n",
       "\n",
       "    .dataframe thead th {\n",
       "        text-align: right;\n",
       "    }\n",
       "</style>\n",
       "<table border=\"1\" class=\"dataframe\">\n",
       "  <thead>\n",
       "    <tr style=\"text-align: right;\">\n",
       "      <th></th>\n",
       "      <th>area_type</th>\n",
       "      <th>availability</th>\n",
       "      <th>location</th>\n",
       "      <th>size</th>\n",
       "      <th>bath</th>\n",
       "      <th>balcony</th>\n",
       "      <th>Area_sqft</th>\n",
       "      <th>price</th>\n",
       "    </tr>\n",
       "  </thead>\n",
       "  <tbody>\n",
       "    <tr>\n",
       "      <th>0</th>\n",
       "      <td>Super built-up  Area</td>\n",
       "      <td>19-Dec</td>\n",
       "      <td>Electronic City Phase II</td>\n",
       "      <td>2 BHK</td>\n",
       "      <td>2.0</td>\n",
       "      <td>1.0</td>\n",
       "      <td>1056</td>\n",
       "      <td>39.07</td>\n",
       "    </tr>\n",
       "    <tr>\n",
       "      <th>1</th>\n",
       "      <td>Plot  Area</td>\n",
       "      <td>Ready To Move</td>\n",
       "      <td>Chikka Tirupathi</td>\n",
       "      <td>4 BHK</td>\n",
       "      <td>5.0</td>\n",
       "      <td>3.0</td>\n",
       "      <td>2600</td>\n",
       "      <td>120.00</td>\n",
       "    </tr>\n",
       "    <tr>\n",
       "      <th>2</th>\n",
       "      <td>Built-up  Area</td>\n",
       "      <td>Ready To Move</td>\n",
       "      <td>Uttarahalli</td>\n",
       "      <td>3 BHK</td>\n",
       "      <td>2.0</td>\n",
       "      <td>3.0</td>\n",
       "      <td>1440</td>\n",
       "      <td>62.00</td>\n",
       "    </tr>\n",
       "    <tr>\n",
       "      <th>3</th>\n",
       "      <td>Super built-up  Area</td>\n",
       "      <td>Ready To Move</td>\n",
       "      <td>Lingadheeranahalli</td>\n",
       "      <td>3 BHK</td>\n",
       "      <td>3.0</td>\n",
       "      <td>1.0</td>\n",
       "      <td>1521</td>\n",
       "      <td>95.00</td>\n",
       "    </tr>\n",
       "    <tr>\n",
       "      <th>4</th>\n",
       "      <td>Super built-up  Area</td>\n",
       "      <td>Ready To Move</td>\n",
       "      <td>Kothanur</td>\n",
       "      <td>2 BHK</td>\n",
       "      <td>2.0</td>\n",
       "      <td>1.0</td>\n",
       "      <td>1200</td>\n",
       "      <td>51.00</td>\n",
       "    </tr>\n",
       "  </tbody>\n",
       "</table>\n",
       "</div>"
      ],
      "text/plain": [
       "              area_type   availability                  location   size  bath  \\\n",
       "0  Super built-up  Area         19-Dec  Electronic City Phase II  2 BHK   2.0   \n",
       "1            Plot  Area  Ready To Move          Chikka Tirupathi  4 BHK   5.0   \n",
       "2        Built-up  Area  Ready To Move               Uttarahalli  3 BHK   2.0   \n",
       "3  Super built-up  Area  Ready To Move        Lingadheeranahalli  3 BHK   3.0   \n",
       "4  Super built-up  Area  Ready To Move                  Kothanur  2 BHK   2.0   \n",
       "\n",
       "   balcony  Area_sqft   price  \n",
       "0      1.0       1056   39.07  \n",
       "1      3.0       2600  120.00  \n",
       "2      3.0       1440   62.00  \n",
       "3      1.0       1521   95.00  \n",
       "4      1.0       1200   51.00  "
      ]
     },
     "execution_count": 3,
     "metadata": {},
     "output_type": "execute_result"
    }
   ],
   "source": [
    "# To drop the Unnamed Column from dataframe\n",
    "data = df.loc[:,~df.columns.str.match(\"Unnamed\")]\n",
    "data.head()"
   ]
  },
  {
   "cell_type": "code",
   "execution_count": 4,
   "id": "ae6b2aa7",
   "metadata": {},
   "outputs": [
    {
     "data": {
      "text/plain": [
       "area_type        object\n",
       "availability     object\n",
       "location         object\n",
       "size             object\n",
       "bath            float64\n",
       "balcony         float64\n",
       "Area_sqft         int64\n",
       "price           float64\n",
       "dtype: object"
      ]
     },
     "execution_count": 4,
     "metadata": {},
     "output_type": "execute_result"
    }
   ],
   "source": [
    "data.dtypes"
   ]
  },
  {
   "cell_type": "code",
   "execution_count": 5,
   "id": "8cd164bb",
   "metadata": {},
   "outputs": [],
   "source": [
    "# Alternatively x and y can be obtained directly from the frame attribute:\n",
    "x = data.drop('price', axis=1)\n",
    "y = data['price']"
   ]
  },
  {
   "cell_type": "code",
   "execution_count": 6,
   "id": "0035f705",
   "metadata": {},
   "outputs": [],
   "source": [
    "from sklearn.model_selection import train_test_split\n",
    "x_train, x_test, y_train, y_test = train_test_split(x, y, test_size=0.2, random_state=42)"
   ]
  },
  {
   "cell_type": "code",
   "execution_count": 7,
   "id": "0e987fd8",
   "metadata": {},
   "outputs": [],
   "source": [
    "from sklearn.pipeline import Pipeline\n",
    "from sklearn.preprocessing import StandardScaler\n",
    "from sklearn.compose import ColumnTransformer\n",
    "from sklearn.impute import SimpleImputer\n",
    "from sklearn.preprocessing import StandardScaler, OneHotEncoder"
   ]
  },
  {
   "cell_type": "code",
   "execution_count": 8,
   "id": "aae768fd",
   "metadata": {},
   "outputs": [],
   "source": [
    "# We create the preprocessing pipelines for both numeric and categorical data.\n",
    "numeric_features = [\"bath\", \"balcony\", \"Area_sqft\"]\n",
    "numeric_transformer = Pipeline(steps=[(\"imputer\", SimpleImputer(strategy=\"median\")), (\"scaler\", StandardScaler())])\n",
    "\n",
    "categorical_features = [\"area_type\", \"availability\", \"location\", \"size\"]\n",
    "categorical_transformer = OneHotEncoder(handle_unknown=\"ignore\")\n",
    "\n",
    "preprocessor = ColumnTransformer(transformers=[(\"num\", numeric_transformer, numeric_features),(\"cat\", categorical_transformer, categorical_features)])"
   ]
  },
  {
   "cell_type": "markdown",
   "id": "87669637",
   "metadata": {},
   "source": [
    "___LINEAR REGRESSOR___"
   ]
  },
  {
   "cell_type": "code",
   "execution_count": 9,
   "id": "3c32ad01",
   "metadata": {},
   "outputs": [],
   "source": [
    "# Modelling With Linear Regressor\n",
    "from sklearn.linear_model import LinearRegression\n",
    "# Append regressor to preprocessing pipeline. Now we have a full prediction pipeline.\n",
    "lr = Pipeline(steps=[(\"preprocessor\", preprocessor), (\"LR\", LinearRegression())])"
   ]
  },
  {
   "cell_type": "code",
   "execution_count": 10,
   "id": "1c2b9a85",
   "metadata": {
    "scrolled": false
   },
   "outputs": [],
   "source": [
    "model1 = lr.fit(x_test,y_test)"
   ]
  },
  {
   "cell_type": "code",
   "execution_count": 11,
   "id": "afc6361c",
   "metadata": {},
   "outputs": [],
   "source": [
    "y1_pred = model1.predict(x_test)"
   ]
  },
  {
   "cell_type": "code",
   "execution_count": 12,
   "id": "544d5449",
   "metadata": {},
   "outputs": [
    {
     "data": {
      "text/plain": [
       "0.7019624953234174"
      ]
     },
     "execution_count": 12,
     "metadata": {},
     "output_type": "execute_result"
    }
   ],
   "source": [
    "# Importing required libraries to check regression evaluation metrics\n",
    "from sklearn.metrics import mean_squared_error, r2_score\n",
    "from math import sqrt\n",
    "\n",
    "# Checking the R2 value\n",
    "r2_score1 = r2_score(y_test, y1_pred)\n",
    "r2_score1"
   ]
  },
  {
   "cell_type": "code",
   "execution_count": 13,
   "id": "908c78d7",
   "metadata": {},
   "outputs": [
    {
     "data": {
      "text/plain": [
       "77.1135626412901"
      ]
     },
     "execution_count": 13,
     "metadata": {},
     "output_type": "execute_result"
    }
   ],
   "source": [
    "# Checking for RMSE score\n",
    "from math import sqrt\n",
    "rmse1 = sqrt(mean_squared_error(y_test, y1_pred))\n",
    "rmse1"
   ]
  },
  {
   "cell_type": "markdown",
   "id": "f9ab25fe",
   "metadata": {},
   "source": [
    "___LASSO REGRESSOR___"
   ]
  },
  {
   "cell_type": "code",
   "execution_count": 14,
   "id": "a64cb12b",
   "metadata": {},
   "outputs": [],
   "source": [
    "# Modelling With Lasso Regressor\n",
    "from sklearn.linear_model import Lasso\n",
    "\n",
    "# Append regressor to preprocessing pipeline. Now we have a full prediction pipeline.\n",
    "lar = Pipeline(steps=[(\"preprocessor\", preprocessor), (\"LAR\", Lasso(alpha = 0.001))])"
   ]
  },
  {
   "cell_type": "code",
   "execution_count": 15,
   "id": "880c534f",
   "metadata": {},
   "outputs": [],
   "source": [
    "model2 = lar.fit(x_test,y_test)"
   ]
  },
  {
   "cell_type": "code",
   "execution_count": 16,
   "id": "f548fea9",
   "metadata": {},
   "outputs": [],
   "source": [
    "y2_pred = model2.predict(x_test)"
   ]
  },
  {
   "cell_type": "code",
   "execution_count": 17,
   "id": "b17612c7",
   "metadata": {},
   "outputs": [
    {
     "data": {
      "text/plain": [
       "0.7018952973132219"
      ]
     },
     "execution_count": 17,
     "metadata": {},
     "output_type": "execute_result"
    }
   ],
   "source": [
    "# Checking the R2 value\n",
    "r2_score2 = r2_score(y_test, y2_pred)\n",
    "r2_score2"
   ]
  },
  {
   "cell_type": "code",
   "execution_count": 18,
   "id": "8ec1a93c",
   "metadata": {},
   "outputs": [
    {
     "data": {
      "text/plain": [
       "77.12225548335343"
      ]
     },
     "execution_count": 18,
     "metadata": {},
     "output_type": "execute_result"
    }
   ],
   "source": [
    "# Checking for RMSE score\n",
    "rmse2 = sqrt(mean_squared_error(y_test, y2_pred))\n",
    "rmse2"
   ]
  },
  {
   "cell_type": "markdown",
   "id": "02cf3b84",
   "metadata": {},
   "source": [
    "* For Lasso Regression Hyper parameter tuning has done.\n",
    "* Without alpha, then R2 = 0.29, RMSE = 118.59  # Default value of alpha\n",
    "* With alpha = 0.1, then R2 = 0.59, RMSE = 89.35\n",
    "* With alpha = 0.01, then R2 = 0.69, RMSE = 77.35\n",
    "* With alpha = 0.001, then R2 = 0.70, RMSE = 77.12"
   ]
  },
  {
   "cell_type": "markdown",
   "id": "cabc7beb",
   "metadata": {},
   "source": [
    "___RIDGE REGRESSOR___"
   ]
  },
  {
   "cell_type": "code",
   "execution_count": 19,
   "id": "aa03f842",
   "metadata": {},
   "outputs": [],
   "source": [
    "# Modelling With Ridge Regressor\n",
    "from sklearn.linear_model import Ridge\n",
    "\n",
    "# Append regressor to preprocessing pipeline. Now we have a full prediction pipeline.\n",
    "rr = Pipeline(steps=[(\"preprocessor\", preprocessor), (\"RR\", Ridge(alpha = 0.001))])"
   ]
  },
  {
   "cell_type": "code",
   "execution_count": 20,
   "id": "7f36f6ed",
   "metadata": {},
   "outputs": [],
   "source": [
    "model3 = rr.fit(x_test,y_test)"
   ]
  },
  {
   "cell_type": "code",
   "execution_count": 21,
   "id": "5dff7395",
   "metadata": {},
   "outputs": [],
   "source": [
    "y3_pred = model3.predict(x_test)"
   ]
  },
  {
   "cell_type": "code",
   "execution_count": 22,
   "id": "b42b31bf",
   "metadata": {},
   "outputs": [
    {
     "data": {
      "text/plain": [
       "0.7017394125193155"
      ]
     },
     "execution_count": 22,
     "metadata": {},
     "output_type": "execute_result"
    }
   ],
   "source": [
    "# Checking the R2 value\n",
    "r2_score3 = r2_score(y_test, y3_pred)\n",
    "r2_score3"
   ]
  },
  {
   "cell_type": "code",
   "execution_count": 23,
   "id": "3370d3c7",
   "metadata": {},
   "outputs": [
    {
     "data": {
      "text/plain": [
       "77.1424172177118"
      ]
     },
     "execution_count": 23,
     "metadata": {},
     "output_type": "execute_result"
    }
   ],
   "source": [
    "# Checking for RMSE score\n",
    "rmse3 = sqrt(mean_squared_error(y_test, y3_pred))\n",
    "rmse3"
   ]
  },
  {
   "cell_type": "markdown",
   "id": "a02f0819",
   "metadata": {},
   "source": [
    "* For Ridge Regression Hyper parameter tuning has done.\n",
    "* Without alpha, then R2 = 0.63, RMSE = 85.23 # Default value of alpha\n",
    "* With alpha = 0.1, then R2 = 0.69, RMSE = 77.43\n",
    "* With alpha = 0.01, then R2 = 0.70, RMSE = 77.14\n",
    "* With alpha = 0.001, then R2 = 0.70, RMSE = 77.14"
   ]
  },
  {
   "cell_type": "markdown",
   "id": "81b00443",
   "metadata": {},
   "source": [
    "___ELASTIC NET REGRESSOR___"
   ]
  },
  {
   "cell_type": "code",
   "execution_count": 24,
   "id": "02e6bad0",
   "metadata": {},
   "outputs": [],
   "source": [
    "# Modelling With Elastic Net Regressor\n",
    "from sklearn.linear_model import ElasticNet\n",
    "\n",
    "# Append regressor to preprocessing pipeline. Now we have a full prediction pipeline.\n",
    "enr = Pipeline(steps=[(\"preprocessor\", preprocessor), (\"ENR\", ElasticNet(alpha = 0.001,l1_ratio=1))])"
   ]
  },
  {
   "cell_type": "code",
   "execution_count": 25,
   "id": "1e021f92",
   "metadata": {},
   "outputs": [],
   "source": [
    "model4 = enr.fit(x_test,y_test)"
   ]
  },
  {
   "cell_type": "code",
   "execution_count": 26,
   "id": "b0d2fc5a",
   "metadata": {},
   "outputs": [],
   "source": [
    "y4_pred = model4.predict(x_test)"
   ]
  },
  {
   "cell_type": "code",
   "execution_count": 27,
   "id": "893892e6",
   "metadata": {},
   "outputs": [
    {
     "data": {
      "text/plain": [
       "0.7018952973132219"
      ]
     },
     "execution_count": 27,
     "metadata": {},
     "output_type": "execute_result"
    }
   ],
   "source": [
    "# Checking the R2 value\n",
    "r2_score4 = r2_score(y_test, y4_pred)\n",
    "r2_score4"
   ]
  },
  {
   "cell_type": "code",
   "execution_count": 28,
   "id": "d10f894d",
   "metadata": {},
   "outputs": [
    {
     "data": {
      "text/plain": [
       "77.12225548335343"
      ]
     },
     "execution_count": 28,
     "metadata": {},
     "output_type": "execute_result"
    }
   ],
   "source": [
    "# Checking for RMSE score\n",
    "rmse4 = sqrt(mean_squared_error(y_test, y4_pred))\n",
    "rmse4"
   ]
  },
  {
   "cell_type": "markdown",
   "id": "5479444d",
   "metadata": {},
   "source": [
    "* For Elastic Net Regression Hyper parameter tuning has done.\n",
    "* Without alpha, then R2 = 0.21, RMSE = 125.10 # Default value of alpha\n",
    "* With alpha = 0.1, l1_ratio=1, then R2 = 0.59, RMSE = 89.35\n",
    "* With alpha = 0.01, l1_ratio=1, then R2 = 0.69, RMSE = 77.72\n",
    "* With alpha = 0.001, l1_ratio=1, then R2 = 0.70, RMSE = 77.12\n",
    "\n",
    "The ElasticNet mixing parameter, with 0 <= l1_ratio <= 1. For l1_ratio = 0 the penalty is an L2 penalty. For l1_ratio = 1 it is an L1 penalty. For 0 < l1_ratio < 1, the penalty is a combination of L1 and L2."
   ]
  },
  {
   "cell_type": "markdown",
   "id": "1b0713d4",
   "metadata": {},
   "source": [
    "___LGBM REGRESSOR___"
   ]
  },
  {
   "cell_type": "code",
   "execution_count": 29,
   "id": "1eea9dd9",
   "metadata": {},
   "outputs": [],
   "source": [
    "# Modelling With LGBM Regressor\n",
    "from lightgbm import LGBMRegressor\n",
    "\n",
    "# Append regressor to preprocessing pipeline. Now we have a full prediction pipeline.\n",
    "lgbm = Pipeline(steps=[(\"preprocessor\", preprocessor), (\"lgbm\", LGBMRegressor(boosting_type='gbdt', num_leaves=100, learning_rate=1, n_estimators=200))])"
   ]
  },
  {
   "cell_type": "code",
   "execution_count": 30,
   "id": "8ce25b11",
   "metadata": {},
   "outputs": [],
   "source": [
    "model5 = lgbm.fit(x_test,y_test)"
   ]
  },
  {
   "cell_type": "code",
   "execution_count": 31,
   "id": "36b79c5a",
   "metadata": {},
   "outputs": [],
   "source": [
    "y5_pred = model5.predict(x_test)"
   ]
  },
  {
   "cell_type": "code",
   "execution_count": 32,
   "id": "9016c0df",
   "metadata": {},
   "outputs": [
    {
     "data": {
      "text/plain": [
       "0.9314272507026052"
      ]
     },
     "execution_count": 32,
     "metadata": {},
     "output_type": "execute_result"
    }
   ],
   "source": [
    "# Checking the R2 value\n",
    "r2_score5 = r2_score(y_test, y5_pred)\n",
    "r2_score5"
   ]
  },
  {
   "cell_type": "code",
   "execution_count": 33,
   "id": "bcd318ff",
   "metadata": {},
   "outputs": [
    {
     "data": {
      "text/plain": [
       "36.988872192839175"
      ]
     },
     "execution_count": 33,
     "metadata": {},
     "output_type": "execute_result"
    }
   ],
   "source": [
    "# Checking for RMSE score\n",
    "rmse5 = sqrt(mean_squared_error(y_test, y5_pred))\n",
    "rmse5"
   ]
  },
  {
   "cell_type": "markdown",
   "id": "7f0c4bbd",
   "metadata": {},
   "source": [
    "* For LGBM Regression Hyper parameter tuning has done.\n",
    "* boosting_type='gbdt', num_leaves=100, learning_rate=0.1, n_estimators=100, then R2 = 0.71, RMSE = 75.57\n",
    "* boosting_type='gbdt', num_leaves=100, learning_rate=1, n_estimators=150, then R2 = 0.92, RMSE = 38.10\n",
    "* boosting_type='gbdt', num_leaves=100, learning_rate=1, n_estimators=200, then R2 = 0.93, RMSE = 36.98\n",
    "* boosting_type='dart', num_leaves=100, learning_rate=1, n_estimators=200, then R2 = 0.89, RMSE = 45.98"
   ]
  },
  {
   "cell_type": "markdown",
   "id": "f00d8934",
   "metadata": {},
   "source": [
    "___KNN REGRESSOR___"
   ]
  },
  {
   "cell_type": "code",
   "execution_count": 34,
   "id": "db87f287",
   "metadata": {},
   "outputs": [],
   "source": [
    "# Modelling With KNN Regressor\n",
    "from sklearn.neighbors import KNeighborsRegressor\n",
    "\n",
    "# Append regressor to preprocessing pipeline. Now we have a full prediction pipeline.\n",
    "knn = Pipeline(steps=[(\"preprocessor\", preprocessor), (\"KNN\", KNeighborsRegressor(n_neighbors=3, weights='distance', algorithm='auto', leaf_size=30))])"
   ]
  },
  {
   "cell_type": "code",
   "execution_count": 35,
   "id": "0583188a",
   "metadata": {},
   "outputs": [],
   "source": [
    "model6 = knn.fit(x_test,y_test)"
   ]
  },
  {
   "cell_type": "code",
   "execution_count": 36,
   "id": "1f4e175c",
   "metadata": {},
   "outputs": [],
   "source": [
    "y6_pred = model6.predict(x_test)"
   ]
  },
  {
   "cell_type": "code",
   "execution_count": 37,
   "id": "ac16aa34",
   "metadata": {},
   "outputs": [
    {
     "data": {
      "text/plain": [
       "0.9974877164937322"
      ]
     },
     "execution_count": 37,
     "metadata": {},
     "output_type": "execute_result"
    }
   ],
   "source": [
    "# Checking the R2 value\n",
    "r2_score6 = r2_score(y_test, y6_pred)\n",
    "r2_score6"
   ]
  },
  {
   "cell_type": "code",
   "execution_count": 38,
   "id": "0e16b42f",
   "metadata": {},
   "outputs": [
    {
     "data": {
      "text/plain": [
       "7.079940896699334"
      ]
     },
     "execution_count": 38,
     "metadata": {},
     "output_type": "execute_result"
    }
   ],
   "source": [
    "# Checking for RMSE score\n",
    "rmse6 = sqrt(mean_squared_error(y_test, y6_pred))\n",
    "rmse6"
   ]
  },
  {
   "cell_type": "markdown",
   "id": "321f8a19",
   "metadata": {},
   "source": [
    "* For KNN Regression Hyper parameter tuning has done.\n",
    "* With default hyperparameter tuning , R2 = 0.57, RMSE = 91.77\n",
    "* With n_neighbors=3, weights='uniform', algorithm='auto', leaf_size=30, then R2 = 0.69, RMSE = 77.52\n",
    "* with n_neighbors=3, weights='distance', algorithm='auto', leaf_size=30, then R2 = 0.99, RMSE = 7.07"
   ]
  },
  {
   "cell_type": "markdown",
   "id": "370fd4c3",
   "metadata": {},
   "source": [
    "___REAL TIME PREDICTION___"
   ]
  },
  {
   "cell_type": "code",
   "execution_count": 39,
   "id": "fde58ec0",
   "metadata": {},
   "outputs": [],
   "source": [
    "import joblib\n",
    "dump = joblib.dump(knn, 'knn_house_price_estimator.pkl')"
   ]
  },
  {
   "cell_type": "code",
   "execution_count": 40,
   "id": "4d5a69fd",
   "metadata": {},
   "outputs": [],
   "source": [
    "load = joblib.load('knn_house_price_estimator.pkl')"
   ]
  },
  {
   "cell_type": "code",
   "execution_count": 41,
   "id": "02ed7ee1",
   "metadata": {},
   "outputs": [
    {
     "data": {
      "text/html": [
       "<div>\n",
       "<style scoped>\n",
       "    .dataframe tbody tr th:only-of-type {\n",
       "        vertical-align: middle;\n",
       "    }\n",
       "\n",
       "    .dataframe tbody tr th {\n",
       "        vertical-align: top;\n",
       "    }\n",
       "\n",
       "    .dataframe thead th {\n",
       "        text-align: right;\n",
       "    }\n",
       "</style>\n",
       "<table border=\"1\" class=\"dataframe\">\n",
       "  <thead>\n",
       "    <tr style=\"text-align: right;\">\n",
       "      <th></th>\n",
       "      <th>area_type</th>\n",
       "      <th>availability</th>\n",
       "      <th>location</th>\n",
       "      <th>size</th>\n",
       "      <th>bath</th>\n",
       "      <th>balcony</th>\n",
       "      <th>Area_sqft</th>\n",
       "    </tr>\n",
       "  </thead>\n",
       "  <tbody>\n",
       "    <tr>\n",
       "      <th>0</th>\n",
       "      <td>Super built-up  Area</td>\n",
       "      <td>19-Dec</td>\n",
       "      <td>Electronic City Phase II</td>\n",
       "      <td>2 BHK</td>\n",
       "      <td>2.0</td>\n",
       "      <td>1.0</td>\n",
       "      <td>1056</td>\n",
       "    </tr>\n",
       "  </tbody>\n",
       "</table>\n",
       "</div>"
      ],
      "text/plain": [
       "              area_type availability                  location   size  bath  \\\n",
       "0  Super built-up  Area       19-Dec  Electronic City Phase II  2 BHK   2.0   \n",
       "\n",
       "   balcony  Area_sqft  \n",
       "0      1.0       1056  "
      ]
     },
     "execution_count": 41,
     "metadata": {},
     "output_type": "execute_result"
    }
   ],
   "source": [
    "test = x.head(1)\n",
    "test"
   ]
  },
  {
   "cell_type": "code",
   "execution_count": 42,
   "id": "9b90adb2",
   "metadata": {},
   "outputs": [
    {
     "data": {
      "text/plain": [
       "array([39.07])"
      ]
     },
     "execution_count": 42,
     "metadata": {},
     "output_type": "execute_result"
    }
   ],
   "source": [
    "result = load.predict(test)\n",
    "result"
   ]
  },
  {
   "cell_type": "markdown",
   "id": "c27bb407",
   "metadata": {},
   "source": [
    "### CONCLUSION"
   ]
  },
  {
   "cell_type": "markdown",
   "id": "9673cd9a",
   "metadata": {},
   "source": [
    "* In this Project i've done feature engineering Techniques like StandardScaler, ColumnTransformer, SimpleImputer, OneHotEncoder in single pipe line using scikit-learn pipeline.\n",
    "\n",
    "* Regression Algorithms has been applied, among all KNN Regressor was selected based on R2 score 0.99 and RMSE Score 7.07. These  are the best scores among all. \n",
    "\n",
    "* Ideally, lower RMSE and higher R-squared values are indicative of a good model. \n",
    "\n",
    "* The RMSE value 7.07 tells us that the average deviation between the predicted house price made by the model and the actual house price.\n",
    "\n",
    "* The R2 value tells us that the predictor variables in the model (square footage, bathrooms, and bedrooms) are able to explain 99.7 % of the variation in the house prices.\n",
    "\n",
    "* Based on above scores i used to download KNN model for real time prediction."
   ]
  },
  {
   "cell_type": "code",
   "execution_count": null,
   "id": "7e2fec0c",
   "metadata": {},
   "outputs": [],
   "source": []
  }
 ],
 "metadata": {
  "kernelspec": {
   "display_name": "Python 3 (ipykernel)",
   "language": "python",
   "name": "python3"
  },
  "language_info": {
   "codemirror_mode": {
    "name": "ipython",
    "version": 3
   },
   "file_extension": ".py",
   "mimetype": "text/x-python",
   "name": "python",
   "nbconvert_exporter": "python",
   "pygments_lexer": "ipython3",
   "version": "3.9.12"
  }
 },
 "nbformat": 4,
 "nbformat_minor": 5
}
