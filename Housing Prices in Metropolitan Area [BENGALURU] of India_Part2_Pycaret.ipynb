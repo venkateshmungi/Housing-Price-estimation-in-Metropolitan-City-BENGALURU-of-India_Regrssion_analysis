{
 "cells": [
  {
   "cell_type": "markdown",
   "id": "75e58d0a",
   "metadata": {},
   "source": [
    "<p style=\"background-color:lightgreen;font-family:newtimeroman;font-size:22px;line-height:1.7em;text-align:center;border-radius:5px 5px\">Housing Price estimation in Metropolitan City [BENGALURU] of India_Part_2_Pycaret</p>"
   ]
  },
  {
   "cell_type": "code",
   "execution_count": 1,
   "id": "b1434cca",
   "metadata": {},
   "outputs": [],
   "source": [
    "# Importing Pre-Required Libraries\n",
    "import pandas as pd\n",
    "import numpy as np\n",
    "import matplotlib.pyplot as plt\n",
    "import seaborn as sns\n",
    "import pycaret\n",
    "import sklearn"
   ]
  },
  {
   "cell_type": "code",
   "execution_count": 2,
   "id": "7ce86704",
   "metadata": {},
   "outputs": [
    {
     "data": {
      "text/html": [
       "<div>\n",
       "<style scoped>\n",
       "    .dataframe tbody tr th:only-of-type {\n",
       "        vertical-align: middle;\n",
       "    }\n",
       "\n",
       "    .dataframe tbody tr th {\n",
       "        vertical-align: top;\n",
       "    }\n",
       "\n",
       "    .dataframe thead th {\n",
       "        text-align: right;\n",
       "    }\n",
       "</style>\n",
       "<table border=\"1\" class=\"dataframe\">\n",
       "  <thead>\n",
       "    <tr style=\"text-align: right;\">\n",
       "      <th></th>\n",
       "      <th>Unnamed: 0</th>\n",
       "      <th>area_type</th>\n",
       "      <th>availability</th>\n",
       "      <th>location</th>\n",
       "      <th>size</th>\n",
       "      <th>bath</th>\n",
       "      <th>balcony</th>\n",
       "      <th>Area_sqft</th>\n",
       "      <th>price</th>\n",
       "    </tr>\n",
       "  </thead>\n",
       "  <tbody>\n",
       "    <tr>\n",
       "      <th>0</th>\n",
       "      <td>0</td>\n",
       "      <td>Super built-up  Area</td>\n",
       "      <td>19-Dec</td>\n",
       "      <td>Electronic City Phase II</td>\n",
       "      <td>2 BHK</td>\n",
       "      <td>2.0</td>\n",
       "      <td>1.0</td>\n",
       "      <td>1056</td>\n",
       "      <td>39.07</td>\n",
       "    </tr>\n",
       "    <tr>\n",
       "      <th>1</th>\n",
       "      <td>1</td>\n",
       "      <td>Plot  Area</td>\n",
       "      <td>Ready To Move</td>\n",
       "      <td>Chikka Tirupathi</td>\n",
       "      <td>4 BHK</td>\n",
       "      <td>5.0</td>\n",
       "      <td>3.0</td>\n",
       "      <td>2600</td>\n",
       "      <td>120.00</td>\n",
       "    </tr>\n",
       "    <tr>\n",
       "      <th>2</th>\n",
       "      <td>2</td>\n",
       "      <td>Built-up  Area</td>\n",
       "      <td>Ready To Move</td>\n",
       "      <td>Uttarahalli</td>\n",
       "      <td>3 BHK</td>\n",
       "      <td>2.0</td>\n",
       "      <td>3.0</td>\n",
       "      <td>1440</td>\n",
       "      <td>62.00</td>\n",
       "    </tr>\n",
       "    <tr>\n",
       "      <th>3</th>\n",
       "      <td>3</td>\n",
       "      <td>Super built-up  Area</td>\n",
       "      <td>Ready To Move</td>\n",
       "      <td>Lingadheeranahalli</td>\n",
       "      <td>3 BHK</td>\n",
       "      <td>3.0</td>\n",
       "      <td>1.0</td>\n",
       "      <td>1521</td>\n",
       "      <td>95.00</td>\n",
       "    </tr>\n",
       "    <tr>\n",
       "      <th>4</th>\n",
       "      <td>4</td>\n",
       "      <td>Super built-up  Area</td>\n",
       "      <td>Ready To Move</td>\n",
       "      <td>Kothanur</td>\n",
       "      <td>2 BHK</td>\n",
       "      <td>2.0</td>\n",
       "      <td>1.0</td>\n",
       "      <td>1200</td>\n",
       "      <td>51.00</td>\n",
       "    </tr>\n",
       "  </tbody>\n",
       "</table>\n",
       "</div>"
      ],
      "text/plain": [
       "   Unnamed: 0             area_type   availability                  location  \\\n",
       "0           0  Super built-up  Area         19-Dec  Electronic City Phase II   \n",
       "1           1            Plot  Area  Ready To Move          Chikka Tirupathi   \n",
       "2           2        Built-up  Area  Ready To Move               Uttarahalli   \n",
       "3           3  Super built-up  Area  Ready To Move        Lingadheeranahalli   \n",
       "4           4  Super built-up  Area  Ready To Move                  Kothanur   \n",
       "\n",
       "    size  bath  balcony  Area_sqft   price  \n",
       "0  2 BHK   2.0      1.0       1056   39.07  \n",
       "1  4 BHK   5.0      3.0       2600  120.00  \n",
       "2  3 BHK   2.0      3.0       1440   62.00  \n",
       "3  3 BHK   3.0      1.0       1521   95.00  \n",
       "4  2 BHK   2.0      1.0       1200   51.00  "
      ]
     },
     "execution_count": 2,
     "metadata": {},
     "output_type": "execute_result"
    }
   ],
   "source": [
    "# Loading Dataset\n",
    "df = pd.read_csv(r\"C:\\PYTHON\\AI_ML\\Machine_Learning_Projects\\Banglorehouseprice\\cleaned_data_of_bengaluru_house.csv\")\n",
    "df.head()"
   ]
  },
  {
   "cell_type": "code",
   "execution_count": 3,
   "id": "185a6308",
   "metadata": {},
   "outputs": [
    {
     "data": {
      "text/html": [
       "<div>\n",
       "<style scoped>\n",
       "    .dataframe tbody tr th:only-of-type {\n",
       "        vertical-align: middle;\n",
       "    }\n",
       "\n",
       "    .dataframe tbody tr th {\n",
       "        vertical-align: top;\n",
       "    }\n",
       "\n",
       "    .dataframe thead th {\n",
       "        text-align: right;\n",
       "    }\n",
       "</style>\n",
       "<table border=\"1\" class=\"dataframe\">\n",
       "  <thead>\n",
       "    <tr style=\"text-align: right;\">\n",
       "      <th></th>\n",
       "      <th>area_type</th>\n",
       "      <th>availability</th>\n",
       "      <th>location</th>\n",
       "      <th>size</th>\n",
       "      <th>bath</th>\n",
       "      <th>balcony</th>\n",
       "      <th>Area_sqft</th>\n",
       "      <th>price</th>\n",
       "    </tr>\n",
       "  </thead>\n",
       "  <tbody>\n",
       "    <tr>\n",
       "      <th>0</th>\n",
       "      <td>Super built-up  Area</td>\n",
       "      <td>19-Dec</td>\n",
       "      <td>Electronic City Phase II</td>\n",
       "      <td>2 BHK</td>\n",
       "      <td>2.0</td>\n",
       "      <td>1.0</td>\n",
       "      <td>1056</td>\n",
       "      <td>39.07</td>\n",
       "    </tr>\n",
       "    <tr>\n",
       "      <th>1</th>\n",
       "      <td>Plot  Area</td>\n",
       "      <td>Ready To Move</td>\n",
       "      <td>Chikka Tirupathi</td>\n",
       "      <td>4 BHK</td>\n",
       "      <td>5.0</td>\n",
       "      <td>3.0</td>\n",
       "      <td>2600</td>\n",
       "      <td>120.00</td>\n",
       "    </tr>\n",
       "    <tr>\n",
       "      <th>2</th>\n",
       "      <td>Built-up  Area</td>\n",
       "      <td>Ready To Move</td>\n",
       "      <td>Uttarahalli</td>\n",
       "      <td>3 BHK</td>\n",
       "      <td>2.0</td>\n",
       "      <td>3.0</td>\n",
       "      <td>1440</td>\n",
       "      <td>62.00</td>\n",
       "    </tr>\n",
       "    <tr>\n",
       "      <th>3</th>\n",
       "      <td>Super built-up  Area</td>\n",
       "      <td>Ready To Move</td>\n",
       "      <td>Lingadheeranahalli</td>\n",
       "      <td>3 BHK</td>\n",
       "      <td>3.0</td>\n",
       "      <td>1.0</td>\n",
       "      <td>1521</td>\n",
       "      <td>95.00</td>\n",
       "    </tr>\n",
       "    <tr>\n",
       "      <th>4</th>\n",
       "      <td>Super built-up  Area</td>\n",
       "      <td>Ready To Move</td>\n",
       "      <td>Kothanur</td>\n",
       "      <td>2 BHK</td>\n",
       "      <td>2.0</td>\n",
       "      <td>1.0</td>\n",
       "      <td>1200</td>\n",
       "      <td>51.00</td>\n",
       "    </tr>\n",
       "  </tbody>\n",
       "</table>\n",
       "</div>"
      ],
      "text/plain": [
       "              area_type   availability                  location   size  bath  \\\n",
       "0  Super built-up  Area         19-Dec  Electronic City Phase II  2 BHK   2.0   \n",
       "1            Plot  Area  Ready To Move          Chikka Tirupathi  4 BHK   5.0   \n",
       "2        Built-up  Area  Ready To Move               Uttarahalli  3 BHK   2.0   \n",
       "3  Super built-up  Area  Ready To Move        Lingadheeranahalli  3 BHK   3.0   \n",
       "4  Super built-up  Area  Ready To Move                  Kothanur  2 BHK   2.0   \n",
       "\n",
       "   balcony  Area_sqft   price  \n",
       "0      1.0       1056   39.07  \n",
       "1      3.0       2600  120.00  \n",
       "2      3.0       1440   62.00  \n",
       "3      1.0       1521   95.00  \n",
       "4      1.0       1200   51.00  "
      ]
     },
     "execution_count": 3,
     "metadata": {},
     "output_type": "execute_result"
    }
   ],
   "source": [
    "# To drop the Unnamed Column from dataframe\n",
    "data = df.loc[:,~df.columns.str.match(\"Unnamed\")]\n",
    "data.head()"
   ]
  },
  {
   "cell_type": "code",
   "execution_count": 4,
   "id": "fd825099",
   "metadata": {},
   "outputs": [
    {
     "data": {
      "text/plain": [
       "(13304, 8)"
      ]
     },
     "execution_count": 4,
     "metadata": {},
     "output_type": "execute_result"
    }
   ],
   "source": [
    "#check the shape of data\n",
    "data.shape"
   ]
  },
  {
   "cell_type": "markdown",
   "id": "ff00cdf6",
   "metadata": {},
   "source": [
    "In order to demonstrate the predict_model() function on unseen data, a sample of 1330 has been withheld from the original dataset to be used for predictions. This should not be confused with a train/test split as this particular split is performed to simulate a real life scenario. Another way to think about this is that these 1330 records were not available at the time when the machine learning experiment was performed."
   ]
  },
  {
   "cell_type": "code",
   "execution_count": 5,
   "id": "84204d98",
   "metadata": {},
   "outputs": [
    {
     "name": "stdout",
     "output_type": "stream",
     "text": [
      "Data for Modeling: (11974, 8)\n",
      "Unseen Data For Predictions (1330, 8)\n"
     ]
    }
   ],
   "source": [
    "new_data = data.sample(frac=0.9, random_state=786)\n",
    "data_unseen = data.drop(new_data.index)\n",
    "\n",
    "new_data.reset_index(drop=True, inplace=True)\n",
    "data_unseen.reset_index(drop=True, inplace=True)\n",
    "\n",
    "print('Data for Modeling: ' + str(new_data.shape))\n",
    "print('Unseen Data For Predictions ' + str(data_unseen.shape))"
   ]
  },
  {
   "cell_type": "markdown",
   "id": "60f499db",
   "metadata": {},
   "source": [
    "___SETTING UP ENVIRONMENT IN PyCaret___"
   ]
  },
  {
   "cell_type": "code",
   "execution_count": 6,
   "id": "57c0be2d",
   "metadata": {},
   "outputs": [],
   "source": [
    "from pycaret.regression import *"
   ]
  },
  {
   "cell_type": "code",
   "execution_count": 7,
   "id": "36b872f1",
   "metadata": {},
   "outputs": [
    {
     "data": {
      "text/html": [
       "<style type=\"text/css\">\n",
       "#T_144fd_row8_col1 {\n",
       "  background-color: lightgreen;\n",
       "}\n",
       "</style>\n",
       "<table id=\"T_144fd\">\n",
       "  <thead>\n",
       "    <tr>\n",
       "      <th class=\"blank level0\" >&nbsp;</th>\n",
       "      <th id=\"T_144fd_level0_col0\" class=\"col_heading level0 col0\" >Description</th>\n",
       "      <th id=\"T_144fd_level0_col1\" class=\"col_heading level0 col1\" >Value</th>\n",
       "    </tr>\n",
       "  </thead>\n",
       "  <tbody>\n",
       "    <tr>\n",
       "      <th id=\"T_144fd_level0_row0\" class=\"row_heading level0 row0\" >0</th>\n",
       "      <td id=\"T_144fd_row0_col0\" class=\"data row0 col0\" >Session id</td>\n",
       "      <td id=\"T_144fd_row0_col1\" class=\"data row0 col1\" >123</td>\n",
       "    </tr>\n",
       "    <tr>\n",
       "      <th id=\"T_144fd_level0_row1\" class=\"row_heading level0 row1\" >1</th>\n",
       "      <td id=\"T_144fd_row1_col0\" class=\"data row1 col0\" >Target</td>\n",
       "      <td id=\"T_144fd_row1_col1\" class=\"data row1 col1\" >price</td>\n",
       "    </tr>\n",
       "    <tr>\n",
       "      <th id=\"T_144fd_level0_row2\" class=\"row_heading level0 row2\" >2</th>\n",
       "      <td id=\"T_144fd_row2_col0\" class=\"data row2 col0\" >Target type</td>\n",
       "      <td id=\"T_144fd_row2_col1\" class=\"data row2 col1\" >Regression</td>\n",
       "    </tr>\n",
       "    <tr>\n",
       "      <th id=\"T_144fd_level0_row3\" class=\"row_heading level0 row3\" >3</th>\n",
       "      <td id=\"T_144fd_row3_col0\" class=\"data row3 col0\" >Data shape</td>\n",
       "      <td id=\"T_144fd_row3_col1\" class=\"data row3 col1\" >(11974, 28)</td>\n",
       "    </tr>\n",
       "    <tr>\n",
       "      <th id=\"T_144fd_level0_row4\" class=\"row_heading level0 row4\" >4</th>\n",
       "      <td id=\"T_144fd_row4_col0\" class=\"data row4 col0\" >Train data shape</td>\n",
       "      <td id=\"T_144fd_row4_col1\" class=\"data row4 col1\" >(8381, 28)</td>\n",
       "    </tr>\n",
       "    <tr>\n",
       "      <th id=\"T_144fd_level0_row5\" class=\"row_heading level0 row5\" >5</th>\n",
       "      <td id=\"T_144fd_row5_col0\" class=\"data row5 col0\" >Test data shape</td>\n",
       "      <td id=\"T_144fd_row5_col1\" class=\"data row5 col1\" >(3593, 28)</td>\n",
       "    </tr>\n",
       "    <tr>\n",
       "      <th id=\"T_144fd_level0_row6\" class=\"row_heading level0 row6\" >6</th>\n",
       "      <td id=\"T_144fd_row6_col0\" class=\"data row6 col0\" >Numeric features</td>\n",
       "      <td id=\"T_144fd_row6_col1\" class=\"data row6 col1\" >3</td>\n",
       "    </tr>\n",
       "    <tr>\n",
       "      <th id=\"T_144fd_level0_row7\" class=\"row_heading level0 row7\" >7</th>\n",
       "      <td id=\"T_144fd_row7_col0\" class=\"data row7 col0\" >Categorical features</td>\n",
       "      <td id=\"T_144fd_row7_col1\" class=\"data row7 col1\" >4</td>\n",
       "    </tr>\n",
       "    <tr>\n",
       "      <th id=\"T_144fd_level0_row8\" class=\"row_heading level0 row8\" >8</th>\n",
       "      <td id=\"T_144fd_row8_col0\" class=\"data row8 col0\" >Preprocess</td>\n",
       "      <td id=\"T_144fd_row8_col1\" class=\"data row8 col1\" >1</td>\n",
       "    </tr>\n",
       "    <tr>\n",
       "      <th id=\"T_144fd_level0_row9\" class=\"row_heading level0 row9\" >9</th>\n",
       "      <td id=\"T_144fd_row9_col0\" class=\"data row9 col0\" >Imputation type</td>\n",
       "      <td id=\"T_144fd_row9_col1\" class=\"data row9 col1\" >simple</td>\n",
       "    </tr>\n",
       "    <tr>\n",
       "      <th id=\"T_144fd_level0_row10\" class=\"row_heading level0 row10\" >10</th>\n",
       "      <td id=\"T_144fd_row10_col0\" class=\"data row10 col0\" >Numeric imputation</td>\n",
       "      <td id=\"T_144fd_row10_col1\" class=\"data row10 col1\" >mean</td>\n",
       "    </tr>\n",
       "    <tr>\n",
       "      <th id=\"T_144fd_level0_row11\" class=\"row_heading level0 row11\" >11</th>\n",
       "      <td id=\"T_144fd_row11_col0\" class=\"data row11 col0\" >Categorical imputation</td>\n",
       "      <td id=\"T_144fd_row11_col1\" class=\"data row11 col1\" >mode</td>\n",
       "    </tr>\n",
       "    <tr>\n",
       "      <th id=\"T_144fd_level0_row12\" class=\"row_heading level0 row12\" >12</th>\n",
       "      <td id=\"T_144fd_row12_col0\" class=\"data row12 col0\" >Maximum one-hot encoding</td>\n",
       "      <td id=\"T_144fd_row12_col1\" class=\"data row12 col1\" >25</td>\n",
       "    </tr>\n",
       "    <tr>\n",
       "      <th id=\"T_144fd_level0_row13\" class=\"row_heading level0 row13\" >13</th>\n",
       "      <td id=\"T_144fd_row13_col0\" class=\"data row13 col0\" >Encoding method</td>\n",
       "      <td id=\"T_144fd_row13_col1\" class=\"data row13 col1\" >None</td>\n",
       "    </tr>\n",
       "    <tr>\n",
       "      <th id=\"T_144fd_level0_row14\" class=\"row_heading level0 row14\" >14</th>\n",
       "      <td id=\"T_144fd_row14_col0\" class=\"data row14 col0\" >Fold Generator</td>\n",
       "      <td id=\"T_144fd_row14_col1\" class=\"data row14 col1\" >KFold</td>\n",
       "    </tr>\n",
       "    <tr>\n",
       "      <th id=\"T_144fd_level0_row15\" class=\"row_heading level0 row15\" >15</th>\n",
       "      <td id=\"T_144fd_row15_col0\" class=\"data row15 col0\" >Fold Number</td>\n",
       "      <td id=\"T_144fd_row15_col1\" class=\"data row15 col1\" >10</td>\n",
       "    </tr>\n",
       "    <tr>\n",
       "      <th id=\"T_144fd_level0_row16\" class=\"row_heading level0 row16\" >16</th>\n",
       "      <td id=\"T_144fd_row16_col0\" class=\"data row16 col0\" >CPU Jobs</td>\n",
       "      <td id=\"T_144fd_row16_col1\" class=\"data row16 col1\" >-1</td>\n",
       "    </tr>\n",
       "    <tr>\n",
       "      <th id=\"T_144fd_level0_row17\" class=\"row_heading level0 row17\" >17</th>\n",
       "      <td id=\"T_144fd_row17_col0\" class=\"data row17 col0\" >Use GPU</td>\n",
       "      <td id=\"T_144fd_row17_col1\" class=\"data row17 col1\" >0</td>\n",
       "    </tr>\n",
       "    <tr>\n",
       "      <th id=\"T_144fd_level0_row18\" class=\"row_heading level0 row18\" >18</th>\n",
       "      <td id=\"T_144fd_row18_col0\" class=\"data row18 col0\" >Log Experiment</td>\n",
       "      <td id=\"T_144fd_row18_col1\" class=\"data row18 col1\" >0</td>\n",
       "    </tr>\n",
       "    <tr>\n",
       "      <th id=\"T_144fd_level0_row19\" class=\"row_heading level0 row19\" >19</th>\n",
       "      <td id=\"T_144fd_row19_col0\" class=\"data row19 col0\" >Experiment Name</td>\n",
       "      <td id=\"T_144fd_row19_col1\" class=\"data row19 col1\" >reg-default-name</td>\n",
       "    </tr>\n",
       "    <tr>\n",
       "      <th id=\"T_144fd_level0_row20\" class=\"row_heading level0 row20\" >20</th>\n",
       "      <td id=\"T_144fd_row20_col0\" class=\"data row20 col0\" >USI</td>\n",
       "      <td id=\"T_144fd_row20_col1\" class=\"data row20 col1\" >f022</td>\n",
       "    </tr>\n",
       "  </tbody>\n",
       "</table>\n"
      ],
      "text/plain": [
       "<pandas.io.formats.style.Styler at 0x2510e36fc70>"
      ]
     },
     "metadata": {},
     "output_type": "display_data"
    }
   ],
   "source": [
    "house_regr = setup(data = new_data, target = 'price', session_id=123) "
   ]
  },
  {
   "cell_type": "markdown",
   "id": "55bbf48b",
   "metadata": {},
   "source": [
    "___COMPARING ALL MODELS___"
   ]
  },
  {
   "cell_type": "code",
   "execution_count": 8,
   "id": "0088cf35",
   "metadata": {},
   "outputs": [
    {
     "data": {
      "text/html": [],
      "text/plain": [
       "<IPython.core.display.HTML object>"
      ]
     },
     "metadata": {},
     "output_type": "display_data"
    },
    {
     "data": {
      "text/html": [
       "<style type=\"text/css\">\n",
       "#T_d6573 th {\n",
       "  text-align: left;\n",
       "}\n",
       "#T_d6573_row0_col0, #T_d6573_row0_col6, #T_d6573_row1_col0, #T_d6573_row1_col1, #T_d6573_row1_col2, #T_d6573_row1_col3, #T_d6573_row1_col4, #T_d6573_row1_col5, #T_d6573_row2_col0, #T_d6573_row2_col1, #T_d6573_row2_col2, #T_d6573_row2_col3, #T_d6573_row2_col4, #T_d6573_row2_col5, #T_d6573_row2_col6, #T_d6573_row3_col0, #T_d6573_row3_col1, #T_d6573_row3_col2, #T_d6573_row3_col3, #T_d6573_row3_col4, #T_d6573_row3_col5, #T_d6573_row3_col6, #T_d6573_row4_col0, #T_d6573_row4_col1, #T_d6573_row4_col2, #T_d6573_row4_col3, #T_d6573_row4_col4, #T_d6573_row4_col5, #T_d6573_row4_col6, #T_d6573_row5_col0, #T_d6573_row5_col1, #T_d6573_row5_col2, #T_d6573_row5_col3, #T_d6573_row5_col4, #T_d6573_row5_col5, #T_d6573_row5_col6, #T_d6573_row6_col0, #T_d6573_row6_col1, #T_d6573_row6_col2, #T_d6573_row6_col3, #T_d6573_row6_col4, #T_d6573_row6_col5, #T_d6573_row6_col6, #T_d6573_row7_col0, #T_d6573_row7_col1, #T_d6573_row7_col2, #T_d6573_row7_col3, #T_d6573_row7_col4, #T_d6573_row7_col5, #T_d6573_row7_col6, #T_d6573_row8_col0, #T_d6573_row8_col1, #T_d6573_row8_col2, #T_d6573_row8_col3, #T_d6573_row8_col4, #T_d6573_row8_col5, #T_d6573_row8_col6, #T_d6573_row9_col0, #T_d6573_row9_col1, #T_d6573_row9_col2, #T_d6573_row9_col3, #T_d6573_row9_col4, #T_d6573_row9_col5, #T_d6573_row9_col6, #T_d6573_row10_col0, #T_d6573_row10_col1, #T_d6573_row10_col2, #T_d6573_row10_col3, #T_d6573_row10_col4, #T_d6573_row10_col5, #T_d6573_row10_col6, #T_d6573_row11_col0, #T_d6573_row11_col1, #T_d6573_row11_col2, #T_d6573_row11_col3, #T_d6573_row11_col4, #T_d6573_row11_col5, #T_d6573_row11_col6, #T_d6573_row12_col0, #T_d6573_row12_col1, #T_d6573_row12_col2, #T_d6573_row12_col3, #T_d6573_row12_col4, #T_d6573_row12_col5, #T_d6573_row12_col6, #T_d6573_row13_col0, #T_d6573_row13_col1, #T_d6573_row13_col2, #T_d6573_row13_col3, #T_d6573_row13_col4, #T_d6573_row13_col5, #T_d6573_row13_col6, #T_d6573_row14_col0, #T_d6573_row14_col1, #T_d6573_row14_col2, #T_d6573_row14_col3, #T_d6573_row14_col4, #T_d6573_row14_col5, #T_d6573_row14_col6, #T_d6573_row15_col0, #T_d6573_row15_col1, #T_d6573_row15_col2, #T_d6573_row15_col3, #T_d6573_row15_col4, #T_d6573_row15_col5, #T_d6573_row15_col6, #T_d6573_row16_col0, #T_d6573_row16_col1, #T_d6573_row16_col2, #T_d6573_row16_col3, #T_d6573_row16_col4, #T_d6573_row16_col5, #T_d6573_row16_col6, #T_d6573_row17_col0, #T_d6573_row17_col1, #T_d6573_row17_col2, #T_d6573_row17_col3, #T_d6573_row17_col4, #T_d6573_row17_col5, #T_d6573_row17_col6, #T_d6573_row18_col0, #T_d6573_row18_col1, #T_d6573_row18_col2, #T_d6573_row18_col3, #T_d6573_row18_col4, #T_d6573_row18_col5, #T_d6573_row18_col6 {\n",
       "  text-align: left;\n",
       "}\n",
       "#T_d6573_row0_col1, #T_d6573_row0_col2, #T_d6573_row0_col3, #T_d6573_row0_col4, #T_d6573_row0_col5, #T_d6573_row1_col6 {\n",
       "  text-align: left;\n",
       "  background-color: yellow;\n",
       "}\n",
       "#T_d6573_row0_col7, #T_d6573_row1_col7, #T_d6573_row2_col7, #T_d6573_row3_col7, #T_d6573_row4_col7, #T_d6573_row5_col7, #T_d6573_row6_col7, #T_d6573_row7_col7, #T_d6573_row8_col7, #T_d6573_row9_col7, #T_d6573_row11_col7, #T_d6573_row12_col7, #T_d6573_row13_col7, #T_d6573_row14_col7, #T_d6573_row15_col7, #T_d6573_row16_col7, #T_d6573_row17_col7, #T_d6573_row18_col7 {\n",
       "  text-align: left;\n",
       "  background-color: lightgrey;\n",
       "}\n",
       "#T_d6573_row10_col7 {\n",
       "  text-align: left;\n",
       "  background-color: yellow;\n",
       "  background-color: lightgrey;\n",
       "}\n",
       "</style>\n",
       "<table id=\"T_d6573\">\n",
       "  <thead>\n",
       "    <tr>\n",
       "      <th class=\"blank level0\" >&nbsp;</th>\n",
       "      <th id=\"T_d6573_level0_col0\" class=\"col_heading level0 col0\" >Model</th>\n",
       "      <th id=\"T_d6573_level0_col1\" class=\"col_heading level0 col1\" >MAE</th>\n",
       "      <th id=\"T_d6573_level0_col2\" class=\"col_heading level0 col2\" >MSE</th>\n",
       "      <th id=\"T_d6573_level0_col3\" class=\"col_heading level0 col3\" >RMSE</th>\n",
       "      <th id=\"T_d6573_level0_col4\" class=\"col_heading level0 col4\" >R2</th>\n",
       "      <th id=\"T_d6573_level0_col5\" class=\"col_heading level0 col5\" >RMSLE</th>\n",
       "      <th id=\"T_d6573_level0_col6\" class=\"col_heading level0 col6\" >MAPE</th>\n",
       "      <th id=\"T_d6573_level0_col7\" class=\"col_heading level0 col7\" >TT (Sec)</th>\n",
       "    </tr>\n",
       "  </thead>\n",
       "  <tbody>\n",
       "    <tr>\n",
       "      <th id=\"T_d6573_level0_row0\" class=\"row_heading level0 row0\" >et</th>\n",
       "      <td id=\"T_d6573_row0_col0\" class=\"data row0 col0\" >Extra Trees Regressor</td>\n",
       "      <td id=\"T_d6573_row0_col1\" class=\"data row0 col1\" >38.3847</td>\n",
       "      <td id=\"T_d6573_row0_col2\" class=\"data row0 col2\" >10021.5839</td>\n",
       "      <td id=\"T_d6573_row0_col3\" class=\"data row0 col3\" >97.3408</td>\n",
       "      <td id=\"T_d6573_row0_col4\" class=\"data row0 col4\" >0.5814</td>\n",
       "      <td id=\"T_d6573_row0_col5\" class=\"data row0 col5\" >0.3987</td>\n",
       "      <td id=\"T_d6573_row0_col6\" class=\"data row0 col6\" >0.3604</td>\n",
       "      <td id=\"T_d6573_row0_col7\" class=\"data row0 col7\" >0.5087</td>\n",
       "    </tr>\n",
       "    <tr>\n",
       "      <th id=\"T_d6573_level0_row1\" class=\"row_heading level0 row1\" >knn</th>\n",
       "      <td id=\"T_d6573_row1_col0\" class=\"data row1 col0\" >K Neighbors Regressor</td>\n",
       "      <td id=\"T_d6573_row1_col1\" class=\"data row1 col1\" >38.8061</td>\n",
       "      <td id=\"T_d6573_row1_col2\" class=\"data row1 col2\" >11927.4208</td>\n",
       "      <td id=\"T_d6573_row1_col3\" class=\"data row1 col3\" >106.9622</td>\n",
       "      <td id=\"T_d6573_row1_col4\" class=\"data row1 col4\" >0.4917</td>\n",
       "      <td id=\"T_d6573_row1_col5\" class=\"data row1 col5\" >0.4022</td>\n",
       "      <td id=\"T_d6573_row1_col6\" class=\"data row1 col6\" >0.3360</td>\n",
       "      <td id=\"T_d6573_row1_col7\" class=\"data row1 col7\" >0.0593</td>\n",
       "    </tr>\n",
       "    <tr>\n",
       "      <th id=\"T_d6573_level0_row2\" class=\"row_heading level0 row2\" >gbr</th>\n",
       "      <td id=\"T_d6573_row2_col0\" class=\"data row2 col0\" >Gradient Boosting Regressor</td>\n",
       "      <td id=\"T_d6573_row2_col1\" class=\"data row2 col1\" >55.0123</td>\n",
       "      <td id=\"T_d6573_row2_col2\" class=\"data row2 col2\" >13466.2694</td>\n",
       "      <td id=\"T_d6573_row2_col3\" class=\"data row2 col3\" >114.0718</td>\n",
       "      <td id=\"T_d6573_row2_col4\" class=\"data row2 col4\" >0.4227</td>\n",
       "      <td id=\"T_d6573_row2_col5\" class=\"data row2 col5\" >0.5910</td>\n",
       "      <td id=\"T_d6573_row2_col6\" class=\"data row2 col6\" >0.6355</td>\n",
       "      <td id=\"T_d6573_row2_col7\" class=\"data row2 col7\" >0.2240</td>\n",
       "    </tr>\n",
       "    <tr>\n",
       "      <th id=\"T_d6573_level0_row3\" class=\"row_heading level0 row3\" >lightgbm</th>\n",
       "      <td id=\"T_d6573_row3_col0\" class=\"data row3 col0\" >Light Gradient Boosting Machine</td>\n",
       "      <td id=\"T_d6573_row3_col1\" class=\"data row3 col1\" >63.0743</td>\n",
       "      <td id=\"T_d6573_row3_col2\" class=\"data row3 col2\" >13479.7588</td>\n",
       "      <td id=\"T_d6573_row3_col3\" class=\"data row3 col3\" >115.0531</td>\n",
       "      <td id=\"T_d6573_row3_col4\" class=\"data row3 col4\" >0.3987</td>\n",
       "      <td id=\"T_d6573_row3_col5\" class=\"data row3 col5\" >0.6864</td>\n",
       "      <td id=\"T_d6573_row3_col6\" class=\"data row3 col6\" >0.8080</td>\n",
       "      <td id=\"T_d6573_row3_col7\" class=\"data row3 col7\" >0.0733</td>\n",
       "    </tr>\n",
       "    <tr>\n",
       "      <th id=\"T_d6573_level0_row4\" class=\"row_heading level0 row4\" >lasso</th>\n",
       "      <td id=\"T_d6573_row4_col0\" class=\"data row4 col0\" >Lasso Regression</td>\n",
       "      <td id=\"T_d6573_row4_col1\" class=\"data row4 col1\" >47.2863</td>\n",
       "      <td id=\"T_d6573_row4_col2\" class=\"data row4 col2\" >14503.5273</td>\n",
       "      <td id=\"T_d6573_row4_col3\" class=\"data row4 col3\" >117.9982</td>\n",
       "      <td id=\"T_d6573_row4_col4\" class=\"data row4 col4\" >0.3958</td>\n",
       "      <td id=\"T_d6573_row4_col5\" class=\"data row4 col5\" >0.5134</td>\n",
       "      <td id=\"T_d6573_row4_col6\" class=\"data row4 col6\" >0.4337</td>\n",
       "      <td id=\"T_d6573_row4_col7\" class=\"data row4 col7\" >0.0480</td>\n",
       "    </tr>\n",
       "    <tr>\n",
       "      <th id=\"T_d6573_level0_row5\" class=\"row_heading level0 row5\" >br</th>\n",
       "      <td id=\"T_d6573_row5_col0\" class=\"data row5 col0\" >Bayesian Ridge</td>\n",
       "      <td id=\"T_d6573_row5_col1\" class=\"data row5 col1\" >47.9210</td>\n",
       "      <td id=\"T_d6573_row5_col2\" class=\"data row5 col2\" >14541.9458</td>\n",
       "      <td id=\"T_d6573_row5_col3\" class=\"data row5 col3\" >118.2482</td>\n",
       "      <td id=\"T_d6573_row5_col4\" class=\"data row5 col4\" >0.3934</td>\n",
       "      <td id=\"T_d6573_row5_col5\" class=\"data row5 col5\" >0.5136</td>\n",
       "      <td id=\"T_d6573_row5_col6\" class=\"data row5 col6\" >0.4411</td>\n",
       "      <td id=\"T_d6573_row5_col7\" class=\"data row5 col7\" >0.0533</td>\n",
       "    </tr>\n",
       "    <tr>\n",
       "      <th id=\"T_d6573_level0_row6\" class=\"row_heading level0 row6\" >ridge</th>\n",
       "      <td id=\"T_d6573_row6_col0\" class=\"data row6 col0\" >Ridge Regression</td>\n",
       "      <td id=\"T_d6573_row6_col1\" class=\"data row6 col1\" >47.9479</td>\n",
       "      <td id=\"T_d6573_row6_col2\" class=\"data row6 col2\" >14548.1622</td>\n",
       "      <td id=\"T_d6573_row6_col3\" class=\"data row6 col3\" >118.2711</td>\n",
       "      <td id=\"T_d6573_row6_col4\" class=\"data row6 col4\" >0.3932</td>\n",
       "      <td id=\"T_d6573_row6_col5\" class=\"data row6 col5\" >0.5136</td>\n",
       "      <td id=\"T_d6573_row6_col6\" class=\"data row6 col6\" >0.4415</td>\n",
       "      <td id=\"T_d6573_row6_col7\" class=\"data row6 col7\" >0.0473</td>\n",
       "    </tr>\n",
       "    <tr>\n",
       "      <th id=\"T_d6573_level0_row7\" class=\"row_heading level0 row7\" >lr</th>\n",
       "      <td id=\"T_d6573_row7_col0\" class=\"data row7 col0\" >Linear Regression</td>\n",
       "      <td id=\"T_d6573_row7_col1\" class=\"data row7 col1\" >48.1734</td>\n",
       "      <td id=\"T_d6573_row7_col2\" class=\"data row7 col2\" >14559.5388</td>\n",
       "      <td id=\"T_d6573_row7_col3\" class=\"data row7 col3\" >118.3479</td>\n",
       "      <td id=\"T_d6573_row7_col4\" class=\"data row7 col4\" >0.3922</td>\n",
       "      <td id=\"T_d6573_row7_col5\" class=\"data row7 col5\" >0.5141</td>\n",
       "      <td id=\"T_d6573_row7_col6\" class=\"data row7 col6\" >0.4448</td>\n",
       "      <td id=\"T_d6573_row7_col7\" class=\"data row7 col7\" >0.3747</td>\n",
       "    </tr>\n",
       "    <tr>\n",
       "      <th id=\"T_d6573_level0_row8\" class=\"row_heading level0 row8\" >lar</th>\n",
       "      <td id=\"T_d6573_row8_col0\" class=\"data row8 col0\" >Least Angle Regression</td>\n",
       "      <td id=\"T_d6573_row8_col1\" class=\"data row8 col1\" >48.2199</td>\n",
       "      <td id=\"T_d6573_row8_col2\" class=\"data row8 col2\" >14593.3980</td>\n",
       "      <td id=\"T_d6573_row8_col3\" class=\"data row8 col3\" >118.5074</td>\n",
       "      <td id=\"T_d6573_row8_col4\" class=\"data row8 col4\" >0.3905</td>\n",
       "      <td id=\"T_d6573_row8_col5\" class=\"data row8 col5\" >0.5144</td>\n",
       "      <td id=\"T_d6573_row8_col6\" class=\"data row8 col6\" >0.4451</td>\n",
       "      <td id=\"T_d6573_row8_col7\" class=\"data row8 col7\" >0.0500</td>\n",
       "    </tr>\n",
       "    <tr>\n",
       "      <th id=\"T_d6573_level0_row9\" class=\"row_heading level0 row9\" >en</th>\n",
       "      <td id=\"T_d6573_row9_col0\" class=\"data row9 col0\" >Elastic Net</td>\n",
       "      <td id=\"T_d6573_row9_col1\" class=\"data row9 col1\" >48.4975</td>\n",
       "      <td id=\"T_d6573_row9_col2\" class=\"data row9 col2\" >15212.3162</td>\n",
       "      <td id=\"T_d6573_row9_col3\" class=\"data row9 col3\" >120.9479</td>\n",
       "      <td id=\"T_d6573_row9_col4\" class=\"data row9 col4\" >0.3639</td>\n",
       "      <td id=\"T_d6573_row9_col5\" class=\"data row9 col5\" >0.4966</td>\n",
       "      <td id=\"T_d6573_row9_col6\" class=\"data row9 col6\" >0.4603</td>\n",
       "      <td id=\"T_d6573_row9_col7\" class=\"data row9 col7\" >0.0500</td>\n",
       "    </tr>\n",
       "    <tr>\n",
       "      <th id=\"T_d6573_level0_row10\" class=\"row_heading level0 row10\" >omp</th>\n",
       "      <td id=\"T_d6573_row10_col0\" class=\"data row10 col0\" >Orthogonal Matching Pursuit</td>\n",
       "      <td id=\"T_d6573_row10_col1\" class=\"data row10 col1\" >49.8530</td>\n",
       "      <td id=\"T_d6573_row10_col2\" class=\"data row10 col2\" >15475.7360</td>\n",
       "      <td id=\"T_d6573_row10_col3\" class=\"data row10 col3\" >122.2036</td>\n",
       "      <td id=\"T_d6573_row10_col4\" class=\"data row10 col4\" >0.3490</td>\n",
       "      <td id=\"T_d6573_row10_col5\" class=\"data row10 col5\" >0.5552</td>\n",
       "      <td id=\"T_d6573_row10_col6\" class=\"data row10 col6\" >0.4658</td>\n",
       "      <td id=\"T_d6573_row10_col7\" class=\"data row10 col7\" >0.0447</td>\n",
       "    </tr>\n",
       "    <tr>\n",
       "      <th id=\"T_d6573_level0_row11\" class=\"row_heading level0 row11\" >huber</th>\n",
       "      <td id=\"T_d6573_row11_col0\" class=\"data row11 col0\" >Huber Regressor</td>\n",
       "      <td id=\"T_d6573_row11_col1\" class=\"data row11 col1\" >45.0806</td>\n",
       "      <td id=\"T_d6573_row11_col2\" class=\"data row11 col2\" >16151.2891</td>\n",
       "      <td id=\"T_d6573_row11_col3\" class=\"data row11 col3\" >124.2263</td>\n",
       "      <td id=\"T_d6573_row11_col4\" class=\"data row11 col4\" >0.3381</td>\n",
       "      <td id=\"T_d6573_row11_col5\" class=\"data row11 col5\" >0.4501</td>\n",
       "      <td id=\"T_d6573_row11_col6\" class=\"data row11 col6\" >0.3620</td>\n",
       "      <td id=\"T_d6573_row11_col7\" class=\"data row11 col7\" >0.1687</td>\n",
       "    </tr>\n",
       "    <tr>\n",
       "      <th id=\"T_d6573_level0_row12\" class=\"row_heading level0 row12\" >rf</th>\n",
       "      <td id=\"T_d6573_row12_col0\" class=\"data row12 col0\" >Random Forest Regressor</td>\n",
       "      <td id=\"T_d6573_row12_col1\" class=\"data row12 col1\" >64.9371</td>\n",
       "      <td id=\"T_d6573_row12_col2\" class=\"data row12 col2\" >16623.6195</td>\n",
       "      <td id=\"T_d6573_row12_col3\" class=\"data row12 col3\" >126.8398</td>\n",
       "      <td id=\"T_d6573_row12_col4\" class=\"data row12 col4\" >0.2853</td>\n",
       "      <td id=\"T_d6573_row12_col5\" class=\"data row12 col5\" >0.6927</td>\n",
       "      <td id=\"T_d6573_row12_col6\" class=\"data row12 col6\" >0.7980</td>\n",
       "      <td id=\"T_d6573_row12_col7\" class=\"data row12 col7\" >0.3967</td>\n",
       "    </tr>\n",
       "    <tr>\n",
       "      <th id=\"T_d6573_level0_row13\" class=\"row_heading level0 row13\" >xgboost</th>\n",
       "      <td id=\"T_d6573_row13_col0\" class=\"data row13 col0\" >Extreme Gradient Boosting</td>\n",
       "      <td id=\"T_d6573_row13_col1\" class=\"data row13 col1\" >65.8030</td>\n",
       "      <td id=\"T_d6573_row13_col2\" class=\"data row13 col2\" >16785.9833</td>\n",
       "      <td id=\"T_d6573_row13_col3\" class=\"data row13 col3\" >127.1376</td>\n",
       "      <td id=\"T_d6573_row13_col4\" class=\"data row13 col4\" >0.2827</td>\n",
       "      <td id=\"T_d6573_row13_col5\" class=\"data row13 col5\" >0.7027</td>\n",
       "      <td id=\"T_d6573_row13_col6\" class=\"data row13 col6\" >0.8238</td>\n",
       "      <td id=\"T_d6573_row13_col7\" class=\"data row13 col7\" >0.3993</td>\n",
       "    </tr>\n",
       "    <tr>\n",
       "      <th id=\"T_d6573_level0_row14\" class=\"row_heading level0 row14\" >dt</th>\n",
       "      <td id=\"T_d6573_row14_col0\" class=\"data row14 col0\" >Decision Tree Regressor</td>\n",
       "      <td id=\"T_d6573_row14_col1\" class=\"data row14 col1\" >66.6229</td>\n",
       "      <td id=\"T_d6573_row14_col2\" class=\"data row14 col2\" >18302.4137</td>\n",
       "      <td id=\"T_d6573_row14_col3\" class=\"data row14 col3\" >131.9485</td>\n",
       "      <td id=\"T_d6573_row14_col4\" class=\"data row14 col4\" >0.2347</td>\n",
       "      <td id=\"T_d6573_row14_col5\" class=\"data row14 col5\" >0.7097</td>\n",
       "      <td id=\"T_d6573_row14_col6\" class=\"data row14 col6\" >0.8091</td>\n",
       "      <td id=\"T_d6573_row14_col7\" class=\"data row14 col7\" >0.0547</td>\n",
       "    </tr>\n",
       "    <tr>\n",
       "      <th id=\"T_d6573_level0_row15\" class=\"row_heading level0 row15\" >llar</th>\n",
       "      <td id=\"T_d6573_row15_col0\" class=\"data row15 col0\" >Lasso Least Angle Regression</td>\n",
       "      <td id=\"T_d6573_row15_col1\" class=\"data row15 col1\" >74.8900</td>\n",
       "      <td id=\"T_d6573_row15_col2\" class=\"data row15 col2\" >24114.5991</td>\n",
       "      <td id=\"T_d6573_row15_col3\" class=\"data row15 col3\" >152.5815</td>\n",
       "      <td id=\"T_d6573_row15_col4\" class=\"data row15 col4\" >-0.0010</td>\n",
       "      <td id=\"T_d6573_row15_col5\" class=\"data row15 col5\" >0.7803</td>\n",
       "      <td id=\"T_d6573_row15_col6\" class=\"data row15 col6\" >0.9411</td>\n",
       "      <td id=\"T_d6573_row15_col7\" class=\"data row15 col7\" >0.0473</td>\n",
       "    </tr>\n",
       "    <tr>\n",
       "      <th id=\"T_d6573_level0_row16\" class=\"row_heading level0 row16\" >dummy</th>\n",
       "      <td id=\"T_d6573_row16_col0\" class=\"data row16 col0\" >Dummy Regressor</td>\n",
       "      <td id=\"T_d6573_row16_col1\" class=\"data row16 col1\" >74.8900</td>\n",
       "      <td id=\"T_d6573_row16_col2\" class=\"data row16 col2\" >24114.5992</td>\n",
       "      <td id=\"T_d6573_row16_col3\" class=\"data row16 col3\" >152.5815</td>\n",
       "      <td id=\"T_d6573_row16_col4\" class=\"data row16 col4\" >-0.0010</td>\n",
       "      <td id=\"T_d6573_row16_col5\" class=\"data row16 col5\" >0.7803</td>\n",
       "      <td id=\"T_d6573_row16_col6\" class=\"data row16 col6\" >0.9411</td>\n",
       "      <td id=\"T_d6573_row16_col7\" class=\"data row16 col7\" >0.0513</td>\n",
       "    </tr>\n",
       "    <tr>\n",
       "      <th id=\"T_d6573_level0_row17\" class=\"row_heading level0 row17\" >ada</th>\n",
       "      <td id=\"T_d6573_row17_col0\" class=\"data row17 col0\" >AdaBoost Regressor</td>\n",
       "      <td id=\"T_d6573_row17_col1\" class=\"data row17 col1\" >137.1743</td>\n",
       "      <td id=\"T_d6573_row17_col2\" class=\"data row17 col2\" >26018.0384</td>\n",
       "      <td id=\"T_d6573_row17_col3\" class=\"data row17 col3\" >160.3847</td>\n",
       "      <td id=\"T_d6573_row17_col4\" class=\"data row17 col4\" >-0.1833</td>\n",
       "      <td id=\"T_d6573_row17_col5\" class=\"data row17 col5\" >1.1447</td>\n",
       "      <td id=\"T_d6573_row17_col6\" class=\"data row17 col6\" >2.2289</td>\n",
       "      <td id=\"T_d6573_row17_col7\" class=\"data row17 col7\" >0.1793</td>\n",
       "    </tr>\n",
       "    <tr>\n",
       "      <th id=\"T_d6573_level0_row18\" class=\"row_heading level0 row18\" >par</th>\n",
       "      <td id=\"T_d6573_row18_col0\" class=\"data row18 col0\" >Passive Aggressive Regressor</td>\n",
       "      <td id=\"T_d6573_row18_col1\" class=\"data row18 col1\" >87.3059</td>\n",
       "      <td id=\"T_d6573_row18_col2\" class=\"data row18 col2\" >1794010.2428</td>\n",
       "      <td id=\"T_d6573_row18_col3\" class=\"data row18 col3\" >701.2256</td>\n",
       "      <td id=\"T_d6573_row18_col4\" class=\"data row18 col4\" >-61.1184</td>\n",
       "      <td id=\"T_d6573_row18_col5\" class=\"data row18 col5\" >0.5888</td>\n",
       "      <td id=\"T_d6573_row18_col6\" class=\"data row18 col6\" >1.0096</td>\n",
       "      <td id=\"T_d6573_row18_col7\" class=\"data row18 col7\" >0.0480</td>\n",
       "    </tr>\n",
       "  </tbody>\n",
       "</table>\n"
      ],
      "text/plain": [
       "<pandas.io.formats.style.Styler at 0x25108212760>"
      ]
     },
     "metadata": {},
     "output_type": "display_data"
    },
    {
     "data": {
      "application/vnd.jupyter.widget-view+json": {
       "model_id": "",
       "version_major": 2,
       "version_minor": 0
      },
      "text/plain": [
       "Processing:   0%|          | 0/83 [00:00<?, ?it/s]"
      ]
     },
     "metadata": {},
     "output_type": "display_data"
    }
   ],
   "source": [
    "# Comparing all Models\n",
    "# However we used n_select parameter to return top N models. In this example compare_models has returned Top 3 models.\n",
    "# fold parameter will compare all models on 15 fold cross validation.\n",
    "# Increasing the number of folds will inccrease the training time.\n",
    "top3 = compare_models(n_select = 3,fold = 15)"
   ]
  },
  {
   "cell_type": "code",
   "execution_count": 9,
   "id": "8b254f68",
   "metadata": {},
   "outputs": [
    {
     "name": "stdout",
     "output_type": "stream",
     "text": [
      "[ExtraTreesRegressor(n_jobs=-1, random_state=123), KNeighborsRegressor(n_jobs=-1), GradientBoostingRegressor(random_state=123)]\n"
     ]
    }
   ],
   "source": [
    "# Printing Out Top Three Models\n",
    "print(top3)"
   ]
  },
  {
   "cell_type": "markdown",
   "id": "8fcebcc2",
   "metadata": {},
   "source": [
    "___CREATING A  EXTRA TREE REGRESSOR MODEL (with 10 Fold CV and Metrics rounded to 2 decimals points)___"
   ]
  },
  {
   "cell_type": "code",
   "execution_count": 10,
   "id": "a9f475dc",
   "metadata": {},
   "outputs": [
    {
     "data": {
      "text/html": [],
      "text/plain": [
       "<IPython.core.display.HTML object>"
      ]
     },
     "metadata": {},
     "output_type": "display_data"
    },
    {
     "data": {
      "text/html": [
       "<style type=\"text/css\">\n",
       "#T_d3d56_row10_col0, #T_d3d56_row10_col1, #T_d3d56_row10_col2, #T_d3d56_row10_col3, #T_d3d56_row10_col4, #T_d3d56_row10_col5 {\n",
       "  background: yellow;\n",
       "}\n",
       "</style>\n",
       "<table id=\"T_d3d56\">\n",
       "  <thead>\n",
       "    <tr>\n",
       "      <th class=\"blank level0\" >&nbsp;</th>\n",
       "      <th id=\"T_d3d56_level0_col0\" class=\"col_heading level0 col0\" >MAE</th>\n",
       "      <th id=\"T_d3d56_level0_col1\" class=\"col_heading level0 col1\" >MSE</th>\n",
       "      <th id=\"T_d3d56_level0_col2\" class=\"col_heading level0 col2\" >RMSE</th>\n",
       "      <th id=\"T_d3d56_level0_col3\" class=\"col_heading level0 col3\" >R2</th>\n",
       "      <th id=\"T_d3d56_level0_col4\" class=\"col_heading level0 col4\" >RMSLE</th>\n",
       "      <th id=\"T_d3d56_level0_col5\" class=\"col_heading level0 col5\" >MAPE</th>\n",
       "    </tr>\n",
       "    <tr>\n",
       "      <th class=\"index_name level0\" >Fold</th>\n",
       "      <th class=\"blank col0\" >&nbsp;</th>\n",
       "      <th class=\"blank col1\" >&nbsp;</th>\n",
       "      <th class=\"blank col2\" >&nbsp;</th>\n",
       "      <th class=\"blank col3\" >&nbsp;</th>\n",
       "      <th class=\"blank col4\" >&nbsp;</th>\n",
       "      <th class=\"blank col5\" >&nbsp;</th>\n",
       "    </tr>\n",
       "  </thead>\n",
       "  <tbody>\n",
       "    <tr>\n",
       "      <th id=\"T_d3d56_level0_row0\" class=\"row_heading level0 row0\" >0</th>\n",
       "      <td id=\"T_d3d56_row0_col0\" class=\"data row0 col0\" >41.69</td>\n",
       "      <td id=\"T_d3d56_row0_col1\" class=\"data row0 col1\" >9134.77</td>\n",
       "      <td id=\"T_d3d56_row0_col2\" class=\"data row0 col2\" >95.58</td>\n",
       "      <td id=\"T_d3d56_row0_col3\" class=\"data row0 col3\" >0.54</td>\n",
       "      <td id=\"T_d3d56_row0_col4\" class=\"data row0 col4\" >0.42</td>\n",
       "      <td id=\"T_d3d56_row0_col5\" class=\"data row0 col5\" >0.38</td>\n",
       "    </tr>\n",
       "    <tr>\n",
       "      <th id=\"T_d3d56_level0_row1\" class=\"row_heading level0 row1\" >1</th>\n",
       "      <td id=\"T_d3d56_row1_col0\" class=\"data row1 col0\" >38.84</td>\n",
       "      <td id=\"T_d3d56_row1_col1\" class=\"data row1 col1\" >6707.44</td>\n",
       "      <td id=\"T_d3d56_row1_col2\" class=\"data row1 col2\" >81.90</td>\n",
       "      <td id=\"T_d3d56_row1_col3\" class=\"data row1 col3\" >0.59</td>\n",
       "      <td id=\"T_d3d56_row1_col4\" class=\"data row1 col4\" >0.40</td>\n",
       "      <td id=\"T_d3d56_row1_col5\" class=\"data row1 col5\" >0.34</td>\n",
       "    </tr>\n",
       "    <tr>\n",
       "      <th id=\"T_d3d56_level0_row2\" class=\"row_heading level0 row2\" >2</th>\n",
       "      <td id=\"T_d3d56_row2_col0\" class=\"data row2 col0\" >41.07</td>\n",
       "      <td id=\"T_d3d56_row2_col1\" class=\"data row2 col1\" >18504.11</td>\n",
       "      <td id=\"T_d3d56_row2_col2\" class=\"data row2 col2\" >136.03</td>\n",
       "      <td id=\"T_d3d56_row2_col3\" class=\"data row2 col3\" >0.50</td>\n",
       "      <td id=\"T_d3d56_row2_col4\" class=\"data row2 col4\" >0.40</td>\n",
       "      <td id=\"T_d3d56_row2_col5\" class=\"data row2 col5\" >0.38</td>\n",
       "    </tr>\n",
       "    <tr>\n",
       "      <th id=\"T_d3d56_level0_row3\" class=\"row_heading level0 row3\" >3</th>\n",
       "      <td id=\"T_d3d56_row3_col0\" class=\"data row3 col0\" >35.73</td>\n",
       "      <td id=\"T_d3d56_row3_col1\" class=\"data row3 col1\" >10948.69</td>\n",
       "      <td id=\"T_d3d56_row3_col2\" class=\"data row3 col2\" >104.64</td>\n",
       "      <td id=\"T_d3d56_row3_col3\" class=\"data row3 col3\" >0.62</td>\n",
       "      <td id=\"T_d3d56_row3_col4\" class=\"data row3 col4\" >0.37</td>\n",
       "      <td id=\"T_d3d56_row3_col5\" class=\"data row3 col5\" >0.34</td>\n",
       "    </tr>\n",
       "    <tr>\n",
       "      <th id=\"T_d3d56_level0_row4\" class=\"row_heading level0 row4\" >4</th>\n",
       "      <td id=\"T_d3d56_row4_col0\" class=\"data row4 col0\" >39.61</td>\n",
       "      <td id=\"T_d3d56_row4_col1\" class=\"data row4 col1\" >10078.29</td>\n",
       "      <td id=\"T_d3d56_row4_col2\" class=\"data row4 col2\" >100.39</td>\n",
       "      <td id=\"T_d3d56_row4_col3\" class=\"data row4 col3\" >0.64</td>\n",
       "      <td id=\"T_d3d56_row4_col4\" class=\"data row4 col4\" >0.42</td>\n",
       "      <td id=\"T_d3d56_row4_col5\" class=\"data row4 col5\" >0.39</td>\n",
       "    </tr>\n",
       "    <tr>\n",
       "      <th id=\"T_d3d56_level0_row5\" class=\"row_heading level0 row5\" >5</th>\n",
       "      <td id=\"T_d3d56_row5_col0\" class=\"data row5 col0\" >37.79</td>\n",
       "      <td id=\"T_d3d56_row5_col1\" class=\"data row5 col1\" >11359.26</td>\n",
       "      <td id=\"T_d3d56_row5_col2\" class=\"data row5 col2\" >106.58</td>\n",
       "      <td id=\"T_d3d56_row5_col3\" class=\"data row5 col3\" >0.49</td>\n",
       "      <td id=\"T_d3d56_row5_col4\" class=\"data row5 col4\" >0.39</td>\n",
       "      <td id=\"T_d3d56_row5_col5\" class=\"data row5 col5\" >0.34</td>\n",
       "    </tr>\n",
       "    <tr>\n",
       "      <th id=\"T_d3d56_level0_row6\" class=\"row_heading level0 row6\" >6</th>\n",
       "      <td id=\"T_d3d56_row6_col0\" class=\"data row6 col0\" >39.17</td>\n",
       "      <td id=\"T_d3d56_row6_col1\" class=\"data row6 col1\" >12050.02</td>\n",
       "      <td id=\"T_d3d56_row6_col2\" class=\"data row6 col2\" >109.77</td>\n",
       "      <td id=\"T_d3d56_row6_col3\" class=\"data row6 col3\" >0.36</td>\n",
       "      <td id=\"T_d3d56_row6_col4\" class=\"data row6 col4\" >0.41</td>\n",
       "      <td id=\"T_d3d56_row6_col5\" class=\"data row6 col5\" >0.37</td>\n",
       "    </tr>\n",
       "    <tr>\n",
       "      <th id=\"T_d3d56_level0_row7\" class=\"row_heading level0 row7\" >7</th>\n",
       "      <td id=\"T_d3d56_row7_col0\" class=\"data row7 col0\" >35.38</td>\n",
       "      <td id=\"T_d3d56_row7_col1\" class=\"data row7 col1\" >7239.63</td>\n",
       "      <td id=\"T_d3d56_row7_col2\" class=\"data row7 col2\" >85.09</td>\n",
       "      <td id=\"T_d3d56_row7_col3\" class=\"data row7 col3\" >0.72</td>\n",
       "      <td id=\"T_d3d56_row7_col4\" class=\"data row7 col4\" >0.38</td>\n",
       "      <td id=\"T_d3d56_row7_col5\" class=\"data row7 col5\" >0.33</td>\n",
       "    </tr>\n",
       "    <tr>\n",
       "      <th id=\"T_d3d56_level0_row8\" class=\"row_heading level0 row8\" >8</th>\n",
       "      <td id=\"T_d3d56_row8_col0\" class=\"data row8 col0\" >35.91</td>\n",
       "      <td id=\"T_d3d56_row8_col1\" class=\"data row8 col1\" >6648.70</td>\n",
       "      <td id=\"T_d3d56_row8_col2\" class=\"data row8 col2\" >81.54</td>\n",
       "      <td id=\"T_d3d56_row8_col3\" class=\"data row8 col3\" >0.68</td>\n",
       "      <td id=\"T_d3d56_row8_col4\" class=\"data row8 col4\" >0.40</td>\n",
       "      <td id=\"T_d3d56_row8_col5\" class=\"data row8 col5\" >0.37</td>\n",
       "    </tr>\n",
       "    <tr>\n",
       "      <th id=\"T_d3d56_level0_row9\" class=\"row_heading level0 row9\" >9</th>\n",
       "      <td id=\"T_d3d56_row9_col0\" class=\"data row9 col0\" >36.38</td>\n",
       "      <td id=\"T_d3d56_row9_col1\" class=\"data row9 col1\" >6152.38</td>\n",
       "      <td id=\"T_d3d56_row9_col2\" class=\"data row9 col2\" >78.44</td>\n",
       "      <td id=\"T_d3d56_row9_col3\" class=\"data row9 col3\" >0.73</td>\n",
       "      <td id=\"T_d3d56_row9_col4\" class=\"data row9 col4\" >0.39</td>\n",
       "      <td id=\"T_d3d56_row9_col5\" class=\"data row9 col5\" >0.36</td>\n",
       "    </tr>\n",
       "    <tr>\n",
       "      <th id=\"T_d3d56_level0_row10\" class=\"row_heading level0 row10\" >Mean</th>\n",
       "      <td id=\"T_d3d56_row10_col0\" class=\"data row10 col0\" >38.16</td>\n",
       "      <td id=\"T_d3d56_row10_col1\" class=\"data row10 col1\" >9882.33</td>\n",
       "      <td id=\"T_d3d56_row10_col2\" class=\"data row10 col2\" >97.99</td>\n",
       "      <td id=\"T_d3d56_row10_col3\" class=\"data row10 col3\" >0.59</td>\n",
       "      <td id=\"T_d3d56_row10_col4\" class=\"data row10 col4\" >0.40</td>\n",
       "      <td id=\"T_d3d56_row10_col5\" class=\"data row10 col5\" >0.36</td>\n",
       "    </tr>\n",
       "    <tr>\n",
       "      <th id=\"T_d3d56_level0_row11\" class=\"row_heading level0 row11\" >Std</th>\n",
       "      <td id=\"T_d3d56_row11_col0\" class=\"data row11 col0\" >2.16</td>\n",
       "      <td id=\"T_d3d56_row11_col1\" class=\"data row11 col1\" >3526.79</td>\n",
       "      <td id=\"T_d3d56_row11_col2\" class=\"data row11 col2\" >16.71</td>\n",
       "      <td id=\"T_d3d56_row11_col3\" class=\"data row11 col3\" >0.11</td>\n",
       "      <td id=\"T_d3d56_row11_col4\" class=\"data row11 col4\" >0.01</td>\n",
       "      <td id=\"T_d3d56_row11_col5\" class=\"data row11 col5\" >0.02</td>\n",
       "    </tr>\n",
       "  </tbody>\n",
       "</table>\n"
      ],
      "text/plain": [
       "<pandas.io.formats.style.Styler at 0x2510e641a00>"
      ]
     },
     "metadata": {},
     "output_type": "display_data"
    },
    {
     "data": {
      "application/vnd.jupyter.widget-view+json": {
       "model_id": "",
       "version_major": 2,
       "version_minor": 0
      },
      "text/plain": [
       "Processing:   0%|          | 0/4 [00:00<?, ?it/s]"
      ]
     },
     "metadata": {},
     "output_type": "display_data"
    }
   ],
   "source": [
    "# Creating a mdel With Extra Tree Regressor with 10 fold cross validation.\n",
    "et = create_model('et', fold = 10, round = 2)"
   ]
  },
  {
   "cell_type": "markdown",
   "id": "14c5da31",
   "metadata": {},
   "source": [
    "___TUNING EXTRA TREE REGRESSOR MODEL___"
   ]
  },
  {
   "cell_type": "code",
   "execution_count": 11,
   "id": "a8338b93",
   "metadata": {},
   "outputs": [
    {
     "data": {
      "text/html": [],
      "text/plain": [
       "<IPython.core.display.HTML object>"
      ]
     },
     "metadata": {},
     "output_type": "display_data"
    },
    {
     "data": {
      "text/html": [
       "<style type=\"text/css\">\n",
       "#T_be455_row10_col0, #T_be455_row10_col1, #T_be455_row10_col2, #T_be455_row10_col3, #T_be455_row10_col4, #T_be455_row10_col5 {\n",
       "  background: yellow;\n",
       "}\n",
       "</style>\n",
       "<table id=\"T_be455\">\n",
       "  <thead>\n",
       "    <tr>\n",
       "      <th class=\"blank level0\" >&nbsp;</th>\n",
       "      <th id=\"T_be455_level0_col0\" class=\"col_heading level0 col0\" >MAE</th>\n",
       "      <th id=\"T_be455_level0_col1\" class=\"col_heading level0 col1\" >MSE</th>\n",
       "      <th id=\"T_be455_level0_col2\" class=\"col_heading level0 col2\" >RMSE</th>\n",
       "      <th id=\"T_be455_level0_col3\" class=\"col_heading level0 col3\" >R2</th>\n",
       "      <th id=\"T_be455_level0_col4\" class=\"col_heading level0 col4\" >RMSLE</th>\n",
       "      <th id=\"T_be455_level0_col5\" class=\"col_heading level0 col5\" >MAPE</th>\n",
       "    </tr>\n",
       "    <tr>\n",
       "      <th class=\"index_name level0\" >Fold</th>\n",
       "      <th class=\"blank col0\" >&nbsp;</th>\n",
       "      <th class=\"blank col1\" >&nbsp;</th>\n",
       "      <th class=\"blank col2\" >&nbsp;</th>\n",
       "      <th class=\"blank col3\" >&nbsp;</th>\n",
       "      <th class=\"blank col4\" >&nbsp;</th>\n",
       "      <th class=\"blank col5\" >&nbsp;</th>\n",
       "    </tr>\n",
       "  </thead>\n",
       "  <tbody>\n",
       "    <tr>\n",
       "      <th id=\"T_be455_level0_row0\" class=\"row_heading level0 row0\" >0</th>\n",
       "      <td id=\"T_be455_row0_col0\" class=\"data row0 col0\" >39.3197</td>\n",
       "      <td id=\"T_be455_row0_col1\" class=\"data row0 col1\" >5919.7361</td>\n",
       "      <td id=\"T_be455_row0_col2\" class=\"data row0 col2\" >76.9398</td>\n",
       "      <td id=\"T_be455_row0_col3\" class=\"data row0 col3\" >0.7025</td>\n",
       "      <td id=\"T_be455_row0_col4\" class=\"data row0 col4\" >0.4117</td>\n",
       "      <td id=\"T_be455_row0_col5\" class=\"data row0 col5\" >0.3730</td>\n",
       "    </tr>\n",
       "    <tr>\n",
       "      <th id=\"T_be455_level0_row1\" class=\"row_heading level0 row1\" >1</th>\n",
       "      <td id=\"T_be455_row1_col0\" class=\"data row1 col0\" >38.8067</td>\n",
       "      <td id=\"T_be455_row1_col1\" class=\"data row1 col1\" >6117.8088</td>\n",
       "      <td id=\"T_be455_row1_col2\" class=\"data row1 col2\" >78.2164</td>\n",
       "      <td id=\"T_be455_row1_col3\" class=\"data row1 col3\" >0.6292</td>\n",
       "      <td id=\"T_be455_row1_col4\" class=\"data row1 col4\" >0.3984</td>\n",
       "      <td id=\"T_be455_row1_col5\" class=\"data row1 col5\" >0.3485</td>\n",
       "    </tr>\n",
       "    <tr>\n",
       "      <th id=\"T_be455_level0_row2\" class=\"row_heading level0 row2\" >2</th>\n",
       "      <td id=\"T_be455_row2_col0\" class=\"data row2 col0\" >38.9532</td>\n",
       "      <td id=\"T_be455_row2_col1\" class=\"data row2 col1\" >17177.3204</td>\n",
       "      <td id=\"T_be455_row2_col2\" class=\"data row2 col2\" >131.0623</td>\n",
       "      <td id=\"T_be455_row2_col3\" class=\"data row2 col3\" >0.5400</td>\n",
       "      <td id=\"T_be455_row2_col4\" class=\"data row2 col4\" >0.3870</td>\n",
       "      <td id=\"T_be455_row2_col5\" class=\"data row2 col5\" >0.3625</td>\n",
       "    </tr>\n",
       "    <tr>\n",
       "      <th id=\"T_be455_level0_row3\" class=\"row_heading level0 row3\" >3</th>\n",
       "      <td id=\"T_be455_row3_col0\" class=\"data row3 col0\" >36.1641</td>\n",
       "      <td id=\"T_be455_row3_col1\" class=\"data row3 col1\" >11723.5508</td>\n",
       "      <td id=\"T_be455_row3_col2\" class=\"data row3 col2\" >108.2753</td>\n",
       "      <td id=\"T_be455_row3_col3\" class=\"data row3 col3\" >0.5953</td>\n",
       "      <td id=\"T_be455_row3_col4\" class=\"data row3 col4\" >0.3702</td>\n",
       "      <td id=\"T_be455_row3_col5\" class=\"data row3 col5\" >0.3412</td>\n",
       "    </tr>\n",
       "    <tr>\n",
       "      <th id=\"T_be455_level0_row4\" class=\"row_heading level0 row4\" >4</th>\n",
       "      <td id=\"T_be455_row4_col0\" class=\"data row4 col0\" >37.1354</td>\n",
       "      <td id=\"T_be455_row4_col1\" class=\"data row4 col1\" >9986.9426</td>\n",
       "      <td id=\"T_be455_row4_col2\" class=\"data row4 col2\" >99.9347</td>\n",
       "      <td id=\"T_be455_row4_col3\" class=\"data row4 col3\" >0.6421</td>\n",
       "      <td id=\"T_be455_row4_col4\" class=\"data row4 col4\" >0.3776</td>\n",
       "      <td id=\"T_be455_row4_col5\" class=\"data row4 col5\" >0.3467</td>\n",
       "    </tr>\n",
       "    <tr>\n",
       "      <th id=\"T_be455_level0_row5\" class=\"row_heading level0 row5\" >5</th>\n",
       "      <td id=\"T_be455_row5_col0\" class=\"data row5 col0\" >37.6500</td>\n",
       "      <td id=\"T_be455_row5_col1\" class=\"data row5 col1\" >10521.3136</td>\n",
       "      <td id=\"T_be455_row5_col2\" class=\"data row5 col2\" >102.5735</td>\n",
       "      <td id=\"T_be455_row5_col3\" class=\"data row5 col3\" >0.5293</td>\n",
       "      <td id=\"T_be455_row5_col4\" class=\"data row5 col4\" >0.3850</td>\n",
       "      <td id=\"T_be455_row5_col5\" class=\"data row5 col5\" >0.3287</td>\n",
       "    </tr>\n",
       "    <tr>\n",
       "      <th id=\"T_be455_level0_row6\" class=\"row_heading level0 row6\" >6</th>\n",
       "      <td id=\"T_be455_row6_col0\" class=\"data row6 col0\" >38.7540</td>\n",
       "      <td id=\"T_be455_row6_col1\" class=\"data row6 col1\" >10117.8172</td>\n",
       "      <td id=\"T_be455_row6_col2\" class=\"data row6 col2\" >100.5874</td>\n",
       "      <td id=\"T_be455_row6_col3\" class=\"data row6 col3\" >0.4597</td>\n",
       "      <td id=\"T_be455_row6_col4\" class=\"data row6 col4\" >0.4054</td>\n",
       "      <td id=\"T_be455_row6_col5\" class=\"data row6 col5\" >0.3742</td>\n",
       "    </tr>\n",
       "    <tr>\n",
       "      <th id=\"T_be455_level0_row7\" class=\"row_heading level0 row7\" >7</th>\n",
       "      <td id=\"T_be455_row7_col0\" class=\"data row7 col0\" >37.8430</td>\n",
       "      <td id=\"T_be455_row7_col1\" class=\"data row7 col1\" >10361.1304</td>\n",
       "      <td id=\"T_be455_row7_col2\" class=\"data row7 col2\" >101.7896</td>\n",
       "      <td id=\"T_be455_row7_col3\" class=\"data row7 col3\" >0.5972</td>\n",
       "      <td id=\"T_be455_row7_col4\" class=\"data row7 col4\" >0.3926</td>\n",
       "      <td id=\"T_be455_row7_col5\" class=\"data row7 col5\" >0.3536</td>\n",
       "    </tr>\n",
       "    <tr>\n",
       "      <th id=\"T_be455_level0_row8\" class=\"row_heading level0 row8\" >8</th>\n",
       "      <td id=\"T_be455_row8_col0\" class=\"data row8 col0\" >37.8823</td>\n",
       "      <td id=\"T_be455_row8_col1\" class=\"data row8 col1\" >7724.4089</td>\n",
       "      <td id=\"T_be455_row8_col2\" class=\"data row8 col2\" >87.8886</td>\n",
       "      <td id=\"T_be455_row8_col3\" class=\"data row8 col3\" >0.6309</td>\n",
       "      <td id=\"T_be455_row8_col4\" class=\"data row8 col4\" >0.4037</td>\n",
       "      <td id=\"T_be455_row8_col5\" class=\"data row8 col5\" >0.3787</td>\n",
       "    </tr>\n",
       "    <tr>\n",
       "      <th id=\"T_be455_level0_row9\" class=\"row_heading level0 row9\" >9</th>\n",
       "      <td id=\"T_be455_row9_col0\" class=\"data row9 col0\" >37.6827</td>\n",
       "      <td id=\"T_be455_row9_col1\" class=\"data row9 col1\" >8209.1828</td>\n",
       "      <td id=\"T_be455_row9_col2\" class=\"data row9 col2\" >90.6045</td>\n",
       "      <td id=\"T_be455_row9_col3\" class=\"data row9 col3\" >0.6386</td>\n",
       "      <td id=\"T_be455_row9_col4\" class=\"data row9 col4\" >0.3812</td>\n",
       "      <td id=\"T_be455_row9_col5\" class=\"data row9 col5\" >0.3468</td>\n",
       "    </tr>\n",
       "    <tr>\n",
       "      <th id=\"T_be455_level0_row10\" class=\"row_heading level0 row10\" >Mean</th>\n",
       "      <td id=\"T_be455_row10_col0\" class=\"data row10 col0\" >38.0191</td>\n",
       "      <td id=\"T_be455_row10_col1\" class=\"data row10 col1\" >9785.9212</td>\n",
       "      <td id=\"T_be455_row10_col2\" class=\"data row10 col2\" >97.7872</td>\n",
       "      <td id=\"T_be455_row10_col3\" class=\"data row10 col3\" >0.5965</td>\n",
       "      <td id=\"T_be455_row10_col4\" class=\"data row10 col4\" >0.3913</td>\n",
       "      <td id=\"T_be455_row10_col5\" class=\"data row10 col5\" >0.3554</td>\n",
       "    </tr>\n",
       "    <tr>\n",
       "      <th id=\"T_be455_level0_row11\" class=\"row_heading level0 row11\" >Std</th>\n",
       "      <td id=\"T_be455_row11_col0\" class=\"data row11 col0\" >0.9080</td>\n",
       "      <td id=\"T_be455_row11_col1\" class=\"data row11 col1\" >3074.8625</td>\n",
       "      <td id=\"T_be455_row11_col2\" class=\"data row11 col2\" >14.9526</td>\n",
       "      <td id=\"T_be455_row11_col3\" class=\"data row11 col3\" >0.0661</td>\n",
       "      <td id=\"T_be455_row11_col4\" class=\"data row11 col4\" >0.0127</td>\n",
       "      <td id=\"T_be455_row11_col5\" class=\"data row11 col5\" >0.0154</td>\n",
       "    </tr>\n",
       "  </tbody>\n",
       "</table>\n"
      ],
      "text/plain": [
       "<pandas.io.formats.style.Styler at 0x2510e249610>"
      ]
     },
     "metadata": {},
     "output_type": "display_data"
    },
    {
     "data": {
      "application/vnd.jupyter.widget-view+json": {
       "model_id": "",
       "version_major": 2,
       "version_minor": 0
      },
      "text/plain": [
       "Processing:   0%|          | 0/7 [00:00<?, ?it/s]"
      ]
     },
     "metadata": {},
     "output_type": "display_data"
    },
    {
     "name": "stdout",
     "output_type": "stream",
     "text": [
      "Fitting 10 folds for each of 5 candidates, totalling 50 fits\n"
     ]
    }
   ],
   "source": [
    "# Tuning Extra Tree Regressor\n",
    "tuned_et = tune_model(et, n_iter = 5)"
   ]
  },
  {
   "cell_type": "code",
   "execution_count": 12,
   "id": "3956958b",
   "metadata": {},
   "outputs": [
    {
     "data": {
      "text/html": [],
      "text/plain": [
       "<IPython.core.display.HTML object>"
      ]
     },
     "metadata": {},
     "output_type": "display_data"
    },
    {
     "data": {
      "text/html": [
       "<div>\n",
       "<style scoped>\n",
       "    .dataframe tbody tr th:only-of-type {\n",
       "        vertical-align: middle;\n",
       "    }\n",
       "\n",
       "    .dataframe tbody tr th {\n",
       "        vertical-align: top;\n",
       "    }\n",
       "\n",
       "    .dataframe thead th {\n",
       "        text-align: right;\n",
       "    }\n",
       "</style>\n",
       "<table border=\"1\" class=\"dataframe\">\n",
       "  <thead>\n",
       "    <tr style=\"text-align: right;\">\n",
       "      <th></th>\n",
       "      <th>Parameters</th>\n",
       "    </tr>\n",
       "  </thead>\n",
       "  <tbody>\n",
       "    <tr>\n",
       "      <th>bootstrap</th>\n",
       "      <td>True</td>\n",
       "    </tr>\n",
       "    <tr>\n",
       "      <th>ccp_alpha</th>\n",
       "      <td>0.0</td>\n",
       "    </tr>\n",
       "    <tr>\n",
       "      <th>criterion</th>\n",
       "      <td>mse</td>\n",
       "    </tr>\n",
       "    <tr>\n",
       "      <th>max_depth</th>\n",
       "      <td>9</td>\n",
       "    </tr>\n",
       "    <tr>\n",
       "      <th>max_features</th>\n",
       "      <td>1.0</td>\n",
       "    </tr>\n",
       "    <tr>\n",
       "      <th>max_leaf_nodes</th>\n",
       "      <td>None</td>\n",
       "    </tr>\n",
       "    <tr>\n",
       "      <th>max_samples</th>\n",
       "      <td>None</td>\n",
       "    </tr>\n",
       "    <tr>\n",
       "      <th>min_impurity_decrease</th>\n",
       "      <td>0.1</td>\n",
       "    </tr>\n",
       "    <tr>\n",
       "      <th>min_samples_leaf</th>\n",
       "      <td>4</td>\n",
       "    </tr>\n",
       "    <tr>\n",
       "      <th>min_samples_split</th>\n",
       "      <td>7</td>\n",
       "    </tr>\n",
       "    <tr>\n",
       "      <th>min_weight_fraction_leaf</th>\n",
       "      <td>0.0</td>\n",
       "    </tr>\n",
       "    <tr>\n",
       "      <th>n_estimators</th>\n",
       "      <td>100</td>\n",
       "    </tr>\n",
       "    <tr>\n",
       "      <th>n_jobs</th>\n",
       "      <td>-1</td>\n",
       "    </tr>\n",
       "    <tr>\n",
       "      <th>oob_score</th>\n",
       "      <td>False</td>\n",
       "    </tr>\n",
       "    <tr>\n",
       "      <th>random_state</th>\n",
       "      <td>123</td>\n",
       "    </tr>\n",
       "    <tr>\n",
       "      <th>verbose</th>\n",
       "      <td>0</td>\n",
       "    </tr>\n",
       "    <tr>\n",
       "      <th>warm_start</th>\n",
       "      <td>False</td>\n",
       "    </tr>\n",
       "  </tbody>\n",
       "</table>\n",
       "</div>"
      ],
      "text/plain": [
       "                         Parameters\n",
       "bootstrap                      True\n",
       "ccp_alpha                       0.0\n",
       "criterion                       mse\n",
       "max_depth                         9\n",
       "max_features                    1.0\n",
       "max_leaf_nodes                 None\n",
       "max_samples                    None\n",
       "min_impurity_decrease           0.1\n",
       "min_samples_leaf                  4\n",
       "min_samples_split                 7\n",
       "min_weight_fraction_leaf        0.0\n",
       "n_estimators                    100\n",
       "n_jobs                           -1\n",
       "oob_score                     False\n",
       "random_state                    123\n",
       "verbose                           0\n",
       "warm_start                    False"
      ]
     },
     "metadata": {},
     "output_type": "display_data"
    }
   ],
   "source": [
    "# Observing the hyperparameters of tuned_et\n",
    "plot_model(tuned_et, plot = 'parameter')"
   ]
  },
  {
   "cell_type": "code",
   "execution_count": 13,
   "id": "9a36853b",
   "metadata": {},
   "outputs": [
    {
     "data": {
      "text/html": [],
      "text/plain": [
       "<IPython.core.display.HTML object>"
      ]
     },
     "metadata": {},
     "output_type": "display_data"
    },
    {
     "data": {
      "image/png": "[encoded data removed]",
      "text/plain": [
       "<Figure size 432x288 with 2 Axes>"
      ]
     },
     "metadata": {
      "needs_background": "light"
     },
     "output_type": "display_data"
    }
   ],
   "source": [
    "# Residual Plot for tuned model\n",
    "plot_model(tuned_et)"
   ]
  },
  {
   "cell_type": "code",
   "execution_count": 14,
   "id": "817d6329",
   "metadata": {},
   "outputs": [
    {
     "data": {
      "text/html": [],
      "text/plain": [
       "<IPython.core.display.HTML object>"
      ]
     },
     "metadata": {},
     "output_type": "display_data"
    },
    {
     "data": {
      "image/png": "[encoded data removed]",
      "text/plain": [
       "<Figure size 432x288 with 1 Axes>"
      ]
     },
     "metadata": {
      "needs_background": "light"
     },
     "output_type": "display_data"
    }
   ],
   "source": [
    "# Prediction Error Plot\n",
    "plot_model(tuned_et, plot = 'error')"
   ]
  },
  {
   "cell_type": "code",
   "execution_count": 15,
   "id": "1b1d8ed3",
   "metadata": {},
   "outputs": [
    {
     "data": {
      "text/html": [],
      "text/plain": [
       "<IPython.core.display.HTML object>"
      ]
     },
     "metadata": {},
     "output_type": "display_data"
    },
    {
     "data": {
      "image/png": "[encoded data removed]",
      "text/plain": [
       "<Figure size 800x500 with 1 Axes>"
      ]
     },
     "metadata": {
      "needs_background": "light"
     },
     "output_type": "display_data"
    }
   ],
   "source": [
    "# Feature Importance Plot\n",
    "plot_model(tuned_et, plot='feature')"
   ]
  },
  {
   "cell_type": "code",
   "execution_count": 16,
   "id": "31598bce",
   "metadata": {},
   "outputs": [
    {
     "data": {
      "text/html": [
       "<style type=\"text/css\">\n",
       "</style>\n",
       "<table id=\"T_4ff26\">\n",
       "  <thead>\n",
       "    <tr>\n",
       "      <th class=\"blank level0\" >&nbsp;</th>\n",
       "      <th id=\"T_4ff26_level0_col0\" class=\"col_heading level0 col0\" >Model</th>\n",
       "      <th id=\"T_4ff26_level0_col1\" class=\"col_heading level0 col1\" >MAE</th>\n",
       "      <th id=\"T_4ff26_level0_col2\" class=\"col_heading level0 col2\" >MSE</th>\n",
       "      <th id=\"T_4ff26_level0_col3\" class=\"col_heading level0 col3\" >RMSE</th>\n",
       "      <th id=\"T_4ff26_level0_col4\" class=\"col_heading level0 col4\" >R2</th>\n",
       "      <th id=\"T_4ff26_level0_col5\" class=\"col_heading level0 col5\" >RMSLE</th>\n",
       "      <th id=\"T_4ff26_level0_col6\" class=\"col_heading level0 col6\" >MAPE</th>\n",
       "    </tr>\n",
       "  </thead>\n",
       "  <tbody>\n",
       "    <tr>\n",
       "      <th id=\"T_4ff26_level0_row0\" class=\"row_heading level0 row0\" >0</th>\n",
       "      <td id=\"T_4ff26_row0_col0\" class=\"data row0 col0\" >Extra Trees Regressor</td>\n",
       "      <td id=\"T_4ff26_row0_col1\" class=\"data row0 col1\" >38.0004</td>\n",
       "      <td id=\"T_4ff26_row0_col2\" class=\"data row0 col2\" >7726.8300</td>\n",
       "      <td id=\"T_4ff26_row0_col3\" class=\"data row0 col3\" >87.9024</td>\n",
       "      <td id=\"T_4ff26_row0_col4\" class=\"data row0 col4\" >0.5662</td>\n",
       "      <td id=\"T_4ff26_row0_col5\" class=\"data row0 col5\" >0.4054</td>\n",
       "      <td id=\"T_4ff26_row0_col6\" class=\"data row0 col6\" >0.3707</td>\n",
       "    </tr>\n",
       "  </tbody>\n",
       "</table>\n"
      ],
      "text/plain": [
       "<pandas.io.formats.style.Styler at 0x2510e5fa940>"
      ]
     },
     "metadata": {},
     "output_type": "display_data"
    }
   ],
   "source": [
    "# Predict on Test / Hold-out Sample\n",
    "\n",
    "pred = predict_model(tuned_et);"
   ]
  },
  {
   "cell_type": "code",
   "execution_count": 17,
   "id": "74149ef7",
   "metadata": {},
   "outputs": [],
   "source": [
    "# Finalize Model for Deployment\n",
    "final_et = finalize_model(tuned_et)"
   ]
  },
  {
   "cell_type": "code",
   "execution_count": 18,
   "id": "2862d41c",
   "metadata": {},
   "outputs": [
    {
     "data": {
      "text/html": [
       "<style type=\"text/css\">\n",
       "</style>\n",
       "<table id=\"T_5e998\">\n",
       "  <thead>\n",
       "    <tr>\n",
       "      <th class=\"blank level0\" >&nbsp;</th>\n",
       "      <th id=\"T_5e998_level0_col0\" class=\"col_heading level0 col0\" >Model</th>\n",
       "      <th id=\"T_5e998_level0_col1\" class=\"col_heading level0 col1\" >MAE</th>\n",
       "      <th id=\"T_5e998_level0_col2\" class=\"col_heading level0 col2\" >MSE</th>\n",
       "      <th id=\"T_5e998_level0_col3\" class=\"col_heading level0 col3\" >RMSE</th>\n",
       "      <th id=\"T_5e998_level0_col4\" class=\"col_heading level0 col4\" >R2</th>\n",
       "      <th id=\"T_5e998_level0_col5\" class=\"col_heading level0 col5\" >RMSLE</th>\n",
       "      <th id=\"T_5e998_level0_col6\" class=\"col_heading level0 col6\" >MAPE</th>\n",
       "    </tr>\n",
       "  </thead>\n",
       "  <tbody>\n",
       "    <tr>\n",
       "      <th id=\"T_5e998_level0_row0\" class=\"row_heading level0 row0\" >0</th>\n",
       "      <td id=\"T_5e998_row0_col0\" class=\"data row0 col0\" >Extra Trees Regressor</td>\n",
       "      <td id=\"T_5e998_row0_col1\" class=\"data row0 col1\" >40.1614</td>\n",
       "      <td id=\"T_5e998_row0_col2\" class=\"data row0 col2\" >12574.5876</td>\n",
       "      <td id=\"T_5e998_row0_col3\" class=\"data row0 col3\" >112.1365</td>\n",
       "      <td id=\"T_5e998_row0_col4\" class=\"data row0 col4\" >0.4272</td>\n",
       "      <td id=\"T_5e998_row0_col5\" class=\"data row0 col5\" >0.4228</td>\n",
       "      <td id=\"T_5e998_row0_col6\" class=\"data row0 col6\" >0.3947</td>\n",
       "    </tr>\n",
       "  </tbody>\n",
       "</table>\n"
      ],
      "text/plain": [
       "<pandas.io.formats.style.Styler at 0x2510e26ad00>"
      ]
     },
     "metadata": {},
     "output_type": "display_data"
    },
    {
     "data": {
      "text/html": [
       "<div>\n",
       "<style scoped>\n",
       "    .dataframe tbody tr th:only-of-type {\n",
       "        vertical-align: middle;\n",
       "    }\n",
       "\n",
       "    .dataframe tbody tr th {\n",
       "        vertical-align: top;\n",
       "    }\n",
       "\n",
       "    .dataframe thead th {\n",
       "        text-align: right;\n",
       "    }\n",
       "</style>\n",
       "<table border=\"1\" class=\"dataframe\">\n",
       "  <thead>\n",
       "    <tr style=\"text-align: right;\">\n",
       "      <th></th>\n",
       "      <th>area_type</th>\n",
       "      <th>availability</th>\n",
       "      <th>location</th>\n",
       "      <th>size</th>\n",
       "      <th>bath</th>\n",
       "      <th>balcony</th>\n",
       "      <th>Area_sqft</th>\n",
       "      <th>price</th>\n",
       "      <th>prediction_label</th>\n",
       "    </tr>\n",
       "  </thead>\n",
       "  <tbody>\n",
       "    <tr>\n",
       "      <th>0</th>\n",
       "      <td>Super built-up  Area</td>\n",
       "      <td>Ready To Move</td>\n",
       "      <td>Whitefield</td>\n",
       "      <td>2 BHK</td>\n",
       "      <td>2.0</td>\n",
       "      <td>1.0</td>\n",
       "      <td>1170</td>\n",
       "      <td>38.0</td>\n",
       "      <td>60.396008</td>\n",
       "    </tr>\n",
       "    <tr>\n",
       "      <th>1</th>\n",
       "      <td>Super built-up  Area</td>\n",
       "      <td>Ready To Move</td>\n",
       "      <td>Ramakrishnappa Layout</td>\n",
       "      <td>3 BHK</td>\n",
       "      <td>4.0</td>\n",
       "      <td>2.0</td>\n",
       "      <td>2770</td>\n",
       "      <td>290.0</td>\n",
       "      <td>555.819317</td>\n",
       "    </tr>\n",
       "    <tr>\n",
       "      <th>2</th>\n",
       "      <td>Super built-up  Area</td>\n",
       "      <td>Ready To Move</td>\n",
       "      <td>Kundalahalli</td>\n",
       "      <td>3 BHK</td>\n",
       "      <td>3.0</td>\n",
       "      <td>2.0</td>\n",
       "      <td>1724</td>\n",
       "      <td>125.0</td>\n",
       "      <td>108.181746</td>\n",
       "    </tr>\n",
       "    <tr>\n",
       "      <th>3</th>\n",
       "      <td>Built-up  Area</td>\n",
       "      <td>Ready To Move</td>\n",
       "      <td>Uttarahalli</td>\n",
       "      <td>2 BHK</td>\n",
       "      <td>2.0</td>\n",
       "      <td>2.0</td>\n",
       "      <td>1143</td>\n",
       "      <td>45.0</td>\n",
       "      <td>53.582208</td>\n",
       "    </tr>\n",
       "    <tr>\n",
       "      <th>4</th>\n",
       "      <td>Super built-up  Area</td>\n",
       "      <td>Ready To Move</td>\n",
       "      <td>Ramakrishnappa Layout</td>\n",
       "      <td>2 BHK</td>\n",
       "      <td>2.0</td>\n",
       "      <td>2.0</td>\n",
       "      <td>1500</td>\n",
       "      <td>185.0</td>\n",
       "      <td>214.270401</td>\n",
       "    </tr>\n",
       "  </tbody>\n",
       "</table>\n",
       "</div>"
      ],
      "text/plain": [
       "              area_type   availability               location   size  bath  \\\n",
       "0  Super built-up  Area  Ready To Move             Whitefield  2 BHK   2.0   \n",
       "1  Super built-up  Area  Ready To Move  Ramakrishnappa Layout  3 BHK   4.0   \n",
       "2  Super built-up  Area  Ready To Move           Kundalahalli  3 BHK   3.0   \n",
       "3        Built-up  Area  Ready To Move            Uttarahalli  2 BHK   2.0   \n",
       "4  Super built-up  Area  Ready To Move  Ramakrishnappa Layout  2 BHK   2.0   \n",
       "\n",
       "   balcony  Area_sqft  price  prediction_label  \n",
       "0      1.0       1170   38.0         60.396008  \n",
       "1      2.0       2770  290.0        555.819317  \n",
       "2      2.0       1724  125.0        108.181746  \n",
       "3      2.0       1143   45.0         53.582208  \n",
       "4      2.0       1500  185.0        214.270401  "
      ]
     },
     "execution_count": 18,
     "metadata": {},
     "output_type": "execute_result"
    }
   ],
   "source": [
    "# Predict on Unseen Data\n",
    "\n",
    "unseen_predictions = predict_model(tuned_et, data=data_unseen)\n",
    "unseen_predictions.head()"
   ]
  },
  {
   "cell_type": "code",
   "execution_count": 19,
   "id": "66d6b25c",
   "metadata": {},
   "outputs": [
    {
     "data": {
      "text/plain": [
       "0.4272"
      ]
     },
     "execution_count": 19,
     "metadata": {},
     "output_type": "execute_result"
    }
   ],
   "source": [
    "# Checking Metrics R2\n",
    "from pycaret.utils import check_metric\n",
    "check_metric(unseen_predictions.price, unseen_predictions.prediction_label, 'R2')"
   ]
  },
  {
   "cell_type": "code",
   "execution_count": 20,
   "id": "166bd114",
   "metadata": {},
   "outputs": [
    {
     "data": {
      "text/plain": [
       "112.1365"
      ]
     },
     "execution_count": 20,
     "metadata": {},
     "output_type": "execute_result"
    }
   ],
   "source": [
    "# Checking Metrics RMSE\n",
    "check_metric(unseen_predictions.price, unseen_predictions.prediction_label, 'RMSE')"
   ]
  },
  {
   "cell_type": "markdown",
   "id": "fd686aa8",
   "metadata": {},
   "source": [
    "If we observed that, the r2 value is in negative. This means that the choosen model Extra Tree Regressor fits worse than a horizontal Line.R2 is negative only when the chosen model does not follow the trend of the data, so fits worse than a horizontal line. \n",
    "\n",
    "Due to this reason we are going to do next model KNN, which is the second of top three models."
   ]
  },
  {
   "cell_type": "markdown",
   "id": "6a98238b",
   "metadata": {},
   "source": [
    "___CREATING A KNN MODEL (with 10 Fold CV and Metrics rounded to 2 decimals points)___"
   ]
  },
  {
   "cell_type": "code",
   "execution_count": 21,
   "id": "bb4e0236",
   "metadata": {},
   "outputs": [
    {
     "data": {
      "text/html": [],
      "text/plain": [
       "<IPython.core.display.HTML object>"
      ]
     },
     "metadata": {},
     "output_type": "display_data"
    },
    {
     "data": {
      "text/html": [
       "<style type=\"text/css\">\n",
       "#T_ccfe0_row10_col0, #T_ccfe0_row10_col1, #T_ccfe0_row10_col2, #T_ccfe0_row10_col3, #T_ccfe0_row10_col4, #T_ccfe0_row10_col5 {\n",
       "  background: yellow;\n",
       "}\n",
       "</style>\n",
       "<table id=\"T_ccfe0\">\n",
       "  <thead>\n",
       "    <tr>\n",
       "      <th class=\"blank level0\" >&nbsp;</th>\n",
       "      <th id=\"T_ccfe0_level0_col0\" class=\"col_heading level0 col0\" >MAE</th>\n",
       "      <th id=\"T_ccfe0_level0_col1\" class=\"col_heading level0 col1\" >MSE</th>\n",
       "      <th id=\"T_ccfe0_level0_col2\" class=\"col_heading level0 col2\" >RMSE</th>\n",
       "      <th id=\"T_ccfe0_level0_col3\" class=\"col_heading level0 col3\" >R2</th>\n",
       "      <th id=\"T_ccfe0_level0_col4\" class=\"col_heading level0 col4\" >RMSLE</th>\n",
       "      <th id=\"T_ccfe0_level0_col5\" class=\"col_heading level0 col5\" >MAPE</th>\n",
       "    </tr>\n",
       "    <tr>\n",
       "      <th class=\"index_name level0\" >Fold</th>\n",
       "      <th class=\"blank col0\" >&nbsp;</th>\n",
       "      <th class=\"blank col1\" >&nbsp;</th>\n",
       "      <th class=\"blank col2\" >&nbsp;</th>\n",
       "      <th class=\"blank col3\" >&nbsp;</th>\n",
       "      <th class=\"blank col4\" >&nbsp;</th>\n",
       "      <th class=\"blank col5\" >&nbsp;</th>\n",
       "    </tr>\n",
       "  </thead>\n",
       "  <tbody>\n",
       "    <tr>\n",
       "      <th id=\"T_ccfe0_level0_row0\" class=\"row_heading level0 row0\" >0</th>\n",
       "      <td id=\"T_ccfe0_row0_col0\" class=\"data row0 col0\" >39.97</td>\n",
       "      <td id=\"T_ccfe0_row0_col1\" class=\"data row0 col1\" >8681.98</td>\n",
       "      <td id=\"T_ccfe0_row0_col2\" class=\"data row0 col2\" >93.18</td>\n",
       "      <td id=\"T_ccfe0_row0_col3\" class=\"data row0 col3\" >0.56</td>\n",
       "      <td id=\"T_ccfe0_row0_col4\" class=\"data row0 col4\" >0.44</td>\n",
       "      <td id=\"T_ccfe0_row0_col5\" class=\"data row0 col5\" >0.38</td>\n",
       "    </tr>\n",
       "    <tr>\n",
       "      <th id=\"T_ccfe0_level0_row1\" class=\"row_heading level0 row1\" >1</th>\n",
       "      <td id=\"T_ccfe0_row1_col0\" class=\"data row1 col0\" >44.13</td>\n",
       "      <td id=\"T_ccfe0_row1_col1\" class=\"data row1 col1\" >11800.01</td>\n",
       "      <td id=\"T_ccfe0_row1_col2\" class=\"data row1 col2\" >108.63</td>\n",
       "      <td id=\"T_ccfe0_row1_col3\" class=\"data row1 col3\" >0.28</td>\n",
       "      <td id=\"T_ccfe0_row1_col4\" class=\"data row1 col4\" >0.44</td>\n",
       "      <td id=\"T_ccfe0_row1_col5\" class=\"data row1 col5\" >0.39</td>\n",
       "    </tr>\n",
       "    <tr>\n",
       "      <th id=\"T_ccfe0_level0_row2\" class=\"row_heading level0 row2\" >2</th>\n",
       "      <td id=\"T_ccfe0_row2_col0\" class=\"data row2 col0\" >39.16</td>\n",
       "      <td id=\"T_ccfe0_row2_col1\" class=\"data row2 col1\" >17744.25</td>\n",
       "      <td id=\"T_ccfe0_row2_col2\" class=\"data row2 col2\" >133.21</td>\n",
       "      <td id=\"T_ccfe0_row2_col3\" class=\"data row2 col3\" >0.52</td>\n",
       "      <td id=\"T_ccfe0_row2_col4\" class=\"data row2 col4\" >0.39</td>\n",
       "      <td id=\"T_ccfe0_row2_col5\" class=\"data row2 col5\" >0.33</td>\n",
       "    </tr>\n",
       "    <tr>\n",
       "      <th id=\"T_ccfe0_level0_row3\" class=\"row_heading level0 row3\" >3</th>\n",
       "      <td id=\"T_ccfe0_row3_col0\" class=\"data row3 col0\" >39.14</td>\n",
       "      <td id=\"T_ccfe0_row3_col1\" class=\"data row3 col1\" >17893.22</td>\n",
       "      <td id=\"T_ccfe0_row3_col2\" class=\"data row3 col2\" >133.77</td>\n",
       "      <td id=\"T_ccfe0_row3_col3\" class=\"data row3 col3\" >0.38</td>\n",
       "      <td id=\"T_ccfe0_row3_col4\" class=\"data row3 col4\" >0.39</td>\n",
       "      <td id=\"T_ccfe0_row3_col5\" class=\"data row3 col5\" >0.31</td>\n",
       "    </tr>\n",
       "    <tr>\n",
       "      <th id=\"T_ccfe0_level0_row4\" class=\"row_heading level0 row4\" >4</th>\n",
       "      <td id=\"T_ccfe0_row4_col0\" class=\"data row4 col0\" >37.80</td>\n",
       "      <td id=\"T_ccfe0_row4_col1\" class=\"data row4 col1\" >10360.76</td>\n",
       "      <td id=\"T_ccfe0_row4_col2\" class=\"data row4 col2\" >101.79</td>\n",
       "      <td id=\"T_ccfe0_row4_col3\" class=\"data row4 col3\" >0.63</td>\n",
       "      <td id=\"T_ccfe0_row4_col4\" class=\"data row4 col4\" >0.38</td>\n",
       "      <td id=\"T_ccfe0_row4_col5\" class=\"data row4 col5\" >0.32</td>\n",
       "    </tr>\n",
       "    <tr>\n",
       "      <th id=\"T_ccfe0_level0_row5\" class=\"row_heading level0 row5\" >5</th>\n",
       "      <td id=\"T_ccfe0_row5_col0\" class=\"data row5 col0\" >35.81</td>\n",
       "      <td id=\"T_ccfe0_row5_col1\" class=\"data row5 col1\" >9981.75</td>\n",
       "      <td id=\"T_ccfe0_row5_col2\" class=\"data row5 col2\" >99.91</td>\n",
       "      <td id=\"T_ccfe0_row5_col3\" class=\"data row5 col3\" >0.55</td>\n",
       "      <td id=\"T_ccfe0_row5_col4\" class=\"data row5 col4\" >0.37</td>\n",
       "      <td id=\"T_ccfe0_row5_col5\" class=\"data row5 col5\" >0.29</td>\n",
       "    </tr>\n",
       "    <tr>\n",
       "      <th id=\"T_ccfe0_level0_row6\" class=\"row_heading level0 row6\" >6</th>\n",
       "      <td id=\"T_ccfe0_row6_col0\" class=\"data row6 col0\" >38.15</td>\n",
       "      <td id=\"T_ccfe0_row6_col1\" class=\"data row6 col1\" >10463.92</td>\n",
       "      <td id=\"T_ccfe0_row6_col2\" class=\"data row6 col2\" >102.29</td>\n",
       "      <td id=\"T_ccfe0_row6_col3\" class=\"data row6 col3\" >0.44</td>\n",
       "      <td id=\"T_ccfe0_row6_col4\" class=\"data row6 col4\" >0.41</td>\n",
       "      <td id=\"T_ccfe0_row6_col5\" class=\"data row6 col5\" >0.33</td>\n",
       "    </tr>\n",
       "    <tr>\n",
       "      <th id=\"T_ccfe0_level0_row7\" class=\"row_heading level0 row7\" >7</th>\n",
       "      <td id=\"T_ccfe0_row7_col0\" class=\"data row7 col0\" >39.86</td>\n",
       "      <td id=\"T_ccfe0_row7_col1\" class=\"data row7 col1\" >11760.17</td>\n",
       "      <td id=\"T_ccfe0_row7_col2\" class=\"data row7 col2\" >108.44</td>\n",
       "      <td id=\"T_ccfe0_row7_col3\" class=\"data row7 col3\" >0.54</td>\n",
       "      <td id=\"T_ccfe0_row7_col4\" class=\"data row7 col4\" >0.41</td>\n",
       "      <td id=\"T_ccfe0_row7_col5\" class=\"data row7 col5\" >0.33</td>\n",
       "    </tr>\n",
       "    <tr>\n",
       "      <th id=\"T_ccfe0_level0_row8\" class=\"row_heading level0 row8\" >8</th>\n",
       "      <td id=\"T_ccfe0_row8_col0\" class=\"data row8 col0\" >36.85</td>\n",
       "      <td id=\"T_ccfe0_row8_col1\" class=\"data row8 col1\" >7093.52</td>\n",
       "      <td id=\"T_ccfe0_row8_col2\" class=\"data row8 col2\" >84.22</td>\n",
       "      <td id=\"T_ccfe0_row8_col3\" class=\"data row8 col3\" >0.66</td>\n",
       "      <td id=\"T_ccfe0_row8_col4\" class=\"data row8 col4\" >0.41</td>\n",
       "      <td id=\"T_ccfe0_row8_col5\" class=\"data row8 col5\" >0.35</td>\n",
       "    </tr>\n",
       "    <tr>\n",
       "      <th id=\"T_ccfe0_level0_row9\" class=\"row_heading level0 row9\" >9</th>\n",
       "      <td id=\"T_ccfe0_row9_col0\" class=\"data row9 col0\" >37.16</td>\n",
       "      <td id=\"T_ccfe0_row9_col1\" class=\"data row9 col1\" >7979.30</td>\n",
       "      <td id=\"T_ccfe0_row9_col2\" class=\"data row9 col2\" >89.33</td>\n",
       "      <td id=\"T_ccfe0_row9_col3\" class=\"data row9 col3\" >0.65</td>\n",
       "      <td id=\"T_ccfe0_row9_col4\" class=\"data row9 col4\" >0.38</td>\n",
       "      <td id=\"T_ccfe0_row9_col5\" class=\"data row9 col5\" >0.32</td>\n",
       "    </tr>\n",
       "    <tr>\n",
       "      <th id=\"T_ccfe0_level0_row10\" class=\"row_heading level0 row10\" >Mean</th>\n",
       "      <td id=\"T_ccfe0_row10_col0\" class=\"data row10 col0\" >38.80</td>\n",
       "      <td id=\"T_ccfe0_row10_col1\" class=\"data row10 col1\" >11375.89</td>\n",
       "      <td id=\"T_ccfe0_row10_col2\" class=\"data row10 col2\" >105.48</td>\n",
       "      <td id=\"T_ccfe0_row10_col3\" class=\"data row10 col3\" >0.52</td>\n",
       "      <td id=\"T_ccfe0_row10_col4\" class=\"data row10 col4\" >0.40</td>\n",
       "      <td id=\"T_ccfe0_row10_col5\" class=\"data row10 col5\" >0.33</td>\n",
       "    </tr>\n",
       "    <tr>\n",
       "      <th id=\"T_ccfe0_level0_row11\" class=\"row_heading level0 row11\" >Std</th>\n",
       "      <td id=\"T_ccfe0_row11_col0\" class=\"data row11 col0\" >2.19</td>\n",
       "      <td id=\"T_ccfe0_row11_col1\" class=\"data row11 col1\" >3525.59</td>\n",
       "      <td id=\"T_ccfe0_row11_col2\" class=\"data row11 col2\" >15.83</td>\n",
       "      <td id=\"T_ccfe0_row11_col3\" class=\"data row11 col3\" >0.11</td>\n",
       "      <td id=\"T_ccfe0_row11_col4\" class=\"data row11 col4\" >0.02</td>\n",
       "      <td id=\"T_ccfe0_row11_col5\" class=\"data row11 col5\" >0.03</td>\n",
       "    </tr>\n",
       "  </tbody>\n",
       "</table>\n"
      ],
      "text/plain": [
       "<pandas.io.formats.style.Styler at 0x2510e53b820>"
      ]
     },
     "metadata": {},
     "output_type": "display_data"
    },
    {
     "data": {
      "application/vnd.jupyter.widget-view+json": {
       "model_id": "",
       "version_major": 2,
       "version_minor": 0
      },
      "text/plain": [
       "Processing:   0%|          | 0/4 [00:00<?, ?it/s]"
      ]
     },
     "metadata": {},
     "output_type": "display_data"
    }
   ],
   "source": [
    "# Creating a mdel With K Neighbors Regressor with 10 fold cross validation.\n",
    "knn = create_model('knn', fold = 10, round = 2)"
   ]
  },
  {
   "cell_type": "markdown",
   "id": "f1ffc062",
   "metadata": {},
   "source": [
    "___TUNING KNN MODEL___"
   ]
  },
  {
   "cell_type": "code",
   "execution_count": 22,
   "id": "7e9eda8d",
   "metadata": {},
   "outputs": [
    {
     "data": {
      "text/html": [],
      "text/plain": [
       "<IPython.core.display.HTML object>"
      ]
     },
     "metadata": {},
     "output_type": "display_data"
    },
    {
     "data": {
      "text/html": [
       "<style type=\"text/css\">\n",
       "#T_694f3_row10_col0, #T_694f3_row10_col1, #T_694f3_row10_col2, #T_694f3_row10_col3, #T_694f3_row10_col4, #T_694f3_row10_col5 {\n",
       "  background: yellow;\n",
       "}\n",
       "</style>\n",
       "<table id=\"T_694f3\">\n",
       "  <thead>\n",
       "    <tr>\n",
       "      <th class=\"blank level0\" >&nbsp;</th>\n",
       "      <th id=\"T_694f3_level0_col0\" class=\"col_heading level0 col0\" >MAE</th>\n",
       "      <th id=\"T_694f3_level0_col1\" class=\"col_heading level0 col1\" >MSE</th>\n",
       "      <th id=\"T_694f3_level0_col2\" class=\"col_heading level0 col2\" >RMSE</th>\n",
       "      <th id=\"T_694f3_level0_col3\" class=\"col_heading level0 col3\" >R2</th>\n",
       "      <th id=\"T_694f3_level0_col4\" class=\"col_heading level0 col4\" >RMSLE</th>\n",
       "      <th id=\"T_694f3_level0_col5\" class=\"col_heading level0 col5\" >MAPE</th>\n",
       "    </tr>\n",
       "    <tr>\n",
       "      <th class=\"index_name level0\" >Fold</th>\n",
       "      <th class=\"blank col0\" >&nbsp;</th>\n",
       "      <th class=\"blank col1\" >&nbsp;</th>\n",
       "      <th class=\"blank col2\" >&nbsp;</th>\n",
       "      <th class=\"blank col3\" >&nbsp;</th>\n",
       "      <th class=\"blank col4\" >&nbsp;</th>\n",
       "      <th class=\"blank col5\" >&nbsp;</th>\n",
       "    </tr>\n",
       "  </thead>\n",
       "  <tbody>\n",
       "    <tr>\n",
       "      <th id=\"T_694f3_level0_row0\" class=\"row_heading level0 row0\" >0</th>\n",
       "      <td id=\"T_694f3_row0_col0\" class=\"data row0 col0\" >37.6179</td>\n",
       "      <td id=\"T_694f3_row0_col1\" class=\"data row0 col1\" >7244.8374</td>\n",
       "      <td id=\"T_694f3_row0_col2\" class=\"data row0 col2\" >85.1166</td>\n",
       "      <td id=\"T_694f3_row0_col3\" class=\"data row0 col3\" >0.6358</td>\n",
       "      <td id=\"T_694f3_row0_col4\" class=\"data row0 col4\" >0.4346</td>\n",
       "      <td id=\"T_694f3_row0_col5\" class=\"data row0 col5\" >0.3605</td>\n",
       "    </tr>\n",
       "    <tr>\n",
       "      <th id=\"T_694f3_level0_row1\" class=\"row_heading level0 row1\" >1</th>\n",
       "      <td id=\"T_694f3_row1_col0\" class=\"data row1 col0\" >40.4194</td>\n",
       "      <td id=\"T_694f3_row1_col1\" class=\"data row1 col1\" >9094.3209</td>\n",
       "      <td id=\"T_694f3_row1_col2\" class=\"data row1 col2\" >95.3641</td>\n",
       "      <td id=\"T_694f3_row1_col3\" class=\"data row1 col3\" >0.4488</td>\n",
       "      <td id=\"T_694f3_row1_col4\" class=\"data row1 col4\" >0.4200</td>\n",
       "      <td id=\"T_694f3_row1_col5\" class=\"data row1 col5\" >0.3556</td>\n",
       "    </tr>\n",
       "    <tr>\n",
       "      <th id=\"T_694f3_level0_row2\" class=\"row_heading level0 row2\" >2</th>\n",
       "      <td id=\"T_694f3_row2_col0\" class=\"data row2 col0\" >36.8437</td>\n",
       "      <td id=\"T_694f3_row2_col1\" class=\"data row2 col1\" >17339.8956</td>\n",
       "      <td id=\"T_694f3_row2_col2\" class=\"data row2 col2\" >131.6810</td>\n",
       "      <td id=\"T_694f3_row2_col3\" class=\"data row2 col3\" >0.5356</td>\n",
       "      <td id=\"T_694f3_row2_col4\" class=\"data row2 col4\" >0.3718</td>\n",
       "      <td id=\"T_694f3_row2_col5\" class=\"data row2 col5\" >0.3070</td>\n",
       "    </tr>\n",
       "    <tr>\n",
       "      <th id=\"T_694f3_level0_row3\" class=\"row_heading level0 row3\" >3</th>\n",
       "      <td id=\"T_694f3_row3_col0\" class=\"data row3 col0\" >37.8455</td>\n",
       "      <td id=\"T_694f3_row3_col1\" class=\"data row3 col1\" >16864.4993</td>\n",
       "      <td id=\"T_694f3_row3_col2\" class=\"data row3 col2\" >129.8634</td>\n",
       "      <td id=\"T_694f3_row3_col3\" class=\"data row3 col3\" >0.4178</td>\n",
       "      <td id=\"T_694f3_row3_col4\" class=\"data row3 col4\" >0.3785</td>\n",
       "      <td id=\"T_694f3_row3_col5\" class=\"data row3 col5\" >0.2945</td>\n",
       "    </tr>\n",
       "    <tr>\n",
       "      <th id=\"T_694f3_level0_row4\" class=\"row_heading level0 row4\" >4</th>\n",
       "      <td id=\"T_694f3_row4_col0\" class=\"data row4 col0\" >34.8148</td>\n",
       "      <td id=\"T_694f3_row4_col1\" class=\"data row4 col1\" >8819.2111</td>\n",
       "      <td id=\"T_694f3_row4_col2\" class=\"data row4 col2\" >93.9107</td>\n",
       "      <td id=\"T_694f3_row4_col3\" class=\"data row4 col3\" >0.6839</td>\n",
       "      <td id=\"T_694f3_row4_col4\" class=\"data row4 col4\" >0.3696</td>\n",
       "      <td id=\"T_694f3_row4_col5\" class=\"data row4 col5\" >0.3011</td>\n",
       "    </tr>\n",
       "    <tr>\n",
       "      <th id=\"T_694f3_level0_row5\" class=\"row_heading level0 row5\" >5</th>\n",
       "      <td id=\"T_694f3_row5_col0\" class=\"data row5 col0\" >36.3572</td>\n",
       "      <td id=\"T_694f3_row5_col1\" class=\"data row5 col1\" >10537.3923</td>\n",
       "      <td id=\"T_694f3_row5_col2\" class=\"data row5 col2\" >102.6518</td>\n",
       "      <td id=\"T_694f3_row5_col3\" class=\"data row5 col3\" >0.5285</td>\n",
       "      <td id=\"T_694f3_row5_col4\" class=\"data row5 col4\" >0.3700</td>\n",
       "      <td id=\"T_694f3_row5_col5\" class=\"data row5 col5\" >0.2846</td>\n",
       "    </tr>\n",
       "    <tr>\n",
       "      <th id=\"T_694f3_level0_row6\" class=\"row_heading level0 row6\" >6</th>\n",
       "      <td id=\"T_694f3_row6_col0\" class=\"data row6 col0\" >35.5085</td>\n",
       "      <td id=\"T_694f3_row6_col1\" class=\"data row6 col1\" >9771.5800</td>\n",
       "      <td id=\"T_694f3_row6_col2\" class=\"data row6 col2\" >98.8513</td>\n",
       "      <td id=\"T_694f3_row6_col3\" class=\"data row6 col3\" >0.4782</td>\n",
       "      <td id=\"T_694f3_row6_col4\" class=\"data row6 col4\" >0.3887</td>\n",
       "      <td id=\"T_694f3_row6_col5\" class=\"data row6 col5\" >0.3115</td>\n",
       "    </tr>\n",
       "    <tr>\n",
       "      <th id=\"T_694f3_level0_row7\" class=\"row_heading level0 row7\" >7</th>\n",
       "      <td id=\"T_694f3_row7_col0\" class=\"data row7 col0\" >36.9182</td>\n",
       "      <td id=\"T_694f3_row7_col1\" class=\"data row7 col1\" >9397.9222</td>\n",
       "      <td id=\"T_694f3_row7_col2\" class=\"data row7 col2\" >96.9429</td>\n",
       "      <td id=\"T_694f3_row7_col3\" class=\"data row7 col3\" >0.6347</td>\n",
       "      <td id=\"T_694f3_row7_col4\" class=\"data row7 col4\" >0.3869</td>\n",
       "      <td id=\"T_694f3_row7_col5\" class=\"data row7 col5\" >0.3128</td>\n",
       "    </tr>\n",
       "    <tr>\n",
       "      <th id=\"T_694f3_level0_row8\" class=\"row_heading level0 row8\" >8</th>\n",
       "      <td id=\"T_694f3_row8_col0\" class=\"data row8 col0\" >35.4894</td>\n",
       "      <td id=\"T_694f3_row8_col1\" class=\"data row8 col1\" >5597.2263</td>\n",
       "      <td id=\"T_694f3_row8_col2\" class=\"data row8 col2\" >74.8146</td>\n",
       "      <td id=\"T_694f3_row8_col3\" class=\"data row8 col3\" >0.7325</td>\n",
       "      <td id=\"T_694f3_row8_col4\" class=\"data row8 col4\" >0.4101</td>\n",
       "      <td id=\"T_694f3_row8_col5\" class=\"data row8 col5\" >0.3492</td>\n",
       "    </tr>\n",
       "    <tr>\n",
       "      <th id=\"T_694f3_level0_row9\" class=\"row_heading level0 row9\" >9</th>\n",
       "      <td id=\"T_694f3_row9_col0\" class=\"data row9 col0\" >35.7355</td>\n",
       "      <td id=\"T_694f3_row9_col1\" class=\"data row9 col1\" >6927.0457</td>\n",
       "      <td id=\"T_694f3_row9_col2\" class=\"data row9 col2\" >83.2289</td>\n",
       "      <td id=\"T_694f3_row9_col3\" class=\"data row9 col3\" >0.6950</td>\n",
       "      <td id=\"T_694f3_row9_col4\" class=\"data row9 col4\" >0.3757</td>\n",
       "      <td id=\"T_694f3_row9_col5\" class=\"data row9 col5\" >0.3113</td>\n",
       "    </tr>\n",
       "    <tr>\n",
       "      <th id=\"T_694f3_level0_row10\" class=\"row_heading level0 row10\" >Mean</th>\n",
       "      <td id=\"T_694f3_row10_col0\" class=\"data row10 col0\" >36.7550</td>\n",
       "      <td id=\"T_694f3_row10_col1\" class=\"data row10 col1\" >10159.3931</td>\n",
       "      <td id=\"T_694f3_row10_col2\" class=\"data row10 col2\" >99.2425</td>\n",
       "      <td id=\"T_694f3_row10_col3\" class=\"data row10 col3\" >0.5791</td>\n",
       "      <td id=\"T_694f3_row10_col4\" class=\"data row10 col4\" >0.3906</td>\n",
       "      <td id=\"T_694f3_row10_col5\" class=\"data row10 col5\" >0.3188</td>\n",
       "    </tr>\n",
       "    <tr>\n",
       "      <th id=\"T_694f3_level0_row11\" class=\"row_heading level0 row11\" >Std</th>\n",
       "      <td id=\"T_694f3_row11_col0\" class=\"data row11 col0\" >1.5334</td>\n",
       "      <td id=\"T_694f3_row11_col1\" class=\"data row11 col1\" >3742.6959</td>\n",
       "      <td id=\"T_694f3_row11_col2\" class=\"data row11 col2\" >17.6157</td>\n",
       "      <td id=\"T_694f3_row11_col3\" class=\"data row11 col3\" >0.1058</td>\n",
       "      <td id=\"T_694f3_row11_col4\" class=\"data row11 col4\" >0.0219</td>\n",
       "      <td id=\"T_694f3_row11_col5\" class=\"data row11 col5\" >0.0252</td>\n",
       "    </tr>\n",
       "  </tbody>\n",
       "</table>\n"
      ],
      "text/plain": [
       "<pandas.io.formats.style.Styler at 0x2510e647bb0>"
      ]
     },
     "metadata": {},
     "output_type": "display_data"
    },
    {
     "data": {
      "application/vnd.jupyter.widget-view+json": {
       "model_id": "",
       "version_major": 2,
       "version_minor": 0
      },
      "text/plain": [
       "Processing:   0%|          | 0/7 [00:00<?, ?it/s]"
      ]
     },
     "metadata": {},
     "output_type": "display_data"
    },
    {
     "name": "stdout",
     "output_type": "stream",
     "text": [
      "Fitting 10 folds for each of 5 candidates, totalling 50 fits\n"
     ]
    }
   ],
   "source": [
    "# Tuning KNN model\n",
    "tuned_knn = tune_model(knn, n_iter = 5)"
   ]
  },
  {
   "cell_type": "code",
   "execution_count": 23,
   "id": "ffad2ea5",
   "metadata": {},
   "outputs": [
    {
     "data": {
      "text/html": [],
      "text/plain": [
       "<IPython.core.display.HTML object>"
      ]
     },
     "metadata": {},
     "output_type": "display_data"
    },
    {
     "data": {
      "text/html": [
       "<div>\n",
       "<style scoped>\n",
       "    .dataframe tbody tr th:only-of-type {\n",
       "        vertical-align: middle;\n",
       "    }\n",
       "\n",
       "    .dataframe tbody tr th {\n",
       "        vertical-align: top;\n",
       "    }\n",
       "\n",
       "    .dataframe thead th {\n",
       "        text-align: right;\n",
       "    }\n",
       "</style>\n",
       "<table border=\"1\" class=\"dataframe\">\n",
       "  <thead>\n",
       "    <tr style=\"text-align: right;\">\n",
       "      <th></th>\n",
       "      <th>Parameters</th>\n",
       "    </tr>\n",
       "  </thead>\n",
       "  <tbody>\n",
       "    <tr>\n",
       "      <th>algorithm</th>\n",
       "      <td>auto</td>\n",
       "    </tr>\n",
       "    <tr>\n",
       "      <th>leaf_size</th>\n",
       "      <td>30</td>\n",
       "    </tr>\n",
       "    <tr>\n",
       "      <th>metric</th>\n",
       "      <td>minkowski</td>\n",
       "    </tr>\n",
       "    <tr>\n",
       "      <th>metric_params</th>\n",
       "      <td>None</td>\n",
       "    </tr>\n",
       "    <tr>\n",
       "      <th>n_jobs</th>\n",
       "      <td>-1</td>\n",
       "    </tr>\n",
       "    <tr>\n",
       "      <th>n_neighbors</th>\n",
       "      <td>9</td>\n",
       "    </tr>\n",
       "    <tr>\n",
       "      <th>p</th>\n",
       "      <td>2</td>\n",
       "    </tr>\n",
       "    <tr>\n",
       "      <th>weights</th>\n",
       "      <td>distance</td>\n",
       "    </tr>\n",
       "  </tbody>\n",
       "</table>\n",
       "</div>"
      ],
      "text/plain": [
       "              Parameters\n",
       "algorithm           auto\n",
       "leaf_size             30\n",
       "metric         minkowski\n",
       "metric_params       None\n",
       "n_jobs                -1\n",
       "n_neighbors            9\n",
       "p                      2\n",
       "weights         distance"
      ]
     },
     "metadata": {},
     "output_type": "display_data"
    }
   ],
   "source": [
    "# Observing the hyperparameters of tuned_knn\n",
    "plot_model(tuned_knn, plot = 'parameter')"
   ]
  },
  {
   "cell_type": "code",
   "execution_count": 24,
   "id": "4892f18e",
   "metadata": {},
   "outputs": [
    {
     "data": {
      "text/html": [],
      "text/plain": [
       "<IPython.core.display.HTML object>"
      ]
     },
     "metadata": {},
     "output_type": "display_data"
    },
    {
     "data": {
      "image/png": "[encoded data removed]",
      "text/plain": [
       "<Figure size 432x288 with 2 Axes>"
      ]
     },
     "metadata": {
      "needs_background": "light"
     },
     "output_type": "display_data"
    }
   ],
   "source": [
    "# Residual Plot for tuned model\n",
    "plot_model(tuned_knn)"
   ]
  },
  {
   "cell_type": "code",
   "execution_count": 25,
   "id": "6f38f247",
   "metadata": {},
   "outputs": [
    {
     "data": {
      "text/html": [],
      "text/plain": [
       "<IPython.core.display.HTML object>"
      ]
     },
     "metadata": {},
     "output_type": "display_data"
    },
    {
     "data": {
      "image/png": "[encoded data removed]",
      "text/plain": [
       "<Figure size 432x288 with 1 Axes>"
      ]
     },
     "metadata": {
      "needs_background": "light"
     },
     "output_type": "display_data"
    }
   ],
   "source": [
    "# Prediction Error Plot\n",
    "plot_model(tuned_knn, plot = 'error')"
   ]
  },
  {
   "cell_type": "code",
   "execution_count": 26,
   "id": "0f13710d",
   "metadata": {},
   "outputs": [
    {
     "data": {
      "text/html": [
       "<style type=\"text/css\">\n",
       "</style>\n",
       "<table id=\"T_1a0d5\">\n",
       "  <thead>\n",
       "    <tr>\n",
       "      <th class=\"blank level0\" >&nbsp;</th>\n",
       "      <th id=\"T_1a0d5_level0_col0\" class=\"col_heading level0 col0\" >Model</th>\n",
       "      <th id=\"T_1a0d5_level0_col1\" class=\"col_heading level0 col1\" >MAE</th>\n",
       "      <th id=\"T_1a0d5_level0_col2\" class=\"col_heading level0 col2\" >MSE</th>\n",
       "      <th id=\"T_1a0d5_level0_col3\" class=\"col_heading level0 col3\" >RMSE</th>\n",
       "      <th id=\"T_1a0d5_level0_col4\" class=\"col_heading level0 col4\" >R2</th>\n",
       "      <th id=\"T_1a0d5_level0_col5\" class=\"col_heading level0 col5\" >RMSLE</th>\n",
       "      <th id=\"T_1a0d5_level0_col6\" class=\"col_heading level0 col6\" >MAPE</th>\n",
       "    </tr>\n",
       "  </thead>\n",
       "  <tbody>\n",
       "    <tr>\n",
       "      <th id=\"T_1a0d5_level0_row0\" class=\"row_heading level0 row0\" >0</th>\n",
       "      <td id=\"T_1a0d5_row0_col0\" class=\"data row0 col0\" >K Neighbors Regressor</td>\n",
       "      <td id=\"T_1a0d5_row0_col1\" class=\"data row0 col1\" >35.6231</td>\n",
       "      <td id=\"T_1a0d5_row0_col2\" class=\"data row0 col2\" >7638.0509</td>\n",
       "      <td id=\"T_1a0d5_row0_col3\" class=\"data row0 col3\" >87.3959</td>\n",
       "      <td id=\"T_1a0d5_row0_col4\" class=\"data row0 col4\" >0.5712</td>\n",
       "      <td id=\"T_1a0d5_row0_col5\" class=\"data row0 col5\" >0.3822</td>\n",
       "      <td id=\"T_1a0d5_row0_col6\" class=\"data row0 col6\" >0.3127</td>\n",
       "    </tr>\n",
       "  </tbody>\n",
       "</table>\n"
      ],
      "text/plain": [
       "<pandas.io.formats.style.Styler at 0x2510ebd37f0>"
      ]
     },
     "metadata": {},
     "output_type": "display_data"
    }
   ],
   "source": [
    "# Predict on Test / Hold-out Sample\n",
    "\n",
    "pred = predict_model(tuned_knn);"
   ]
  },
  {
   "cell_type": "code",
   "execution_count": 27,
   "id": "3111a6aa",
   "metadata": {},
   "outputs": [],
   "source": [
    "# Finalize Model for Deployment\n",
    "final_knn = finalize_model(tuned_knn)"
   ]
  },
  {
   "cell_type": "code",
   "execution_count": 28,
   "id": "983ef06d",
   "metadata": {},
   "outputs": [
    {
     "data": {
      "text/html": [
       "<style type=\"text/css\">\n",
       "</style>\n",
       "<table id=\"T_747a6\">\n",
       "  <thead>\n",
       "    <tr>\n",
       "      <th class=\"blank level0\" >&nbsp;</th>\n",
       "      <th id=\"T_747a6_level0_col0\" class=\"col_heading level0 col0\" >Model</th>\n",
       "      <th id=\"T_747a6_level0_col1\" class=\"col_heading level0 col1\" >MAE</th>\n",
       "      <th id=\"T_747a6_level0_col2\" class=\"col_heading level0 col2\" >MSE</th>\n",
       "      <th id=\"T_747a6_level0_col3\" class=\"col_heading level0 col3\" >RMSE</th>\n",
       "      <th id=\"T_747a6_level0_col4\" class=\"col_heading level0 col4\" >R2</th>\n",
       "      <th id=\"T_747a6_level0_col5\" class=\"col_heading level0 col5\" >RMSLE</th>\n",
       "      <th id=\"T_747a6_level0_col6\" class=\"col_heading level0 col6\" >MAPE</th>\n",
       "    </tr>\n",
       "  </thead>\n",
       "  <tbody>\n",
       "    <tr>\n",
       "      <th id=\"T_747a6_level0_row0\" class=\"row_heading level0 row0\" >0</th>\n",
       "      <td id=\"T_747a6_row0_col0\" class=\"data row0 col0\" >K Neighbors Regressor</td>\n",
       "      <td id=\"T_747a6_row0_col1\" class=\"data row0 col1\" >35.0491</td>\n",
       "      <td id=\"T_747a6_row0_col2\" class=\"data row0 col2\" >10311.9027</td>\n",
       "      <td id=\"T_747a6_row0_col3\" class=\"data row0 col3\" >101.5475</td>\n",
       "      <td id=\"T_747a6_row0_col4\" class=\"data row0 col4\" >0.5303</td>\n",
       "      <td id=\"T_747a6_row0_col5\" class=\"data row0 col5\" >0.3881</td>\n",
       "      <td id=\"T_747a6_row0_col6\" class=\"data row0 col6\" >0.3023</td>\n",
       "    </tr>\n",
       "  </tbody>\n",
       "</table>\n"
      ],
      "text/plain": [
       "<pandas.io.formats.style.Styler at 0x2516715f310>"
      ]
     },
     "metadata": {},
     "output_type": "display_data"
    },
    {
     "data": {
      "text/html": [
       "<div>\n",
       "<style scoped>\n",
       "    .dataframe tbody tr th:only-of-type {\n",
       "        vertical-align: middle;\n",
       "    }\n",
       "\n",
       "    .dataframe tbody tr th {\n",
       "        vertical-align: top;\n",
       "    }\n",
       "\n",
       "    .dataframe thead th {\n",
       "        text-align: right;\n",
       "    }\n",
       "</style>\n",
       "<table border=\"1\" class=\"dataframe\">\n",
       "  <thead>\n",
       "    <tr style=\"text-align: right;\">\n",
       "      <th></th>\n",
       "      <th>area_type</th>\n",
       "      <th>availability</th>\n",
       "      <th>location</th>\n",
       "      <th>size</th>\n",
       "      <th>bath</th>\n",
       "      <th>balcony</th>\n",
       "      <th>Area_sqft</th>\n",
       "      <th>price</th>\n",
       "      <th>prediction_label</th>\n",
       "    </tr>\n",
       "  </thead>\n",
       "  <tbody>\n",
       "    <tr>\n",
       "      <th>0</th>\n",
       "      <td>Super built-up  Area</td>\n",
       "      <td>Ready To Move</td>\n",
       "      <td>Whitefield</td>\n",
       "      <td>2 BHK</td>\n",
       "      <td>2.0</td>\n",
       "      <td>1.0</td>\n",
       "      <td>1170</td>\n",
       "      <td>38.0</td>\n",
       "      <td>70.122780</td>\n",
       "    </tr>\n",
       "    <tr>\n",
       "      <th>1</th>\n",
       "      <td>Super built-up  Area</td>\n",
       "      <td>Ready To Move</td>\n",
       "      <td>Ramakrishnappa Layout</td>\n",
       "      <td>3 BHK</td>\n",
       "      <td>4.0</td>\n",
       "      <td>2.0</td>\n",
       "      <td>2770</td>\n",
       "      <td>290.0</td>\n",
       "      <td>345.282233</td>\n",
       "    </tr>\n",
       "    <tr>\n",
       "      <th>2</th>\n",
       "      <td>Super built-up  Area</td>\n",
       "      <td>Ready To Move</td>\n",
       "      <td>Kundalahalli</td>\n",
       "      <td>3 BHK</td>\n",
       "      <td>3.0</td>\n",
       "      <td>2.0</td>\n",
       "      <td>1724</td>\n",
       "      <td>125.0</td>\n",
       "      <td>123.291572</td>\n",
       "    </tr>\n",
       "    <tr>\n",
       "      <th>3</th>\n",
       "      <td>Built-up  Area</td>\n",
       "      <td>Ready To Move</td>\n",
       "      <td>Uttarahalli</td>\n",
       "      <td>2 BHK</td>\n",
       "      <td>2.0</td>\n",
       "      <td>2.0</td>\n",
       "      <td>1143</td>\n",
       "      <td>45.0</td>\n",
       "      <td>50.028771</td>\n",
       "    </tr>\n",
       "    <tr>\n",
       "      <th>4</th>\n",
       "      <td>Super built-up  Area</td>\n",
       "      <td>Ready To Move</td>\n",
       "      <td>Ramakrishnappa Layout</td>\n",
       "      <td>2 BHK</td>\n",
       "      <td>2.0</td>\n",
       "      <td>2.0</td>\n",
       "      <td>1500</td>\n",
       "      <td>185.0</td>\n",
       "      <td>128.010103</td>\n",
       "    </tr>\n",
       "  </tbody>\n",
       "</table>\n",
       "</div>"
      ],
      "text/plain": [
       "              area_type   availability               location   size  bath  \\\n",
       "0  Super built-up  Area  Ready To Move             Whitefield  2 BHK   2.0   \n",
       "1  Super built-up  Area  Ready To Move  Ramakrishnappa Layout  3 BHK   4.0   \n",
       "2  Super built-up  Area  Ready To Move           Kundalahalli  3 BHK   3.0   \n",
       "3        Built-up  Area  Ready To Move            Uttarahalli  2 BHK   2.0   \n",
       "4  Super built-up  Area  Ready To Move  Ramakrishnappa Layout  2 BHK   2.0   \n",
       "\n",
       "   balcony  Area_sqft  price  prediction_label  \n",
       "0      1.0       1170   38.0         70.122780  \n",
       "1      2.0       2770  290.0        345.282233  \n",
       "2      2.0       1724  125.0        123.291572  \n",
       "3      2.0       1143   45.0         50.028771  \n",
       "4      2.0       1500  185.0        128.010103  "
      ]
     },
     "execution_count": 28,
     "metadata": {},
     "output_type": "execute_result"
    }
   ],
   "source": [
    "# Predict on Unseen Data\n",
    "\n",
    "unseen_predictions = predict_model(final_knn, data=data_unseen)\n",
    "unseen_predictions.head()"
   ]
  },
  {
   "cell_type": "code",
   "execution_count": 29,
   "id": "440d7655",
   "metadata": {},
   "outputs": [
    {
     "data": {
      "text/plain": [
       "0.5303"
      ]
     },
     "execution_count": 29,
     "metadata": {},
     "output_type": "execute_result"
    }
   ],
   "source": [
    "# Checking Metrics\n",
    "from pycaret.utils import check_metric\n",
    "check_metric(unseen_predictions.price, unseen_predictions.prediction_label,'R2')"
   ]
  },
  {
   "cell_type": "code",
   "execution_count": 30,
   "id": "e8e13e7d",
   "metadata": {},
   "outputs": [
    {
     "data": {
      "text/plain": [
       "101.5475"
      ]
     },
     "execution_count": 30,
     "metadata": {},
     "output_type": "execute_result"
    }
   ],
   "source": [
    "# Checking Metrics\n",
    "from pycaret.utils import check_metric\n",
    "check_metric(unseen_predictions.price, unseen_predictions.prediction_label,'RMSE')"
   ]
  },
  {
   "cell_type": "code",
   "execution_count": 31,
   "id": "7b6f8589",
   "metadata": {},
   "outputs": [
    {
     "data": {
      "text/html": [],
      "text/plain": [
       "<IPython.core.display.HTML object>"
      ]
     },
     "metadata": {},
     "output_type": "display_data"
    },
    {
     "data": {
      "text/html": [
       "<style type=\"text/css\">\n",
       "#T_25286_row10_col0, #T_25286_row10_col1, #T_25286_row10_col2, #T_25286_row10_col3, #T_25286_row10_col4, #T_25286_row10_col5 {\n",
       "  background: yellow;\n",
       "}\n",
       "</style>\n",
       "<table id=\"T_25286\">\n",
       "  <thead>\n",
       "    <tr>\n",
       "      <th class=\"blank level0\" >&nbsp;</th>\n",
       "      <th id=\"T_25286_level0_col0\" class=\"col_heading level0 col0\" >MAE</th>\n",
       "      <th id=\"T_25286_level0_col1\" class=\"col_heading level0 col1\" >MSE</th>\n",
       "      <th id=\"T_25286_level0_col2\" class=\"col_heading level0 col2\" >RMSE</th>\n",
       "      <th id=\"T_25286_level0_col3\" class=\"col_heading level0 col3\" >R2</th>\n",
       "      <th id=\"T_25286_level0_col4\" class=\"col_heading level0 col4\" >RMSLE</th>\n",
       "      <th id=\"T_25286_level0_col5\" class=\"col_heading level0 col5\" >MAPE</th>\n",
       "    </tr>\n",
       "    <tr>\n",
       "      <th class=\"index_name level0\" >Fold</th>\n",
       "      <th class=\"blank col0\" >&nbsp;</th>\n",
       "      <th class=\"blank col1\" >&nbsp;</th>\n",
       "      <th class=\"blank col2\" >&nbsp;</th>\n",
       "      <th class=\"blank col3\" >&nbsp;</th>\n",
       "      <th class=\"blank col4\" >&nbsp;</th>\n",
       "      <th class=\"blank col5\" >&nbsp;</th>\n",
       "    </tr>\n",
       "  </thead>\n",
       "  <tbody>\n",
       "    <tr>\n",
       "      <th id=\"T_25286_level0_row0\" class=\"row_heading level0 row0\" >0</th>\n",
       "      <td id=\"T_25286_row0_col0\" class=\"data row0 col0\" >55.36</td>\n",
       "      <td id=\"T_25286_row0_col1\" class=\"data row0 col1\" >9330.40</td>\n",
       "      <td id=\"T_25286_row0_col2\" class=\"data row0 col2\" >96.59</td>\n",
       "      <td id=\"T_25286_row0_col3\" class=\"data row0 col3\" >0.53</td>\n",
       "      <td id=\"T_25286_row0_col4\" class=\"data row0 col4\" >0.60</td>\n",
       "      <td id=\"T_25286_row0_col5\" class=\"data row0 col5\" >0.65</td>\n",
       "    </tr>\n",
       "    <tr>\n",
       "      <th id=\"T_25286_level0_row1\" class=\"row_heading level0 row1\" >1</th>\n",
       "      <td id=\"T_25286_row1_col0\" class=\"data row1 col0\" >55.78</td>\n",
       "      <td id=\"T_25286_row1_col1\" class=\"data row1 col1\" >9614.52</td>\n",
       "      <td id=\"T_25286_row1_col2\" class=\"data row1 col2\" >98.05</td>\n",
       "      <td id=\"T_25286_row1_col3\" class=\"data row1 col3\" >0.42</td>\n",
       "      <td id=\"T_25286_row1_col4\" class=\"data row1 col4\" >0.58</td>\n",
       "      <td id=\"T_25286_row1_col5\" class=\"data row1 col5\" >0.60</td>\n",
       "    </tr>\n",
       "    <tr>\n",
       "      <th id=\"T_25286_level0_row2\" class=\"row_heading level0 row2\" >2</th>\n",
       "      <td id=\"T_25286_row2_col0\" class=\"data row2 col0\" >60.12</td>\n",
       "      <td id=\"T_25286_row2_col1\" class=\"data row2 col1\" >21415.51</td>\n",
       "      <td id=\"T_25286_row2_col2\" class=\"data row2 col2\" >146.34</td>\n",
       "      <td id=\"T_25286_row2_col3\" class=\"data row2 col3\" >0.43</td>\n",
       "      <td id=\"T_25286_row2_col4\" class=\"data row2 col4\" >0.62</td>\n",
       "      <td id=\"T_25286_row2_col5\" class=\"data row2 col5\" >0.70</td>\n",
       "    </tr>\n",
       "    <tr>\n",
       "      <th id=\"T_25286_level0_row3\" class=\"row_heading level0 row3\" >3</th>\n",
       "      <td id=\"T_25286_row3_col0\" class=\"data row3 col0\" >57.02</td>\n",
       "      <td id=\"T_25286_row3_col1\" class=\"data row3 col1\" >18170.28</td>\n",
       "      <td id=\"T_25286_row3_col2\" class=\"data row3 col2\" >134.80</td>\n",
       "      <td id=\"T_25286_row3_col3\" class=\"data row3 col3\" >0.37</td>\n",
       "      <td id=\"T_25286_row3_col4\" class=\"data row3 col4\" >0.61</td>\n",
       "      <td id=\"T_25286_row3_col5\" class=\"data row3 col5\" >0.67</td>\n",
       "    </tr>\n",
       "    <tr>\n",
       "      <th id=\"T_25286_level0_row4\" class=\"row_heading level0 row4\" >4</th>\n",
       "      <td id=\"T_25286_row4_col0\" class=\"data row4 col0\" >55.77</td>\n",
       "      <td id=\"T_25286_row4_col1\" class=\"data row4 col1\" >14686.27</td>\n",
       "      <td id=\"T_25286_row4_col2\" class=\"data row4 col2\" >121.19</td>\n",
       "      <td id=\"T_25286_row4_col3\" class=\"data row4 col3\" >0.47</td>\n",
       "      <td id=\"T_25286_row4_col4\" class=\"data row4 col4\" >0.59</td>\n",
       "      <td id=\"T_25286_row4_col5\" class=\"data row4 col5\" >0.64</td>\n",
       "    </tr>\n",
       "    <tr>\n",
       "      <th id=\"T_25286_level0_row5\" class=\"row_heading level0 row5\" >5</th>\n",
       "      <td id=\"T_25286_row5_col0\" class=\"data row5 col0\" >56.89</td>\n",
       "      <td id=\"T_25286_row5_col1\" class=\"data row5 col1\" >16149.00</td>\n",
       "      <td id=\"T_25286_row5_col2\" class=\"data row5 col2\" >127.08</td>\n",
       "      <td id=\"T_25286_row5_col3\" class=\"data row5 col3\" >0.28</td>\n",
       "      <td id=\"T_25286_row5_col4\" class=\"data row5 col4\" >0.60</td>\n",
       "      <td id=\"T_25286_row5_col5\" class=\"data row5 col5\" >0.64</td>\n",
       "    </tr>\n",
       "    <tr>\n",
       "      <th id=\"T_25286_level0_row6\" class=\"row_heading level0 row6\" >6</th>\n",
       "      <td id=\"T_25286_row6_col0\" class=\"data row6 col0\" >54.48</td>\n",
       "      <td id=\"T_25286_row6_col1\" class=\"data row6 col1\" >14551.61</td>\n",
       "      <td id=\"T_25286_row6_col2\" class=\"data row6 col2\" >120.63</td>\n",
       "      <td id=\"T_25286_row6_col3\" class=\"data row6 col3\" >0.22</td>\n",
       "      <td id=\"T_25286_row6_col4\" class=\"data row6 col4\" >0.58</td>\n",
       "      <td id=\"T_25286_row6_col5\" class=\"data row6 col5\" >0.62</td>\n",
       "    </tr>\n",
       "    <tr>\n",
       "      <th id=\"T_25286_level0_row7\" class=\"row_heading level0 row7\" >7</th>\n",
       "      <td id=\"T_25286_row7_col0\" class=\"data row7 col0\" >54.43</td>\n",
       "      <td id=\"T_25286_row7_col1\" class=\"data row7 col1\" >12070.63</td>\n",
       "      <td id=\"T_25286_row7_col2\" class=\"data row7 col2\" >109.87</td>\n",
       "      <td id=\"T_25286_row7_col3\" class=\"data row7 col3\" >0.53</td>\n",
       "      <td id=\"T_25286_row7_col4\" class=\"data row7 col4\" >0.59</td>\n",
       "      <td id=\"T_25286_row7_col5\" class=\"data row7 col5\" >0.65</td>\n",
       "    </tr>\n",
       "    <tr>\n",
       "      <th id=\"T_25286_level0_row8\" class=\"row_heading level0 row8\" >8</th>\n",
       "      <td id=\"T_25286_row8_col0\" class=\"data row8 col0\" >51.56</td>\n",
       "      <td id=\"T_25286_row8_col1\" class=\"data row8 col1\" >8870.01</td>\n",
       "      <td id=\"T_25286_row8_col2\" class=\"data row8 col2\" >94.18</td>\n",
       "      <td id=\"T_25286_row8_col3\" class=\"data row8 col3\" >0.58</td>\n",
       "      <td id=\"T_25286_row8_col4\" class=\"data row8 col4\" >0.58</td>\n",
       "      <td id=\"T_25286_row8_col5\" class=\"data row8 col5\" >0.65</td>\n",
       "    </tr>\n",
       "    <tr>\n",
       "      <th id=\"T_25286_level0_row9\" class=\"row_heading level0 row9\" >9</th>\n",
       "      <td id=\"T_25286_row9_col0\" class=\"data row9 col0\" >54.89</td>\n",
       "      <td id=\"T_25286_row9_col1\" class=\"data row9 col1\" >10642.39</td>\n",
       "      <td id=\"T_25286_row9_col2\" class=\"data row9 col2\" >103.16</td>\n",
       "      <td id=\"T_25286_row9_col3\" class=\"data row9 col3\" >0.53</td>\n",
       "      <td id=\"T_25286_row9_col4\" class=\"data row9 col4\" >0.60</td>\n",
       "      <td id=\"T_25286_row9_col5\" class=\"data row9 col5\" >0.64</td>\n",
       "    </tr>\n",
       "    <tr>\n",
       "      <th id=\"T_25286_level0_row10\" class=\"row_heading level0 row10\" >Mean</th>\n",
       "      <td id=\"T_25286_row10_col0\" class=\"data row10 col0\" >55.63</td>\n",
       "      <td id=\"T_25286_row10_col1\" class=\"data row10 col1\" >13550.06</td>\n",
       "      <td id=\"T_25286_row10_col2\" class=\"data row10 col2\" >115.19</td>\n",
       "      <td id=\"T_25286_row10_col3\" class=\"data row10 col3\" >0.44</td>\n",
       "      <td id=\"T_25286_row10_col4\" class=\"data row10 col4\" >0.60</td>\n",
       "      <td id=\"T_25286_row10_col5\" class=\"data row10 col5\" >0.65</td>\n",
       "    </tr>\n",
       "    <tr>\n",
       "      <th id=\"T_25286_level0_row11\" class=\"row_heading level0 row11\" >Std</th>\n",
       "      <td id=\"T_25286_row11_col0\" class=\"data row11 col0\" >2.09</td>\n",
       "      <td id=\"T_25286_row11_col1\" class=\"data row11 col1\" >3976.18</td>\n",
       "      <td id=\"T_25286_row11_col2\" class=\"data row11 col2\" >16.78</td>\n",
       "      <td id=\"T_25286_row11_col3\" class=\"data row11 col3\" >0.11</td>\n",
       "      <td id=\"T_25286_row11_col4\" class=\"data row11 col4\" >0.01</td>\n",
       "      <td id=\"T_25286_row11_col5\" class=\"data row11 col5\" >0.03</td>\n",
       "    </tr>\n",
       "  </tbody>\n",
       "</table>\n"
      ],
      "text/plain": [
       "<pandas.io.formats.style.Styler at 0x2510df12be0>"
      ]
     },
     "metadata": {},
     "output_type": "display_data"
    },
    {
     "data": {
      "application/vnd.jupyter.widget-view+json": {
       "model_id": "",
       "version_major": 2,
       "version_minor": 0
      },
      "text/plain": [
       "Processing:   0%|          | 0/4 [00:00<?, ?it/s]"
      ]
     },
     "metadata": {},
     "output_type": "display_data"
    }
   ],
   "source": [
    "# Creating a mdel With K Neighbors Regressor with 10 fold cross validation.\n",
    "gbr = create_model('gbr', fold = 10, round = 2)"
   ]
  },
  {
   "cell_type": "code",
   "execution_count": 32,
   "id": "c150be33",
   "metadata": {},
   "outputs": [
    {
     "data": {
      "text/html": [],
      "text/plain": [
       "<IPython.core.display.HTML object>"
      ]
     },
     "metadata": {},
     "output_type": "display_data"
    },
    {
     "data": {
      "text/html": [
       "<style type=\"text/css\">\n",
       "#T_b5de3_row10_col0, #T_b5de3_row10_col1, #T_b5de3_row10_col2, #T_b5de3_row10_col3, #T_b5de3_row10_col4, #T_b5de3_row10_col5 {\n",
       "  background: yellow;\n",
       "}\n",
       "</style>\n",
       "<table id=\"T_b5de3\">\n",
       "  <thead>\n",
       "    <tr>\n",
       "      <th class=\"blank level0\" >&nbsp;</th>\n",
       "      <th id=\"T_b5de3_level0_col0\" class=\"col_heading level0 col0\" >MAE</th>\n",
       "      <th id=\"T_b5de3_level0_col1\" class=\"col_heading level0 col1\" >MSE</th>\n",
       "      <th id=\"T_b5de3_level0_col2\" class=\"col_heading level0 col2\" >RMSE</th>\n",
       "      <th id=\"T_b5de3_level0_col3\" class=\"col_heading level0 col3\" >R2</th>\n",
       "      <th id=\"T_b5de3_level0_col4\" class=\"col_heading level0 col4\" >RMSLE</th>\n",
       "      <th id=\"T_b5de3_level0_col5\" class=\"col_heading level0 col5\" >MAPE</th>\n",
       "    </tr>\n",
       "    <tr>\n",
       "      <th class=\"index_name level0\" >Fold</th>\n",
       "      <th class=\"blank col0\" >&nbsp;</th>\n",
       "      <th class=\"blank col1\" >&nbsp;</th>\n",
       "      <th class=\"blank col2\" >&nbsp;</th>\n",
       "      <th class=\"blank col3\" >&nbsp;</th>\n",
       "      <th class=\"blank col4\" >&nbsp;</th>\n",
       "      <th class=\"blank col5\" >&nbsp;</th>\n",
       "    </tr>\n",
       "  </thead>\n",
       "  <tbody>\n",
       "    <tr>\n",
       "      <th id=\"T_b5de3_level0_row0\" class=\"row_heading level0 row0\" >0</th>\n",
       "      <td id=\"T_b5de3_row0_col0\" class=\"data row0 col0\" >52.0444</td>\n",
       "      <td id=\"T_b5de3_row0_col1\" class=\"data row0 col1\" >8845.7445</td>\n",
       "      <td id=\"T_b5de3_row0_col2\" class=\"data row0 col2\" >94.0518</td>\n",
       "      <td id=\"T_b5de3_row0_col3\" class=\"data row0 col3\" >0.5554</td>\n",
       "      <td id=\"T_b5de3_row0_col4\" class=\"data row0 col4\" >0.5801</td>\n",
       "      <td id=\"T_b5de3_row0_col5\" class=\"data row0 col5\" >0.6460</td>\n",
       "    </tr>\n",
       "    <tr>\n",
       "      <th id=\"T_b5de3_level0_row1\" class=\"row_heading level0 row1\" >1</th>\n",
       "      <td id=\"T_b5de3_row1_col0\" class=\"data row1 col0\" >50.5506</td>\n",
       "      <td id=\"T_b5de3_row1_col1\" class=\"data row1 col1\" >8180.0568</td>\n",
       "      <td id=\"T_b5de3_row1_col2\" class=\"data row1 col2\" >90.4437</td>\n",
       "      <td id=\"T_b5de3_row1_col3\" class=\"data row1 col3\" >0.5042</td>\n",
       "      <td id=\"T_b5de3_row1_col4\" class=\"data row1 col4\" >0.5384</td>\n",
       "      <td id=\"T_b5de3_row1_col5\" class=\"data row1 col5\" >0.5652</td>\n",
       "    </tr>\n",
       "    <tr>\n",
       "      <th id=\"T_b5de3_level0_row2\" class=\"row_heading level0 row2\" >2</th>\n",
       "      <td id=\"T_b5de3_row2_col0\" class=\"data row2 col0\" >51.9601</td>\n",
       "      <td id=\"T_b5de3_row2_col1\" class=\"data row2 col1\" >22170.0742</td>\n",
       "      <td id=\"T_b5de3_row2_col2\" class=\"data row2 col2\" >148.8962</td>\n",
       "      <td id=\"T_b5de3_row2_col3\" class=\"data row2 col3\" >0.4063</td>\n",
       "      <td id=\"T_b5de3_row2_col4\" class=\"data row2 col4\" >0.5422</td>\n",
       "      <td id=\"T_b5de3_row2_col5\" class=\"data row2 col5\" >0.6030</td>\n",
       "    </tr>\n",
       "    <tr>\n",
       "      <th id=\"T_b5de3_level0_row3\" class=\"row_heading level0 row3\" >3</th>\n",
       "      <td id=\"T_b5de3_row3_col0\" class=\"data row3 col0\" >49.7598</td>\n",
       "      <td id=\"T_b5de3_row3_col1\" class=\"data row3 col1\" >16217.8602</td>\n",
       "      <td id=\"T_b5de3_row3_col2\" class=\"data row3 col2\" >127.3494</td>\n",
       "      <td id=\"T_b5de3_row3_col3\" class=\"data row3 col3\" >0.4401</td>\n",
       "      <td id=\"T_b5de3_row3_col4\" class=\"data row3 col4\" >0.5383</td>\n",
       "      <td id=\"T_b5de3_row3_col5\" class=\"data row3 col5\" >0.5944</td>\n",
       "    </tr>\n",
       "    <tr>\n",
       "      <th id=\"T_b5de3_level0_row4\" class=\"row_heading level0 row4\" >4</th>\n",
       "      <td id=\"T_b5de3_row4_col0\" class=\"data row4 col0\" >48.8815</td>\n",
       "      <td id=\"T_b5de3_row4_col1\" class=\"data row4 col1\" >14249.0189</td>\n",
       "      <td id=\"T_b5de3_row4_col2\" class=\"data row4 col2\" >119.3693</td>\n",
       "      <td id=\"T_b5de3_row4_col3\" class=\"data row4 col3\" >0.4893</td>\n",
       "      <td id=\"T_b5de3_row4_col4\" class=\"data row4 col4\" >0.5201</td>\n",
       "      <td id=\"T_b5de3_row4_col5\" class=\"data row4 col5\" >0.5586</td>\n",
       "    </tr>\n",
       "    <tr>\n",
       "      <th id=\"T_b5de3_level0_row5\" class=\"row_heading level0 row5\" >5</th>\n",
       "      <td id=\"T_b5de3_row5_col0\" class=\"data row5 col0\" >51.4507</td>\n",
       "      <td id=\"T_b5de3_row5_col1\" class=\"data row5 col1\" >14410.9356</td>\n",
       "      <td id=\"T_b5de3_row5_col2\" class=\"data row5 col2\" >120.0456</td>\n",
       "      <td id=\"T_b5de3_row5_col3\" class=\"data row5 col3\" >0.3552</td>\n",
       "      <td id=\"T_b5de3_row5_col4\" class=\"data row5 col4\" >0.5506</td>\n",
       "      <td id=\"T_b5de3_row5_col5\" class=\"data row5 col5\" >0.5868</td>\n",
       "    </tr>\n",
       "    <tr>\n",
       "      <th id=\"T_b5de3_level0_row6\" class=\"row_heading level0 row6\" >6</th>\n",
       "      <td id=\"T_b5de3_row6_col0\" class=\"data row6 col0\" >49.3968</td>\n",
       "      <td id=\"T_b5de3_row6_col1\" class=\"data row6 col1\" >12450.1238</td>\n",
       "      <td id=\"T_b5de3_row6_col2\" class=\"data row6 col2\" >111.5801</td>\n",
       "      <td id=\"T_b5de3_row6_col3\" class=\"data row6 col3\" >0.3352</td>\n",
       "      <td id=\"T_b5de3_row6_col4\" class=\"data row6 col4\" >0.5471</td>\n",
       "      <td id=\"T_b5de3_row6_col5\" class=\"data row6 col5\" >0.5972</td>\n",
       "    </tr>\n",
       "    <tr>\n",
       "      <th id=\"T_b5de3_level0_row7\" class=\"row_heading level0 row7\" >7</th>\n",
       "      <td id=\"T_b5de3_row7_col0\" class=\"data row7 col0\" >51.1498</td>\n",
       "      <td id=\"T_b5de3_row7_col1\" class=\"data row7 col1\" >13635.3592</td>\n",
       "      <td id=\"T_b5de3_row7_col2\" class=\"data row7 col2\" >116.7705</td>\n",
       "      <td id=\"T_b5de3_row7_col3\" class=\"data row7 col3\" >0.4699</td>\n",
       "      <td id=\"T_b5de3_row7_col4\" class=\"data row7 col4\" >0.5532</td>\n",
       "      <td id=\"T_b5de3_row7_col5\" class=\"data row7 col5\" >0.6105</td>\n",
       "    </tr>\n",
       "    <tr>\n",
       "      <th id=\"T_b5de3_level0_row8\" class=\"row_heading level0 row8\" >8</th>\n",
       "      <td id=\"T_b5de3_row8_col0\" class=\"data row8 col0\" >51.2783</td>\n",
       "      <td id=\"T_b5de3_row8_col1\" class=\"data row8 col1\" >12234.6924</td>\n",
       "      <td id=\"T_b5de3_row8_col2\" class=\"data row8 col2\" >110.6105</td>\n",
       "      <td id=\"T_b5de3_row8_col3\" class=\"data row8 col3\" >0.4153</td>\n",
       "      <td id=\"T_b5de3_row8_col4\" class=\"data row8 col4\" >0.5726</td>\n",
       "      <td id=\"T_b5de3_row8_col5\" class=\"data row8 col5\" >0.6532</td>\n",
       "    </tr>\n",
       "    <tr>\n",
       "      <th id=\"T_b5de3_level0_row9\" class=\"row_heading level0 row9\" >9</th>\n",
       "      <td id=\"T_b5de3_row9_col0\" class=\"data row9 col0\" >50.4455</td>\n",
       "      <td id=\"T_b5de3_row9_col1\" class=\"data row9 col1\" >11616.6514</td>\n",
       "      <td id=\"T_b5de3_row9_col2\" class=\"data row9 col2\" >107.7806</td>\n",
       "      <td id=\"T_b5de3_row9_col3\" class=\"data row9 col3\" >0.4885</td>\n",
       "      <td id=\"T_b5de3_row9_col4\" class=\"data row9 col4\" >0.5455</td>\n",
       "      <td id=\"T_b5de3_row9_col5\" class=\"data row9 col5\" >0.5927</td>\n",
       "    </tr>\n",
       "    <tr>\n",
       "      <th id=\"T_b5de3_level0_row10\" class=\"row_heading level0 row10\" >Mean</th>\n",
       "      <td id=\"T_b5de3_row10_col0\" class=\"data row10 col0\" >50.6918</td>\n",
       "      <td id=\"T_b5de3_row10_col1\" class=\"data row10 col1\" >13401.0517</td>\n",
       "      <td id=\"T_b5de3_row10_col2\" class=\"data row10 col2\" >114.6898</td>\n",
       "      <td id=\"T_b5de3_row10_col3\" class=\"data row10 col3\" >0.4459</td>\n",
       "      <td id=\"T_b5de3_row10_col4\" class=\"data row10 col4\" >0.5488</td>\n",
       "      <td id=\"T_b5de3_row10_col5\" class=\"data row10 col5\" >0.6008</td>\n",
       "    </tr>\n",
       "    <tr>\n",
       "      <th id=\"T_b5de3_level0_row11\" class=\"row_heading level0 row11\" >Std</th>\n",
       "      <td id=\"T_b5de3_row11_col0\" class=\"data row11 col0\" >1.0233</td>\n",
       "      <td id=\"T_b5de3_row11_col1\" class=\"data row11 col1\" >3742.7574</td>\n",
       "      <td id=\"T_b5de3_row11_col2\" class=\"data row11 col2\" >15.7261</td>\n",
       "      <td id=\"T_b5de3_row11_col3\" class=\"data row11 col3\" >0.0653</td>\n",
       "      <td id=\"T_b5de3_row11_col4\" class=\"data row11 col4\" >0.0163</td>\n",
       "      <td id=\"T_b5de3_row11_col5\" class=\"data row11 col5\" >0.0287</td>\n",
       "    </tr>\n",
       "  </tbody>\n",
       "</table>\n"
      ],
      "text/plain": [
       "<pandas.io.formats.style.Styler at 0x251670e8cd0>"
      ]
     },
     "metadata": {},
     "output_type": "display_data"
    },
    {
     "data": {
      "application/vnd.jupyter.widget-view+json": {
       "model_id": "",
       "version_major": 2,
       "version_minor": 0
      },
      "text/plain": [
       "Processing:   0%|          | 0/7 [00:00<?, ?it/s]"
      ]
     },
     "metadata": {},
     "output_type": "display_data"
    },
    {
     "name": "stdout",
     "output_type": "stream",
     "text": [
      "Fitting 10 folds for each of 5 candidates, totalling 50 fits\n"
     ]
    }
   ],
   "source": [
    "# Tuning Gradient Boosting Regressor\n",
    "tuned_gbr = tune_model(gbr, n_iter = 5)"
   ]
  },
  {
   "cell_type": "code",
   "execution_count": 33,
   "id": "6576cc6a",
   "metadata": {},
   "outputs": [
    {
     "data": {
      "text/html": [
       "<style type=\"text/css\">\n",
       "</style>\n",
       "<table id=\"T_1bece\">\n",
       "  <thead>\n",
       "    <tr>\n",
       "      <th class=\"blank level0\" >&nbsp;</th>\n",
       "      <th id=\"T_1bece_level0_col0\" class=\"col_heading level0 col0\" >Model</th>\n",
       "      <th id=\"T_1bece_level0_col1\" class=\"col_heading level0 col1\" >MAE</th>\n",
       "      <th id=\"T_1bece_level0_col2\" class=\"col_heading level0 col2\" >MSE</th>\n",
       "      <th id=\"T_1bece_level0_col3\" class=\"col_heading level0 col3\" >RMSE</th>\n",
       "      <th id=\"T_1bece_level0_col4\" class=\"col_heading level0 col4\" >R2</th>\n",
       "      <th id=\"T_1bece_level0_col5\" class=\"col_heading level0 col5\" >RMSLE</th>\n",
       "      <th id=\"T_1bece_level0_col6\" class=\"col_heading level0 col6\" >MAPE</th>\n",
       "    </tr>\n",
       "  </thead>\n",
       "  <tbody>\n",
       "    <tr>\n",
       "      <th id=\"T_1bece_level0_row0\" class=\"row_heading level0 row0\" >0</th>\n",
       "      <td id=\"T_1bece_row0_col0\" class=\"data row0 col0\" >Gradient Boosting Regressor</td>\n",
       "      <td id=\"T_1bece_row0_col1\" class=\"data row0 col1\" >49.2377</td>\n",
       "      <td id=\"T_1bece_row0_col2\" class=\"data row0 col2\" >10187.9740</td>\n",
       "      <td id=\"T_1bece_row0_col3\" class=\"data row0 col3\" >100.9355</td>\n",
       "      <td id=\"T_1bece_row0_col4\" class=\"data row0 col4\" >0.4281</td>\n",
       "      <td id=\"T_1bece_row0_col5\" class=\"data row0 col5\" >0.5493</td>\n",
       "      <td id=\"T_1bece_row0_col6\" class=\"data row0 col6\" >0.5952</td>\n",
       "    </tr>\n",
       "  </tbody>\n",
       "</table>\n"
      ],
      "text/plain": [
       "<pandas.io.formats.style.Styler at 0x2510e658b50>"
      ]
     },
     "metadata": {},
     "output_type": "display_data"
    }
   ],
   "source": [
    "# Predict on Test / Hold-out Sample\n",
    "\n",
    "pred = predict_model(tuned_gbr);"
   ]
  },
  {
   "cell_type": "code",
   "execution_count": 34,
   "id": "109ac348",
   "metadata": {},
   "outputs": [],
   "source": [
    "# Finalize Model for Deployment\n",
    "final_gbr = finalize_model(tuned_gbr)"
   ]
  },
  {
   "cell_type": "code",
   "execution_count": 35,
   "id": "c19872c6",
   "metadata": {},
   "outputs": [
    {
     "data": {
      "text/html": [
       "<style type=\"text/css\">\n",
       "</style>\n",
       "<table id=\"T_24709\">\n",
       "  <thead>\n",
       "    <tr>\n",
       "      <th class=\"blank level0\" >&nbsp;</th>\n",
       "      <th id=\"T_24709_level0_col0\" class=\"col_heading level0 col0\" >Model</th>\n",
       "      <th id=\"T_24709_level0_col1\" class=\"col_heading level0 col1\" >MAE</th>\n",
       "      <th id=\"T_24709_level0_col2\" class=\"col_heading level0 col2\" >MSE</th>\n",
       "      <th id=\"T_24709_level0_col3\" class=\"col_heading level0 col3\" >RMSE</th>\n",
       "      <th id=\"T_24709_level0_col4\" class=\"col_heading level0 col4\" >R2</th>\n",
       "      <th id=\"T_24709_level0_col5\" class=\"col_heading level0 col5\" >RMSLE</th>\n",
       "      <th id=\"T_24709_level0_col6\" class=\"col_heading level0 col6\" >MAPE</th>\n",
       "    </tr>\n",
       "  </thead>\n",
       "  <tbody>\n",
       "    <tr>\n",
       "      <th id=\"T_24709_level0_row0\" class=\"row_heading level0 row0\" >0</th>\n",
       "      <td id=\"T_24709_row0_col0\" class=\"data row0 col0\" >Gradient Boosting Regressor</td>\n",
       "      <td id=\"T_24709_row0_col1\" class=\"data row0 col1\" >32.4710</td>\n",
       "      <td id=\"T_24709_row0_col2\" class=\"data row0 col2\" >9181.7079</td>\n",
       "      <td id=\"T_24709_row0_col3\" class=\"data row0 col3\" >95.8212</td>\n",
       "      <td id=\"T_24709_row0_col4\" class=\"data row0 col4\" >0.5818</td>\n",
       "      <td id=\"T_24709_row0_col5\" class=\"data row0 col5\" >0.3958</td>\n",
       "      <td id=\"T_24709_row0_col6\" class=\"data row0 col6\" >0.3859</td>\n",
       "    </tr>\n",
       "  </tbody>\n",
       "</table>\n"
      ],
      "text/plain": [
       "<pandas.io.formats.style.Styler at 0x2510e6c7220>"
      ]
     },
     "metadata": {},
     "output_type": "display_data"
    },
    {
     "data": {
      "text/html": [
       "<div>\n",
       "<style scoped>\n",
       "    .dataframe tbody tr th:only-of-type {\n",
       "        vertical-align: middle;\n",
       "    }\n",
       "\n",
       "    .dataframe tbody tr th {\n",
       "        vertical-align: top;\n",
       "    }\n",
       "\n",
       "    .dataframe thead th {\n",
       "        text-align: right;\n",
       "    }\n",
       "</style>\n",
       "<table border=\"1\" class=\"dataframe\">\n",
       "  <thead>\n",
       "    <tr style=\"text-align: right;\">\n",
       "      <th></th>\n",
       "      <th>area_type</th>\n",
       "      <th>availability</th>\n",
       "      <th>location</th>\n",
       "      <th>size</th>\n",
       "      <th>bath</th>\n",
       "      <th>balcony</th>\n",
       "      <th>Area_sqft</th>\n",
       "      <th>price</th>\n",
       "      <th>prediction_label</th>\n",
       "    </tr>\n",
       "  </thead>\n",
       "  <tbody>\n",
       "    <tr>\n",
       "      <th>0</th>\n",
       "      <td>Super built-up  Area</td>\n",
       "      <td>Ready To Move</td>\n",
       "      <td>Whitefield</td>\n",
       "      <td>2 BHK</td>\n",
       "      <td>2.0</td>\n",
       "      <td>1.0</td>\n",
       "      <td>1170</td>\n",
       "      <td>38.0</td>\n",
       "      <td>64.666444</td>\n",
       "    </tr>\n",
       "    <tr>\n",
       "      <th>1</th>\n",
       "      <td>Super built-up  Area</td>\n",
       "      <td>Ready To Move</td>\n",
       "      <td>Ramakrishnappa Layout</td>\n",
       "      <td>3 BHK</td>\n",
       "      <td>4.0</td>\n",
       "      <td>2.0</td>\n",
       "      <td>2770</td>\n",
       "      <td>290.0</td>\n",
       "      <td>315.250595</td>\n",
       "    </tr>\n",
       "    <tr>\n",
       "      <th>2</th>\n",
       "      <td>Super built-up  Area</td>\n",
       "      <td>Ready To Move</td>\n",
       "      <td>Kundalahalli</td>\n",
       "      <td>3 BHK</td>\n",
       "      <td>3.0</td>\n",
       "      <td>2.0</td>\n",
       "      <td>1724</td>\n",
       "      <td>125.0</td>\n",
       "      <td>119.250662</td>\n",
       "    </tr>\n",
       "    <tr>\n",
       "      <th>3</th>\n",
       "      <td>Built-up  Area</td>\n",
       "      <td>Ready To Move</td>\n",
       "      <td>Uttarahalli</td>\n",
       "      <td>2 BHK</td>\n",
       "      <td>2.0</td>\n",
       "      <td>2.0</td>\n",
       "      <td>1143</td>\n",
       "      <td>45.0</td>\n",
       "      <td>62.512045</td>\n",
       "    </tr>\n",
       "    <tr>\n",
       "      <th>4</th>\n",
       "      <td>Super built-up  Area</td>\n",
       "      <td>Ready To Move</td>\n",
       "      <td>Ramakrishnappa Layout</td>\n",
       "      <td>2 BHK</td>\n",
       "      <td>2.0</td>\n",
       "      <td>2.0</td>\n",
       "      <td>1500</td>\n",
       "      <td>185.0</td>\n",
       "      <td>186.411530</td>\n",
       "    </tr>\n",
       "  </tbody>\n",
       "</table>\n",
       "</div>"
      ],
      "text/plain": [
       "              area_type   availability               location   size  bath  \\\n",
       "0  Super built-up  Area  Ready To Move             Whitefield  2 BHK   2.0   \n",
       "1  Super built-up  Area  Ready To Move  Ramakrishnappa Layout  3 BHK   4.0   \n",
       "2  Super built-up  Area  Ready To Move           Kundalahalli  3 BHK   3.0   \n",
       "3        Built-up  Area  Ready To Move            Uttarahalli  2 BHK   2.0   \n",
       "4  Super built-up  Area  Ready To Move  Ramakrishnappa Layout  2 BHK   2.0   \n",
       "\n",
       "   balcony  Area_sqft  price  prediction_label  \n",
       "0      1.0       1170   38.0         64.666444  \n",
       "1      2.0       2770  290.0        315.250595  \n",
       "2      2.0       1724  125.0        119.250662  \n",
       "3      2.0       1143   45.0         62.512045  \n",
       "4      2.0       1500  185.0        186.411530  "
      ]
     },
     "execution_count": 35,
     "metadata": {},
     "output_type": "execute_result"
    }
   ],
   "source": [
    "# Predict on Unseen Data\n",
    "\n",
    "unseen_predictions = predict_model(final_gbr, data=data_unseen)\n",
    "unseen_predictions.head()"
   ]
  },
  {
   "cell_type": "code",
   "execution_count": 36,
   "id": "1d07d1b0",
   "metadata": {},
   "outputs": [
    {
     "data": {
      "text/plain": [
       "0.5818"
      ]
     },
     "execution_count": 36,
     "metadata": {},
     "output_type": "execute_result"
    }
   ],
   "source": [
    "# Checking Metrics\n",
    "from pycaret.utils import check_metric\n",
    "check_metric(unseen_predictions.price, unseen_predictions.prediction_label,'R2')"
   ]
  },
  {
   "cell_type": "code",
   "execution_count": 37,
   "id": "3abf0feb",
   "metadata": {},
   "outputs": [
    {
     "data": {
      "text/plain": [
       "95.8212"
      ]
     },
     "execution_count": 37,
     "metadata": {},
     "output_type": "execute_result"
    }
   ],
   "source": [
    "# Checking Metrics\n",
    "from pycaret.utils import check_metric\n",
    "check_metric(unseen_predictions.price, unseen_predictions.prediction_label,'RMSE')"
   ]
  },
  {
   "cell_type": "markdown",
   "id": "8a22bb41",
   "metadata": {},
   "source": [
    "___SAVING THE MODEL___"
   ]
  },
  {
   "cell_type": "code",
   "execution_count": 38,
   "id": "aef6e8c9",
   "metadata": {},
   "outputs": [
    {
     "name": "stdout",
     "output_type": "stream",
     "text": [
      "Transformation Pipeline and Model Successfully Saved\n"
     ]
    },
    {
     "data": {
      "text/plain": [
       "(Pipeline(memory=Memory(location=C:\\Users\\VENKAT~1\\AppData\\Local\\Temp\\joblib),\n",
       "          steps=[('numerical_imputer',\n",
       "                  TransformerWrapper(include=['bath', 'balcony', 'Area_sqft'],\n",
       "                                     transformer=SimpleImputer())),\n",
       "                 ('categorical_imputer',\n",
       "                  TransformerWrapper(include=['area_type', 'availability',\n",
       "                                              'location', 'size'],\n",
       "                                     transformer=SimpleImputer(strategy='most_frequent'))),\n",
       "                 ('oneh...\n",
       "                  TransformerWrapper(include=['availability', 'location'],\n",
       "                                     transformer=LeaveOneOutEncoder(cols=['availability',\n",
       "                                                                          'location'],\n",
       "                                                                    handle_missing='return_nan',\n",
       "                                                                    random_state=123))),\n",
       "                 ('actual_estimator',\n",
       "                  GradientBoostingRegressor(learning_rate=0.01, max_depth=7,\n",
       "                                            max_features='sqrt',\n",
       "                                            min_impurity_decrease=0.05,\n",
       "                                            min_samples_leaf=2, n_estimators=140,\n",
       "                                            random_state=123, subsample=0.35))]),\n",
       " 'gbr_for_banglore_house_price_Prediction.pkl')"
      ]
     },
     "execution_count": 38,
     "metadata": {},
     "output_type": "execute_result"
    }
   ],
   "source": [
    "# Saving the Model For Deployment\n",
    "save_model(final_gbr,'gbr_for_banglore_house_price_Prediction')"
   ]
  },
  {
   "cell_type": "markdown",
   "id": "bfe5a08c",
   "metadata": {},
   "source": [
    "___LOADING THE SAVED MODEL___"
   ]
  },
  {
   "cell_type": "code",
   "execution_count": 39,
   "id": "e0d42c30",
   "metadata": {},
   "outputs": [
    {
     "name": "stdout",
     "output_type": "stream",
     "text": [
      "Transformation Pipeline and Model Successfully Loaded\n"
     ]
    }
   ],
   "source": [
    "saved_final_gbr = load_model('gbr_for_banglore_house_price_Prediction')"
   ]
  },
  {
   "cell_type": "markdown",
   "id": "96e75be6",
   "metadata": {},
   "source": [
    "___REAL TIME PREDICTION USING UNSEEN DATA___"
   ]
  },
  {
   "cell_type": "code",
   "execution_count": 40,
   "id": "9bbc3281",
   "metadata": {},
   "outputs": [
    {
     "data": {
      "text/html": [
       "<style type=\"text/css\">\n",
       "</style>\n",
       "<table id=\"T_28d54\">\n",
       "  <thead>\n",
       "    <tr>\n",
       "      <th class=\"blank level0\" >&nbsp;</th>\n",
       "      <th id=\"T_28d54_level0_col0\" class=\"col_heading level0 col0\" >Model</th>\n",
       "      <th id=\"T_28d54_level0_col1\" class=\"col_heading level0 col1\" >MAE</th>\n",
       "      <th id=\"T_28d54_level0_col2\" class=\"col_heading level0 col2\" >MSE</th>\n",
       "      <th id=\"T_28d54_level0_col3\" class=\"col_heading level0 col3\" >RMSE</th>\n",
       "      <th id=\"T_28d54_level0_col4\" class=\"col_heading level0 col4\" >R2</th>\n",
       "      <th id=\"T_28d54_level0_col5\" class=\"col_heading level0 col5\" >RMSLE</th>\n",
       "      <th id=\"T_28d54_level0_col6\" class=\"col_heading level0 col6\" >MAPE</th>\n",
       "    </tr>\n",
       "  </thead>\n",
       "  <tbody>\n",
       "    <tr>\n",
       "      <th id=\"T_28d54_level0_row0\" class=\"row_heading level0 row0\" >0</th>\n",
       "      <td id=\"T_28d54_row0_col0\" class=\"data row0 col0\" >Gradient Boosting Regressor</td>\n",
       "      <td id=\"T_28d54_row0_col1\" class=\"data row0 col1\" >32.4710</td>\n",
       "      <td id=\"T_28d54_row0_col2\" class=\"data row0 col2\" >9181.7079</td>\n",
       "      <td id=\"T_28d54_row0_col3\" class=\"data row0 col3\" >95.8212</td>\n",
       "      <td id=\"T_28d54_row0_col4\" class=\"data row0 col4\" >0.5818</td>\n",
       "      <td id=\"T_28d54_row0_col5\" class=\"data row0 col5\" >0.3958</td>\n",
       "      <td id=\"T_28d54_row0_col6\" class=\"data row0 col6\" >0.3859</td>\n",
       "    </tr>\n",
       "  </tbody>\n",
       "</table>\n"
      ],
      "text/plain": [
       "<pandas.io.formats.style.Styler at 0x2510e41b7f0>"
      ]
     },
     "metadata": {},
     "output_type": "display_data"
    }
   ],
   "source": [
    "new_prediction = predict_model(saved_final_gbr, data=data_unseen)"
   ]
  },
  {
   "cell_type": "code",
   "execution_count": 41,
   "id": "ec3172d6",
   "metadata": {},
   "outputs": [
    {
     "data": {
      "text/html": [
       "<div>\n",
       "<style scoped>\n",
       "    .dataframe tbody tr th:only-of-type {\n",
       "        vertical-align: middle;\n",
       "    }\n",
       "\n",
       "    .dataframe tbody tr th {\n",
       "        vertical-align: top;\n",
       "    }\n",
       "\n",
       "    .dataframe thead th {\n",
       "        text-align: right;\n",
       "    }\n",
       "</style>\n",
       "<table border=\"1\" class=\"dataframe\">\n",
       "  <thead>\n",
       "    <tr style=\"text-align: right;\">\n",
       "      <th></th>\n",
       "      <th>area_type</th>\n",
       "      <th>availability</th>\n",
       "      <th>location</th>\n",
       "      <th>size</th>\n",
       "      <th>bath</th>\n",
       "      <th>balcony</th>\n",
       "      <th>Area_sqft</th>\n",
       "      <th>price</th>\n",
       "      <th>prediction_label</th>\n",
       "    </tr>\n",
       "  </thead>\n",
       "  <tbody>\n",
       "    <tr>\n",
       "      <th>0</th>\n",
       "      <td>Super built-up  Area</td>\n",
       "      <td>Ready To Move</td>\n",
       "      <td>Whitefield</td>\n",
       "      <td>2 BHK</td>\n",
       "      <td>2.0</td>\n",
       "      <td>1.0</td>\n",
       "      <td>1170</td>\n",
       "      <td>38.0</td>\n",
       "      <td>64.666444</td>\n",
       "    </tr>\n",
       "    <tr>\n",
       "      <th>1</th>\n",
       "      <td>Super built-up  Area</td>\n",
       "      <td>Ready To Move</td>\n",
       "      <td>Ramakrishnappa Layout</td>\n",
       "      <td>3 BHK</td>\n",
       "      <td>4.0</td>\n",
       "      <td>2.0</td>\n",
       "      <td>2770</td>\n",
       "      <td>290.0</td>\n",
       "      <td>315.250595</td>\n",
       "    </tr>\n",
       "    <tr>\n",
       "      <th>2</th>\n",
       "      <td>Super built-up  Area</td>\n",
       "      <td>Ready To Move</td>\n",
       "      <td>Kundalahalli</td>\n",
       "      <td>3 BHK</td>\n",
       "      <td>3.0</td>\n",
       "      <td>2.0</td>\n",
       "      <td>1724</td>\n",
       "      <td>125.0</td>\n",
       "      <td>119.250662</td>\n",
       "    </tr>\n",
       "    <tr>\n",
       "      <th>3</th>\n",
       "      <td>Built-up  Area</td>\n",
       "      <td>Ready To Move</td>\n",
       "      <td>Uttarahalli</td>\n",
       "      <td>2 BHK</td>\n",
       "      <td>2.0</td>\n",
       "      <td>2.0</td>\n",
       "      <td>1143</td>\n",
       "      <td>45.0</td>\n",
       "      <td>62.512045</td>\n",
       "    </tr>\n",
       "    <tr>\n",
       "      <th>4</th>\n",
       "      <td>Super built-up  Area</td>\n",
       "      <td>Ready To Move</td>\n",
       "      <td>Ramakrishnappa Layout</td>\n",
       "      <td>2 BHK</td>\n",
       "      <td>2.0</td>\n",
       "      <td>2.0</td>\n",
       "      <td>1500</td>\n",
       "      <td>185.0</td>\n",
       "      <td>186.411530</td>\n",
       "    </tr>\n",
       "  </tbody>\n",
       "</table>\n",
       "</div>"
      ],
      "text/plain": [
       "              area_type   availability               location   size  bath  \\\n",
       "0  Super built-up  Area  Ready To Move             Whitefield  2 BHK   2.0   \n",
       "1  Super built-up  Area  Ready To Move  Ramakrishnappa Layout  3 BHK   4.0   \n",
       "2  Super built-up  Area  Ready To Move           Kundalahalli  3 BHK   3.0   \n",
       "3        Built-up  Area  Ready To Move            Uttarahalli  2 BHK   2.0   \n",
       "4  Super built-up  Area  Ready To Move  Ramakrishnappa Layout  2 BHK   2.0   \n",
       "\n",
       "   balcony  Area_sqft  price  prediction_label  \n",
       "0      1.0       1170   38.0         64.666444  \n",
       "1      2.0       2770  290.0        315.250595  \n",
       "2      2.0       1724  125.0        119.250662  \n",
       "3      2.0       1143   45.0         62.512045  \n",
       "4      2.0       1500  185.0        186.411530  "
      ]
     },
     "execution_count": 41,
     "metadata": {},
     "output_type": "execute_result"
    }
   ],
   "source": [
    "new_prediction.head()"
   ]
  },
  {
   "cell_type": "code",
   "execution_count": 42,
   "id": "76da1406",
   "metadata": {},
   "outputs": [
    {
     "data": {
      "text/plain": [
       "0.5818"
      ]
     },
     "execution_count": 42,
     "metadata": {},
     "output_type": "execute_result"
    }
   ],
   "source": [
    "from pycaret.utils import check_metric\n",
    "check_metric(new_prediction.price, new_prediction.prediction_label, 'R2')"
   ]
  },
  {
   "cell_type": "code",
   "execution_count": 43,
   "id": "3bc6729e",
   "metadata": {},
   "outputs": [
    {
     "data": {
      "text/plain": [
       "95.8212"
      ]
     },
     "execution_count": 43,
     "metadata": {},
     "output_type": "execute_result"
    }
   ],
   "source": [
    "from pycaret.utils import check_metric\n",
    "check_metric(new_prediction.price, new_prediction.prediction_label, 'RMSE')"
   ]
  },
  {
   "cell_type": "markdown",
   "id": "1b2828d8",
   "metadata": {},
   "source": [
    "___CONCLUSION___\n",
    "\n",
    "* To achieve the best model based on R2 and RMSE we trained three models i.e., Extra Trees Regressor, KNNRegressor, Gradient Boosting Regressor.\n",
    "\n",
    "* Among all three top models Gradient Boosting Regressor gives best R2 and RMSE Values, Based on these values GBR model has selected for deployment.\n",
    "\n",
    "* Ideally, lower RMSE and higher R-squared values are indicative of a good model. \n",
    "\n",
    "* The RMSE value 78.80 tells us that the average deviation between the predicted house price made by the model and the actual house price.\n",
    "\n",
    "* The R2 value tells us that the predictor variables in the model (square footage, bathrooms, and bedrooms) are able to explain 71.7% of the variation in the house prices.\n",
    "\n",
    "* When determining if these values are “good” or not, we can compare these metrics to alternative models.\n",
    "\n",
    "* Finally GBR model has selected for Deployment based on R2 and RMSE Scores.\n",
    "\n",
    "******************************************************** THANKYOU ***************************************************************"
   ]
  },
  {
   "cell_type": "code",
   "execution_count": null,
   "id": "2995d0a3",
   "metadata": {},
   "outputs": [],
   "source": []
  }
 ],
 "metadata": {
  "kernelspec": {
   "display_name": "Python 3 (ipykernel)",
   "language": "python",
   "name": "python3"
  },
  "language_info": {
   "codemirror_mode": {
    "name": "ipython",
    "version": 3
   },
   "file_extension": ".py",
   "mimetype": "text/x-python",
   "name": "python",
   "nbconvert_exporter": "python",
   "pygments_lexer": "ipython3",
   "version": "3.9.12"
  }
 },
 "nbformat": 4,
 "nbformat_minor": 5
}
