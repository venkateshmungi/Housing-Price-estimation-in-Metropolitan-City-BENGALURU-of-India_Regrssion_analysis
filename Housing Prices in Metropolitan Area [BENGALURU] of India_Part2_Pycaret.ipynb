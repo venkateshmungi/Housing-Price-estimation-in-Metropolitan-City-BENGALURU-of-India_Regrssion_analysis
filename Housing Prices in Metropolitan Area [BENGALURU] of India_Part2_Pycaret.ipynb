{
 "cells": [
  {
   "cell_type": "markdown",
   "id": "75e58d0a",
   "metadata": {},
   "source": [
    "<p style=\"background-color:lightgreen;font-family:newtimeroman;font-size:22px;line-height:1.7em;text-align:center;border-radius:5px 5px\">Housing Price estimation in Metropolitan City [BENGALURU] of India_Part_2_Pycaret</p>"
   ]
  },
  {
   "cell_type": "code",
   "execution_count": 1,
   "id": "b1434cca",
   "metadata": {},
   "outputs": [],
   "source": [
    "# Importing Pre-Required Libraries\n",
    "import pandas as pd\n",
    "import numpy as np\n",
    "import matplotlib.pyplot as plt\n",
    "import seaborn as sns\n",
    "import pycaret\n",
    "import sklearn"
   ]
  },
  {
   "cell_type": "code",
   "execution_count": 2,
   "id": "7ce86704",
   "metadata": {},
   "outputs": [
    {
     "data": {
      "text/html": [
       "<div>\n",
       "<style scoped>\n",
       "    .dataframe tbody tr th:only-of-type {\n",
       "        vertical-align: middle;\n",
       "    }\n",
       "\n",
       "    .dataframe tbody tr th {\n",
       "        vertical-align: top;\n",
       "    }\n",
       "\n",
       "    .dataframe thead th {\n",
       "        text-align: right;\n",
       "    }\n",
       "</style>\n",
       "<table border=\"1\" class=\"dataframe\">\n",
       "  <thead>\n",
       "    <tr style=\"text-align: right;\">\n",
       "      <th></th>\n",
       "      <th>Unnamed: 0</th>\n",
       "      <th>area_type</th>\n",
       "      <th>availability</th>\n",
       "      <th>location</th>\n",
       "      <th>size</th>\n",
       "      <th>bath</th>\n",
       "      <th>balcony</th>\n",
       "      <th>Area_sqft</th>\n",
       "      <th>price</th>\n",
       "    </tr>\n",
       "  </thead>\n",
       "  <tbody>\n",
       "    <tr>\n",
       "      <th>0</th>\n",
       "      <td>0</td>\n",
       "      <td>Super built-up  Area</td>\n",
       "      <td>19-Dec</td>\n",
       "      <td>Electronic City Phase II</td>\n",
       "      <td>2 BHK</td>\n",
       "      <td>2.0</td>\n",
       "      <td>1.0</td>\n",
       "      <td>1056</td>\n",
       "      <td>39.07</td>\n",
       "    </tr>\n",
       "    <tr>\n",
       "      <th>1</th>\n",
       "      <td>1</td>\n",
       "      <td>Plot  Area</td>\n",
       "      <td>Ready To Move</td>\n",
       "      <td>Chikka Tirupathi</td>\n",
       "      <td>4 BHK</td>\n",
       "      <td>5.0</td>\n",
       "      <td>3.0</td>\n",
       "      <td>2600</td>\n",
       "      <td>120.00</td>\n",
       "    </tr>\n",
       "    <tr>\n",
       "      <th>2</th>\n",
       "      <td>2</td>\n",
       "      <td>Built-up  Area</td>\n",
       "      <td>Ready To Move</td>\n",
       "      <td>Uttarahalli</td>\n",
       "      <td>3 BHK</td>\n",
       "      <td>2.0</td>\n",
       "      <td>3.0</td>\n",
       "      <td>1440</td>\n",
       "      <td>62.00</td>\n",
       "    </tr>\n",
       "    <tr>\n",
       "      <th>3</th>\n",
       "      <td>3</td>\n",
       "      <td>Super built-up  Area</td>\n",
       "      <td>Ready To Move</td>\n",
       "      <td>Lingadheeranahalli</td>\n",
       "      <td>3 BHK</td>\n",
       "      <td>3.0</td>\n",
       "      <td>1.0</td>\n",
       "      <td>1521</td>\n",
       "      <td>95.00</td>\n",
       "    </tr>\n",
       "    <tr>\n",
       "      <th>4</th>\n",
       "      <td>4</td>\n",
       "      <td>Super built-up  Area</td>\n",
       "      <td>Ready To Move</td>\n",
       "      <td>Kothanur</td>\n",
       "      <td>2 BHK</td>\n",
       "      <td>2.0</td>\n",
       "      <td>1.0</td>\n",
       "      <td>1200</td>\n",
       "      <td>51.00</td>\n",
       "    </tr>\n",
       "  </tbody>\n",
       "</table>\n",
       "</div>"
      ],
      "text/plain": [
       "   Unnamed: 0             area_type   availability                  location  \\\n",
       "0           0  Super built-up  Area         19-Dec  Electronic City Phase II   \n",
       "1           1            Plot  Area  Ready To Move          Chikka Tirupathi   \n",
       "2           2        Built-up  Area  Ready To Move               Uttarahalli   \n",
       "3           3  Super built-up  Area  Ready To Move        Lingadheeranahalli   \n",
       "4           4  Super built-up  Area  Ready To Move                  Kothanur   \n",
       "\n",
       "    size bath balcony  Area_sqft   price  \n",
       "0  2 BHK  2.0     1.0       1056   39.07  \n",
       "1  4 BHK  5.0     3.0       2600  120.00  \n",
       "2  3 BHK  2.0     3.0       1440   62.00  \n",
       "3  3 BHK  3.0     1.0       1521   95.00  \n",
       "4  2 BHK  2.0     1.0       1200   51.00  "
      ]
     },
     "execution_count": 2,
     "metadata": {},
     "output_type": "execute_result"
    }
   ],
   "source": [
    "# Loading Dataset\n",
    "df = pd.read_csv(r\"C:\\PYTHON\\AI_ML\\Machine_Learning_Projects\\Banglorehouseprice\\banglore_house_price_prediction_cleaned.csv\")\n",
    "df.head()"
   ]
  },
  {
   "cell_type": "code",
   "execution_count": 3,
   "id": "185a6308",
   "metadata": {},
   "outputs": [
    {
     "data": {
      "text/html": [
       "<div>\n",
       "<style scoped>\n",
       "    .dataframe tbody tr th:only-of-type {\n",
       "        vertical-align: middle;\n",
       "    }\n",
       "\n",
       "    .dataframe tbody tr th {\n",
       "        vertical-align: top;\n",
       "    }\n",
       "\n",
       "    .dataframe thead th {\n",
       "        text-align: right;\n",
       "    }\n",
       "</style>\n",
       "<table border=\"1\" class=\"dataframe\">\n",
       "  <thead>\n",
       "    <tr style=\"text-align: right;\">\n",
       "      <th></th>\n",
       "      <th>area_type</th>\n",
       "      <th>availability</th>\n",
       "      <th>location</th>\n",
       "      <th>size</th>\n",
       "      <th>bath</th>\n",
       "      <th>balcony</th>\n",
       "      <th>Area_sqft</th>\n",
       "      <th>price</th>\n",
       "    </tr>\n",
       "  </thead>\n",
       "  <tbody>\n",
       "    <tr>\n",
       "      <th>0</th>\n",
       "      <td>Super built-up  Area</td>\n",
       "      <td>19-Dec</td>\n",
       "      <td>Electronic City Phase II</td>\n",
       "      <td>2 BHK</td>\n",
       "      <td>2.0</td>\n",
       "      <td>1.0</td>\n",
       "      <td>1056</td>\n",
       "      <td>39.07</td>\n",
       "    </tr>\n",
       "    <tr>\n",
       "      <th>1</th>\n",
       "      <td>Plot  Area</td>\n",
       "      <td>Ready To Move</td>\n",
       "      <td>Chikka Tirupathi</td>\n",
       "      <td>4 BHK</td>\n",
       "      <td>5.0</td>\n",
       "      <td>3.0</td>\n",
       "      <td>2600</td>\n",
       "      <td>120.00</td>\n",
       "    </tr>\n",
       "    <tr>\n",
       "      <th>2</th>\n",
       "      <td>Built-up  Area</td>\n",
       "      <td>Ready To Move</td>\n",
       "      <td>Uttarahalli</td>\n",
       "      <td>3 BHK</td>\n",
       "      <td>2.0</td>\n",
       "      <td>3.0</td>\n",
       "      <td>1440</td>\n",
       "      <td>62.00</td>\n",
       "    </tr>\n",
       "    <tr>\n",
       "      <th>3</th>\n",
       "      <td>Super built-up  Area</td>\n",
       "      <td>Ready To Move</td>\n",
       "      <td>Lingadheeranahalli</td>\n",
       "      <td>3 BHK</td>\n",
       "      <td>3.0</td>\n",
       "      <td>1.0</td>\n",
       "      <td>1521</td>\n",
       "      <td>95.00</td>\n",
       "    </tr>\n",
       "    <tr>\n",
       "      <th>4</th>\n",
       "      <td>Super built-up  Area</td>\n",
       "      <td>Ready To Move</td>\n",
       "      <td>Kothanur</td>\n",
       "      <td>2 BHK</td>\n",
       "      <td>2.0</td>\n",
       "      <td>1.0</td>\n",
       "      <td>1200</td>\n",
       "      <td>51.00</td>\n",
       "    </tr>\n",
       "  </tbody>\n",
       "</table>\n",
       "</div>"
      ],
      "text/plain": [
       "              area_type   availability                  location   size bath  \\\n",
       "0  Super built-up  Area         19-Dec  Electronic City Phase II  2 BHK  2.0   \n",
       "1            Plot  Area  Ready To Move          Chikka Tirupathi  4 BHK  5.0   \n",
       "2        Built-up  Area  Ready To Move               Uttarahalli  3 BHK  2.0   \n",
       "3  Super built-up  Area  Ready To Move        Lingadheeranahalli  3 BHK  3.0   \n",
       "4  Super built-up  Area  Ready To Move                  Kothanur  2 BHK  2.0   \n",
       "\n",
       "  balcony  Area_sqft   price  \n",
       "0     1.0       1056   39.07  \n",
       "1     3.0       2600  120.00  \n",
       "2     3.0       1440   62.00  \n",
       "3     1.0       1521   95.00  \n",
       "4     1.0       1200   51.00  "
      ]
     },
     "execution_count": 3,
     "metadata": {},
     "output_type": "execute_result"
    }
   ],
   "source": [
    "# To drop the Unnamed Column from dataframe\n",
    "data = df.loc[:,~df.columns.str.match(\"Unnamed\")]\n",
    "data.head()"
   ]
  },
  {
   "cell_type": "code",
   "execution_count": 4,
   "id": "fd825099",
   "metadata": {},
   "outputs": [
    {
     "data": {
      "text/plain": [
       "(13304, 8)"
      ]
     },
     "execution_count": 4,
     "metadata": {},
     "output_type": "execute_result"
    }
   ],
   "source": [
    "#check the shape of data\n",
    "data.shape"
   ]
  },
  {
   "cell_type": "markdown",
   "id": "ff00cdf6",
   "metadata": {},
   "source": [
    "In order to demonstrate the predict_model() function on unseen data, a sample of 1330 has been withheld from the original dataset to be used for predictions. This should not be confused with a train/test split as this particular split is performed to simulate a real life scenario. Another way to think about this is that these 1330 records were not available at the time when the machine learning experiment was performed."
   ]
  },
  {
   "cell_type": "code",
   "execution_count": 5,
   "id": "84204d98",
   "metadata": {},
   "outputs": [
    {
     "name": "stdout",
     "output_type": "stream",
     "text": [
      "Data for Modeling: (11974, 8)\n",
      "Unseen Data For Predictions (1330, 8)\n"
     ]
    }
   ],
   "source": [
    "new_data = data.sample(frac=0.9, random_state=786)\n",
    "data_unseen = data.drop(new_data.index)\n",
    "\n",
    "new_data.reset_index(drop=True, inplace=True)\n",
    "data_unseen.reset_index(drop=True, inplace=True)\n",
    "\n",
    "print('Data for Modeling: ' + str(new_data.shape))\n",
    "print('Unseen Data For Predictions ' + str(data_unseen.shape))"
   ]
  },
  {
   "cell_type": "markdown",
   "id": "60f499db",
   "metadata": {},
   "source": [
    "___SETTING UP ENVIRONMENT IN PyCaret___"
   ]
  },
  {
   "cell_type": "code",
   "execution_count": 6,
   "id": "57c0be2d",
   "metadata": {},
   "outputs": [],
   "source": [
    "from pycaret.regression import *"
   ]
  },
  {
   "cell_type": "code",
   "execution_count": 7,
   "id": "36b872f1",
   "metadata": {},
   "outputs": [
    {
     "data": {
      "text/html": [
       "<style type=\"text/css\">\n",
       "#T_06621_row8_col1 {\n",
       "  background-color: lightgreen;\n",
       "}\n",
       "</style>\n",
       "<table id=\"T_06621\">\n",
       "  <thead>\n",
       "    <tr>\n",
       "      <th class=\"blank level0\" >&nbsp;</th>\n",
       "      <th id=\"T_06621_level0_col0\" class=\"col_heading level0 col0\" >Description</th>\n",
       "      <th id=\"T_06621_level0_col1\" class=\"col_heading level0 col1\" >Value</th>\n",
       "    </tr>\n",
       "  </thead>\n",
       "  <tbody>\n",
       "    <tr>\n",
       "      <th id=\"T_06621_level0_row0\" class=\"row_heading level0 row0\" >0</th>\n",
       "      <td id=\"T_06621_row0_col0\" class=\"data row0 col0\" >Session id</td>\n",
       "      <td id=\"T_06621_row0_col1\" class=\"data row0 col1\" >123</td>\n",
       "    </tr>\n",
       "    <tr>\n",
       "      <th id=\"T_06621_level0_row1\" class=\"row_heading level0 row1\" >1</th>\n",
       "      <td id=\"T_06621_row1_col0\" class=\"data row1 col0\" >Target</td>\n",
       "      <td id=\"T_06621_row1_col1\" class=\"data row1 col1\" >price</td>\n",
       "    </tr>\n",
       "    <tr>\n",
       "      <th id=\"T_06621_level0_row2\" class=\"row_heading level0 row2\" >2</th>\n",
       "      <td id=\"T_06621_row2_col0\" class=\"data row2 col0\" >Target type</td>\n",
       "      <td id=\"T_06621_row2_col1\" class=\"data row2 col1\" >Regression</td>\n",
       "    </tr>\n",
       "    <tr>\n",
       "      <th id=\"T_06621_level0_row3\" class=\"row_heading level0 row3\" >3</th>\n",
       "      <td id=\"T_06621_row3_col0\" class=\"data row3 col0\" >Data shape</td>\n",
       "      <td id=\"T_06621_row3_col1\" class=\"data row3 col1\" >(11974, 50)</td>\n",
       "    </tr>\n",
       "    <tr>\n",
       "      <th id=\"T_06621_level0_row4\" class=\"row_heading level0 row4\" >4</th>\n",
       "      <td id=\"T_06621_row4_col0\" class=\"data row4 col0\" >Train data shape</td>\n",
       "      <td id=\"T_06621_row4_col1\" class=\"data row4 col1\" >(8381, 50)</td>\n",
       "    </tr>\n",
       "    <tr>\n",
       "      <th id=\"T_06621_level0_row5\" class=\"row_heading level0 row5\" >5</th>\n",
       "      <td id=\"T_06621_row5_col0\" class=\"data row5 col0\" >Test data shape</td>\n",
       "      <td id=\"T_06621_row5_col1\" class=\"data row5 col1\" >(3593, 50)</td>\n",
       "    </tr>\n",
       "    <tr>\n",
       "      <th id=\"T_06621_level0_row6\" class=\"row_heading level0 row6\" >6</th>\n",
       "      <td id=\"T_06621_row6_col0\" class=\"data row6 col0\" >Numeric features</td>\n",
       "      <td id=\"T_06621_row6_col1\" class=\"data row6 col1\" >1</td>\n",
       "    </tr>\n",
       "    <tr>\n",
       "      <th id=\"T_06621_level0_row7\" class=\"row_heading level0 row7\" >7</th>\n",
       "      <td id=\"T_06621_row7_col0\" class=\"data row7 col0\" >Categorical features</td>\n",
       "      <td id=\"T_06621_row7_col1\" class=\"data row7 col1\" >6</td>\n",
       "    </tr>\n",
       "    <tr>\n",
       "      <th id=\"T_06621_level0_row8\" class=\"row_heading level0 row8\" >8</th>\n",
       "      <td id=\"T_06621_row8_col0\" class=\"data row8 col0\" >Preprocess</td>\n",
       "      <td id=\"T_06621_row8_col1\" class=\"data row8 col1\" >1</td>\n",
       "    </tr>\n",
       "    <tr>\n",
       "      <th id=\"T_06621_level0_row9\" class=\"row_heading level0 row9\" >9</th>\n",
       "      <td id=\"T_06621_row9_col0\" class=\"data row9 col0\" >Imputation type</td>\n",
       "      <td id=\"T_06621_row9_col1\" class=\"data row9 col1\" >simple</td>\n",
       "    </tr>\n",
       "    <tr>\n",
       "      <th id=\"T_06621_level0_row10\" class=\"row_heading level0 row10\" >10</th>\n",
       "      <td id=\"T_06621_row10_col0\" class=\"data row10 col0\" >Numeric imputation</td>\n",
       "      <td id=\"T_06621_row10_col1\" class=\"data row10 col1\" >mean</td>\n",
       "    </tr>\n",
       "    <tr>\n",
       "      <th id=\"T_06621_level0_row11\" class=\"row_heading level0 row11\" >11</th>\n",
       "      <td id=\"T_06621_row11_col0\" class=\"data row11 col0\" >Categorical imputation</td>\n",
       "      <td id=\"T_06621_row11_col1\" class=\"data row11 col1\" >mode</td>\n",
       "    </tr>\n",
       "    <tr>\n",
       "      <th id=\"T_06621_level0_row12\" class=\"row_heading level0 row12\" >12</th>\n",
       "      <td id=\"T_06621_row12_col0\" class=\"data row12 col0\" >Maximum one-hot encoding</td>\n",
       "      <td id=\"T_06621_row12_col1\" class=\"data row12 col1\" >25</td>\n",
       "    </tr>\n",
       "    <tr>\n",
       "      <th id=\"T_06621_level0_row13\" class=\"row_heading level0 row13\" >13</th>\n",
       "      <td id=\"T_06621_row13_col0\" class=\"data row13 col0\" >Encoding method</td>\n",
       "      <td id=\"T_06621_row13_col1\" class=\"data row13 col1\" >None</td>\n",
       "    </tr>\n",
       "    <tr>\n",
       "      <th id=\"T_06621_level0_row14\" class=\"row_heading level0 row14\" >14</th>\n",
       "      <td id=\"T_06621_row14_col0\" class=\"data row14 col0\" >Fold Generator</td>\n",
       "      <td id=\"T_06621_row14_col1\" class=\"data row14 col1\" >KFold</td>\n",
       "    </tr>\n",
       "    <tr>\n",
       "      <th id=\"T_06621_level0_row15\" class=\"row_heading level0 row15\" >15</th>\n",
       "      <td id=\"T_06621_row15_col0\" class=\"data row15 col0\" >Fold Number</td>\n",
       "      <td id=\"T_06621_row15_col1\" class=\"data row15 col1\" >10</td>\n",
       "    </tr>\n",
       "    <tr>\n",
       "      <th id=\"T_06621_level0_row16\" class=\"row_heading level0 row16\" >16</th>\n",
       "      <td id=\"T_06621_row16_col0\" class=\"data row16 col0\" >CPU Jobs</td>\n",
       "      <td id=\"T_06621_row16_col1\" class=\"data row16 col1\" >-1</td>\n",
       "    </tr>\n",
       "    <tr>\n",
       "      <th id=\"T_06621_level0_row17\" class=\"row_heading level0 row17\" >17</th>\n",
       "      <td id=\"T_06621_row17_col0\" class=\"data row17 col0\" >Use GPU</td>\n",
       "      <td id=\"T_06621_row17_col1\" class=\"data row17 col1\" >0</td>\n",
       "    </tr>\n",
       "    <tr>\n",
       "      <th id=\"T_06621_level0_row18\" class=\"row_heading level0 row18\" >18</th>\n",
       "      <td id=\"T_06621_row18_col0\" class=\"data row18 col0\" >Log Experiment</td>\n",
       "      <td id=\"T_06621_row18_col1\" class=\"data row18 col1\" >0</td>\n",
       "    </tr>\n",
       "    <tr>\n",
       "      <th id=\"T_06621_level0_row19\" class=\"row_heading level0 row19\" >19</th>\n",
       "      <td id=\"T_06621_row19_col0\" class=\"data row19 col0\" >Experiment Name</td>\n",
       "      <td id=\"T_06621_row19_col1\" class=\"data row19 col1\" >reg-default-name</td>\n",
       "    </tr>\n",
       "    <tr>\n",
       "      <th id=\"T_06621_level0_row20\" class=\"row_heading level0 row20\" >20</th>\n",
       "      <td id=\"T_06621_row20_col0\" class=\"data row20 col0\" >USI</td>\n",
       "      <td id=\"T_06621_row20_col1\" class=\"data row20 col1\" >c7cb</td>\n",
       "    </tr>\n",
       "  </tbody>\n",
       "</table>\n"
      ],
      "text/plain": [
       "<pandas.io.formats.style.Styler at 0x2ef5dfae850>"
      ]
     },
     "metadata": {},
     "output_type": "display_data"
    }
   ],
   "source": [
    "house_regr = setup(data = new_data, target = 'price', session_id=123) "
   ]
  },
  {
   "cell_type": "markdown",
   "id": "55bbf48b",
   "metadata": {},
   "source": [
    "___COMPARING ALL MODELS___"
   ]
  },
  {
   "cell_type": "code",
   "execution_count": 8,
   "id": "0088cf35",
   "metadata": {},
   "outputs": [
    {
     "data": {
      "text/html": [],
      "text/plain": [
       "<IPython.core.display.HTML object>"
      ]
     },
     "metadata": {},
     "output_type": "display_data"
    },
    {
     "data": {
      "text/html": [
       "<style type=\"text/css\">\n",
       "#T_f1335 th {\n",
       "  text-align: left;\n",
       "}\n",
       "#T_f1335_row0_col0, #T_f1335_row0_col6, #T_f1335_row1_col0, #T_f1335_row1_col1, #T_f1335_row1_col2, #T_f1335_row1_col3, #T_f1335_row1_col4, #T_f1335_row1_col5, #T_f1335_row2_col0, #T_f1335_row2_col1, #T_f1335_row2_col2, #T_f1335_row2_col3, #T_f1335_row2_col4, #T_f1335_row2_col5, #T_f1335_row2_col6, #T_f1335_row3_col0, #T_f1335_row3_col1, #T_f1335_row3_col2, #T_f1335_row3_col3, #T_f1335_row3_col4, #T_f1335_row3_col5, #T_f1335_row3_col6, #T_f1335_row4_col0, #T_f1335_row4_col1, #T_f1335_row4_col2, #T_f1335_row4_col3, #T_f1335_row4_col4, #T_f1335_row4_col5, #T_f1335_row4_col6, #T_f1335_row5_col0, #T_f1335_row5_col1, #T_f1335_row5_col2, #T_f1335_row5_col3, #T_f1335_row5_col4, #T_f1335_row5_col5, #T_f1335_row5_col6, #T_f1335_row6_col0, #T_f1335_row6_col1, #T_f1335_row6_col2, #T_f1335_row6_col3, #T_f1335_row6_col4, #T_f1335_row6_col5, #T_f1335_row6_col6, #T_f1335_row7_col0, #T_f1335_row7_col1, #T_f1335_row7_col2, #T_f1335_row7_col3, #T_f1335_row7_col4, #T_f1335_row7_col5, #T_f1335_row7_col6, #T_f1335_row8_col0, #T_f1335_row8_col1, #T_f1335_row8_col2, #T_f1335_row8_col3, #T_f1335_row8_col4, #T_f1335_row8_col5, #T_f1335_row8_col6, #T_f1335_row9_col0, #T_f1335_row9_col1, #T_f1335_row9_col2, #T_f1335_row9_col3, #T_f1335_row9_col4, #T_f1335_row9_col5, #T_f1335_row9_col6, #T_f1335_row10_col0, #T_f1335_row10_col1, #T_f1335_row10_col2, #T_f1335_row10_col3, #T_f1335_row10_col4, #T_f1335_row10_col5, #T_f1335_row10_col6, #T_f1335_row11_col0, #T_f1335_row11_col1, #T_f1335_row11_col2, #T_f1335_row11_col3, #T_f1335_row11_col4, #T_f1335_row11_col5, #T_f1335_row11_col6, #T_f1335_row12_col0, #T_f1335_row12_col1, #T_f1335_row12_col2, #T_f1335_row12_col3, #T_f1335_row12_col4, #T_f1335_row12_col5, #T_f1335_row12_col6, #T_f1335_row13_col0, #T_f1335_row13_col1, #T_f1335_row13_col2, #T_f1335_row13_col3, #T_f1335_row13_col4, #T_f1335_row13_col5, #T_f1335_row13_col6, #T_f1335_row14_col0, #T_f1335_row14_col1, #T_f1335_row14_col2, #T_f1335_row14_col3, #T_f1335_row14_col4, #T_f1335_row14_col5, #T_f1335_row14_col6, #T_f1335_row15_col0, #T_f1335_row15_col1, #T_f1335_row15_col2, #T_f1335_row15_col3, #T_f1335_row15_col4, #T_f1335_row15_col5, #T_f1335_row15_col6, #T_f1335_row16_col0, #T_f1335_row16_col1, #T_f1335_row16_col2, #T_f1335_row16_col3, #T_f1335_row16_col4, #T_f1335_row16_col5, #T_f1335_row16_col6, #T_f1335_row17_col0, #T_f1335_row17_col1, #T_f1335_row17_col2, #T_f1335_row17_col3, #T_f1335_row17_col4, #T_f1335_row17_col5, #T_f1335_row17_col6 {\n",
       "  text-align: left;\n",
       "}\n",
       "#T_f1335_row0_col1, #T_f1335_row0_col2, #T_f1335_row0_col3, #T_f1335_row0_col4, #T_f1335_row0_col5, #T_f1335_row1_col6 {\n",
       "  text-align: left;\n",
       "  background-color: yellow;\n",
       "}\n",
       "#T_f1335_row0_col7, #T_f1335_row1_col7, #T_f1335_row2_col7, #T_f1335_row3_col7, #T_f1335_row4_col7, #T_f1335_row5_col7, #T_f1335_row6_col7, #T_f1335_row7_col7, #T_f1335_row8_col7, #T_f1335_row9_col7, #T_f1335_row10_col7, #T_f1335_row11_col7, #T_f1335_row12_col7, #T_f1335_row14_col7, #T_f1335_row15_col7, #T_f1335_row16_col7, #T_f1335_row17_col7 {\n",
       "  text-align: left;\n",
       "  background-color: lightgrey;\n",
       "}\n",
       "#T_f1335_row13_col7 {\n",
       "  text-align: left;\n",
       "  background-color: yellow;\n",
       "  background-color: lightgrey;\n",
       "}\n",
       "</style>\n",
       "<table id=\"T_f1335\">\n",
       "  <thead>\n",
       "    <tr>\n",
       "      <th class=\"blank level0\" >&nbsp;</th>\n",
       "      <th id=\"T_f1335_level0_col0\" class=\"col_heading level0 col0\" >Model</th>\n",
       "      <th id=\"T_f1335_level0_col1\" class=\"col_heading level0 col1\" >MAE</th>\n",
       "      <th id=\"T_f1335_level0_col2\" class=\"col_heading level0 col2\" >MSE</th>\n",
       "      <th id=\"T_f1335_level0_col3\" class=\"col_heading level0 col3\" >RMSE</th>\n",
       "      <th id=\"T_f1335_level0_col4\" class=\"col_heading level0 col4\" >R2</th>\n",
       "      <th id=\"T_f1335_level0_col5\" class=\"col_heading level0 col5\" >RMSLE</th>\n",
       "      <th id=\"T_f1335_level0_col6\" class=\"col_heading level0 col6\" >MAPE</th>\n",
       "      <th id=\"T_f1335_level0_col7\" class=\"col_heading level0 col7\" >TT (Sec)</th>\n",
       "    </tr>\n",
       "  </thead>\n",
       "  <tbody>\n",
       "    <tr>\n",
       "      <th id=\"T_f1335_level0_row0\" class=\"row_heading level0 row0\" >et</th>\n",
       "      <td id=\"T_f1335_row0_col0\" class=\"data row0 col0\" >Extra Trees Regressor</td>\n",
       "      <td id=\"T_f1335_row0_col1\" class=\"data row0 col1\" >38.3173</td>\n",
       "      <td id=\"T_f1335_row0_col2\" class=\"data row0 col2\" >10192.8693</td>\n",
       "      <td id=\"T_f1335_row0_col3\" class=\"data row0 col3\" >97.5320</td>\n",
       "      <td id=\"T_f1335_row0_col4\" class=\"data row0 col4\" >0.5797</td>\n",
       "      <td id=\"T_f1335_row0_col5\" class=\"data row0 col5\" >0.3979</td>\n",
       "      <td id=\"T_f1335_row0_col6\" class=\"data row0 col6\" >0.3624</td>\n",
       "      <td id=\"T_f1335_row0_col7\" class=\"data row0 col7\" >0.5540</td>\n",
       "    </tr>\n",
       "    <tr>\n",
       "      <th id=\"T_f1335_level0_row1\" class=\"row_heading level0 row1\" >knn</th>\n",
       "      <td id=\"T_f1335_row1_col0\" class=\"data row1 col0\" >K Neighbors Regressor</td>\n",
       "      <td id=\"T_f1335_row1_col1\" class=\"data row1 col1\" >39.2778</td>\n",
       "      <td id=\"T_f1335_row1_col2\" class=\"data row1 col2\" >11966.8438</td>\n",
       "      <td id=\"T_f1335_row1_col3\" class=\"data row1 col3\" >107.1623</td>\n",
       "      <td id=\"T_f1335_row1_col4\" class=\"data row1 col4\" >0.4898</td>\n",
       "      <td id=\"T_f1335_row1_col5\" class=\"data row1 col5\" >0.4086</td>\n",
       "      <td id=\"T_f1335_row1_col6\" class=\"data row1 col6\" >0.3444</td>\n",
       "      <td id=\"T_f1335_row1_col7\" class=\"data row1 col7\" >0.0647</td>\n",
       "    </tr>\n",
       "    <tr>\n",
       "      <th id=\"T_f1335_level0_row2\" class=\"row_heading level0 row2\" >gbr</th>\n",
       "      <td id=\"T_f1335_row2_col0\" class=\"data row2 col0\" >Gradient Boosting Regressor</td>\n",
       "      <td id=\"T_f1335_row2_col1\" class=\"data row2 col1\" >57.0948</td>\n",
       "      <td id=\"T_f1335_row2_col2\" class=\"data row2 col2\" >13499.4260</td>\n",
       "      <td id=\"T_f1335_row2_col3\" class=\"data row2 col3\" >113.9398</td>\n",
       "      <td id=\"T_f1335_row2_col4\" class=\"data row2 col4\" >0.4266</td>\n",
       "      <td id=\"T_f1335_row2_col5\" class=\"data row2 col5\" >0.6154</td>\n",
       "      <td id=\"T_f1335_row2_col6\" class=\"data row2 col6\" >0.6866</td>\n",
       "      <td id=\"T_f1335_row2_col7\" class=\"data row2 col7\" >0.2467</td>\n",
       "    </tr>\n",
       "    <tr>\n",
       "      <th id=\"T_f1335_level0_row3\" class=\"row_heading level0 row3\" >lightgbm</th>\n",
       "      <td id=\"T_f1335_row3_col0\" class=\"data row3 col0\" >Light Gradient Boosting Machine</td>\n",
       "      <td id=\"T_f1335_row3_col1\" class=\"data row3 col1\" >62.5344</td>\n",
       "      <td id=\"T_f1335_row3_col2\" class=\"data row3 col2\" >13402.8126</td>\n",
       "      <td id=\"T_f1335_row3_col3\" class=\"data row3 col3\" >114.6695</td>\n",
       "      <td id=\"T_f1335_row3_col4\" class=\"data row3 col4\" >0.4004</td>\n",
       "      <td id=\"T_f1335_row3_col5\" class=\"data row3 col5\" >0.6810</td>\n",
       "      <td id=\"T_f1335_row3_col6\" class=\"data row3 col6\" >0.7998</td>\n",
       "      <td id=\"T_f1335_row3_col7\" class=\"data row3 col7\" >0.0787</td>\n",
       "    </tr>\n",
       "    <tr>\n",
       "      <th id=\"T_f1335_level0_row4\" class=\"row_heading level0 row4\" >br</th>\n",
       "      <td id=\"T_f1335_row4_col0\" class=\"data row4 col0\" >Bayesian Ridge</td>\n",
       "      <td id=\"T_f1335_row4_col1\" class=\"data row4 col1\" >47.4103</td>\n",
       "      <td id=\"T_f1335_row4_col2\" class=\"data row4 col2\" >14490.7846</td>\n",
       "      <td id=\"T_f1335_row4_col3\" class=\"data row4 col3\" >117.7844</td>\n",
       "      <td id=\"T_f1335_row4_col4\" class=\"data row4 col4\" >0.4001</td>\n",
       "      <td id=\"T_f1335_row4_col5\" class=\"data row4 col5\" >0.4938</td>\n",
       "      <td id=\"T_f1335_row4_col6\" class=\"data row4 col6\" >0.4281</td>\n",
       "      <td id=\"T_f1335_row4_col7\" class=\"data row4 col7\" >0.0607</td>\n",
       "    </tr>\n",
       "    <tr>\n",
       "      <th id=\"T_f1335_level0_row5\" class=\"row_heading level0 row5\" >lr</th>\n",
       "      <td id=\"T_f1335_row5_col0\" class=\"data row5 col0\" >Linear Regression</td>\n",
       "      <td id=\"T_f1335_row5_col1\" class=\"data row5 col1\" >47.4159</td>\n",
       "      <td id=\"T_f1335_row5_col2\" class=\"data row5 col2\" >14498.4488</td>\n",
       "      <td id=\"T_f1335_row5_col3\" class=\"data row5 col3\" >117.8076</td>\n",
       "      <td id=\"T_f1335_row5_col4\" class=\"data row5 col4\" >0.4000</td>\n",
       "      <td id=\"T_f1335_row5_col5\" class=\"data row5 col5\" >0.4935</td>\n",
       "      <td id=\"T_f1335_row5_col6\" class=\"data row5 col6\" >0.4277</td>\n",
       "      <td id=\"T_f1335_row5_col7\" class=\"data row5 col7\" >0.4113</td>\n",
       "    </tr>\n",
       "    <tr>\n",
       "      <th id=\"T_f1335_level0_row6\" class=\"row_heading level0 row6\" >ridge</th>\n",
       "      <td id=\"T_f1335_row6_col0\" class=\"data row6 col0\" >Ridge Regression</td>\n",
       "      <td id=\"T_f1335_row6_col1\" class=\"data row6 col1\" >47.5576</td>\n",
       "      <td id=\"T_f1335_row6_col2\" class=\"data row6 col2\" >14516.0277</td>\n",
       "      <td id=\"T_f1335_row6_col3\" class=\"data row6 col3\" >117.8755</td>\n",
       "      <td id=\"T_f1335_row6_col4\" class=\"data row6 col4\" >0.3989</td>\n",
       "      <td id=\"T_f1335_row6_col5\" class=\"data row6 col5\" >0.4964</td>\n",
       "      <td id=\"T_f1335_row6_col6\" class=\"data row6 col6\" >0.4307</td>\n",
       "      <td id=\"T_f1335_row6_col7\" class=\"data row6 col7\" >0.0647</td>\n",
       "    </tr>\n",
       "    <tr>\n",
       "      <th id=\"T_f1335_level0_row7\" class=\"row_heading level0 row7\" >lasso</th>\n",
       "      <td id=\"T_f1335_row7_col0\" class=\"data row7 col0\" >Lasso Regression</td>\n",
       "      <td id=\"T_f1335_row7_col1\" class=\"data row7 col1\" >47.3021</td>\n",
       "      <td id=\"T_f1335_row7_col2\" class=\"data row7 col2\" >14702.6967</td>\n",
       "      <td id=\"T_f1335_row7_col3\" class=\"data row7 col3\" >118.5805</td>\n",
       "      <td id=\"T_f1335_row7_col4\" class=\"data row7 col4\" >0.3918</td>\n",
       "      <td id=\"T_f1335_row7_col5\" class=\"data row7 col5\" >0.4844</td>\n",
       "      <td id=\"T_f1335_row7_col6\" class=\"data row7 col6\" >0.4479</td>\n",
       "      <td id=\"T_f1335_row7_col7\" class=\"data row7 col7\" >0.0700</td>\n",
       "    </tr>\n",
       "    <tr>\n",
       "      <th id=\"T_f1335_level0_row8\" class=\"row_heading level0 row8\" >huber</th>\n",
       "      <td id=\"T_f1335_row8_col0\" class=\"data row8 col0\" >Huber Regressor</td>\n",
       "      <td id=\"T_f1335_row8_col1\" class=\"data row8 col1\" >45.9441</td>\n",
       "      <td id=\"T_f1335_row8_col2\" class=\"data row8 col2\" >16130.3189</td>\n",
       "      <td id=\"T_f1335_row8_col3\" class=\"data row8 col3\" >124.2279</td>\n",
       "      <td id=\"T_f1335_row8_col4\" class=\"data row8 col4\" >0.3378</td>\n",
       "      <td id=\"T_f1335_row8_col5\" class=\"data row8 col5\" >0.4853</td>\n",
       "      <td id=\"T_f1335_row8_col6\" class=\"data row8 col6\" >0.3924</td>\n",
       "      <td id=\"T_f1335_row8_col7\" class=\"data row8 col7\" >0.3367</td>\n",
       "    </tr>\n",
       "    <tr>\n",
       "      <th id=\"T_f1335_level0_row9\" class=\"row_heading level0 row9\" >omp</th>\n",
       "      <td id=\"T_f1335_row9_col0\" class=\"data row9 col0\" >Orthogonal Matching Pursuit</td>\n",
       "      <td id=\"T_f1335_row9_col1\" class=\"data row9 col1\" >53.5355</td>\n",
       "      <td id=\"T_f1335_row9_col2\" class=\"data row9 col2\" >16127.6009</td>\n",
       "      <td id=\"T_f1335_row9_col3\" class=\"data row9 col3\" >124.6494</td>\n",
       "      <td id=\"T_f1335_row9_col4\" class=\"data row9 col4\" >0.3255</td>\n",
       "      <td id=\"T_f1335_row9_col5\" class=\"data row9 col5\" >0.5537</td>\n",
       "      <td id=\"T_f1335_row9_col6\" class=\"data row9 col6\" >0.5521</td>\n",
       "      <td id=\"T_f1335_row9_col7\" class=\"data row9 col7\" >0.0587</td>\n",
       "    </tr>\n",
       "    <tr>\n",
       "      <th id=\"T_f1335_level0_row10\" class=\"row_heading level0 row10\" >en</th>\n",
       "      <td id=\"T_f1335_row10_col0\" class=\"data row10 col0\" >Elastic Net</td>\n",
       "      <td id=\"T_f1335_row10_col1\" class=\"data row10 col1\" >52.3062</td>\n",
       "      <td id=\"T_f1335_row10_col2\" class=\"data row10 col2\" >16580.3058</td>\n",
       "      <td id=\"T_f1335_row10_col3\" class=\"data row10 col3\" >126.3430</td>\n",
       "      <td id=\"T_f1335_row10_col4\" class=\"data row10 col4\" >0.3058</td>\n",
       "      <td id=\"T_f1335_row10_col5\" class=\"data row10 col5\" >0.5474</td>\n",
       "      <td id=\"T_f1335_row10_col6\" class=\"data row10 col6\" >0.5662</td>\n",
       "      <td id=\"T_f1335_row10_col7\" class=\"data row10 col7\" >0.0640</td>\n",
       "    </tr>\n",
       "    <tr>\n",
       "      <th id=\"T_f1335_level0_row11\" class=\"row_heading level0 row11\" >rf</th>\n",
       "      <td id=\"T_f1335_row11_col0\" class=\"data row11 col0\" >Random Forest Regressor</td>\n",
       "      <td id=\"T_f1335_row11_col1\" class=\"data row11 col1\" >65.1675</td>\n",
       "      <td id=\"T_f1335_row11_col2\" class=\"data row11 col2\" >16653.0919</td>\n",
       "      <td id=\"T_f1335_row11_col3\" class=\"data row11 col3\" >126.9861</td>\n",
       "      <td id=\"T_f1335_row11_col4\" class=\"data row11 col4\" >0.2853</td>\n",
       "      <td id=\"T_f1335_row11_col5\" class=\"data row11 col5\" >0.6948</td>\n",
       "      <td id=\"T_f1335_row11_col6\" class=\"data row11 col6\" >0.8021</td>\n",
       "      <td id=\"T_f1335_row11_col7\" class=\"data row11 col7\" >0.4620</td>\n",
       "    </tr>\n",
       "    <tr>\n",
       "      <th id=\"T_f1335_level0_row12\" class=\"row_heading level0 row12\" >dt</th>\n",
       "      <td id=\"T_f1335_row12_col0\" class=\"data row12 col0\" >Decision Tree Regressor</td>\n",
       "      <td id=\"T_f1335_row12_col1\" class=\"data row12 col1\" >66.9351</td>\n",
       "      <td id=\"T_f1335_row12_col2\" class=\"data row12 col2\" >18468.0727</td>\n",
       "      <td id=\"T_f1335_row12_col3\" class=\"data row12 col3\" >132.7902</td>\n",
       "      <td id=\"T_f1335_row12_col4\" class=\"data row12 col4\" >0.2235</td>\n",
       "      <td id=\"T_f1335_row12_col5\" class=\"data row12 col5\" >0.7104</td>\n",
       "      <td id=\"T_f1335_row12_col6\" class=\"data row12 col6\" >0.8100</td>\n",
       "      <td id=\"T_f1335_row12_col7\" class=\"data row12 col7\" >0.0587</td>\n",
       "    </tr>\n",
       "    <tr>\n",
       "      <th id=\"T_f1335_level0_row13\" class=\"row_heading level0 row13\" >llar</th>\n",
       "      <td id=\"T_f1335_row13_col0\" class=\"data row13 col0\" >Lasso Least Angle Regression</td>\n",
       "      <td id=\"T_f1335_row13_col1\" class=\"data row13 col1\" >74.8900</td>\n",
       "      <td id=\"T_f1335_row13_col2\" class=\"data row13 col2\" >24114.5991</td>\n",
       "      <td id=\"T_f1335_row13_col3\" class=\"data row13 col3\" >152.5815</td>\n",
       "      <td id=\"T_f1335_row13_col4\" class=\"data row13 col4\" >-0.0010</td>\n",
       "      <td id=\"T_f1335_row13_col5\" class=\"data row13 col5\" >0.7803</td>\n",
       "      <td id=\"T_f1335_row13_col6\" class=\"data row13 col6\" >0.9411</td>\n",
       "      <td id=\"T_f1335_row13_col7\" class=\"data row13 col7\" >0.0547</td>\n",
       "    </tr>\n",
       "    <tr>\n",
       "      <th id=\"T_f1335_level0_row14\" class=\"row_heading level0 row14\" >dummy</th>\n",
       "      <td id=\"T_f1335_row14_col0\" class=\"data row14 col0\" >Dummy Regressor</td>\n",
       "      <td id=\"T_f1335_row14_col1\" class=\"data row14 col1\" >74.8900</td>\n",
       "      <td id=\"T_f1335_row14_col2\" class=\"data row14 col2\" >24114.5992</td>\n",
       "      <td id=\"T_f1335_row14_col3\" class=\"data row14 col3\" >152.5815</td>\n",
       "      <td id=\"T_f1335_row14_col4\" class=\"data row14 col4\" >-0.0010</td>\n",
       "      <td id=\"T_f1335_row14_col5\" class=\"data row14 col5\" >0.7803</td>\n",
       "      <td id=\"T_f1335_row14_col6\" class=\"data row14 col6\" >0.9411</td>\n",
       "      <td id=\"T_f1335_row14_col7\" class=\"data row14 col7\" >0.0573</td>\n",
       "    </tr>\n",
       "    <tr>\n",
       "      <th id=\"T_f1335_level0_row15\" class=\"row_heading level0 row15\" >ada</th>\n",
       "      <td id=\"T_f1335_row15_col0\" class=\"data row15 col0\" >AdaBoost Regressor</td>\n",
       "      <td id=\"T_f1335_row15_col1\" class=\"data row15 col1\" >131.9531</td>\n",
       "      <td id=\"T_f1335_row15_col2\" class=\"data row15 col2\" >25312.8768</td>\n",
       "      <td id=\"T_f1335_row15_col3\" class=\"data row15 col3\" >158.2106</td>\n",
       "      <td id=\"T_f1335_row15_col4\" class=\"data row15 col4\" >-0.1598</td>\n",
       "      <td id=\"T_f1335_row15_col5\" class=\"data row15 col5\" >1.1131</td>\n",
       "      <td id=\"T_f1335_row15_col6\" class=\"data row15 col6\" >2.1373</td>\n",
       "      <td id=\"T_f1335_row15_col7\" class=\"data row15 col7\" >0.3073</td>\n",
       "    </tr>\n",
       "    <tr>\n",
       "      <th id=\"T_f1335_level0_row16\" class=\"row_heading level0 row16\" >par</th>\n",
       "      <td id=\"T_f1335_row16_col0\" class=\"data row16 col0\" >Passive Aggressive Regressor</td>\n",
       "      <td id=\"T_f1335_row16_col1\" class=\"data row16 col1\" >89.0705</td>\n",
       "      <td id=\"T_f1335_row16_col2\" class=\"data row16 col2\" >1852543.1973</td>\n",
       "      <td id=\"T_f1335_row16_col3\" class=\"data row16 col3\" >714.4590</td>\n",
       "      <td id=\"T_f1335_row16_col4\" class=\"data row16 col4\" >-63.4356</td>\n",
       "      <td id=\"T_f1335_row16_col5\" class=\"data row16 col5\" >0.5991</td>\n",
       "      <td id=\"T_f1335_row16_col6\" class=\"data row16 col6\" >1.0275</td>\n",
       "      <td id=\"T_f1335_row16_col7\" class=\"data row16 col7\" >0.0553</td>\n",
       "    </tr>\n",
       "    <tr>\n",
       "      <th id=\"T_f1335_level0_row17\" class=\"row_heading level0 row17\" >lar</th>\n",
       "      <td id=\"T_f1335_row17_col0\" class=\"data row17 col0\" >Least Angle Regression</td>\n",
       "      <td id=\"T_f1335_row17_col1\" class=\"data row17 col1\" >760100599592750022656.0000</td>\n",
       "      <td id=\"T_f1335_row17_col2\" class=\"data row17 col2\" >4844458246403867024847105012124203073981644800.0000</td>\n",
       "      <td id=\"T_f1335_row17_col3\" class=\"data row17 col3\" >17971195928805027872768.0000</td>\n",
       "      <td id=\"T_f1335_row17_col4\" class=\"data row17 col4\" >-100394040219938488314352234968439708450816.0000</td>\n",
       "      <td id=\"T_f1335_row17_col5\" class=\"data row17 col5\" >3.1241</td>\n",
       "      <td id=\"T_f1335_row17_col6\" class=\"data row17 col6\" >211139055642613312.0000</td>\n",
       "      <td id=\"T_f1335_row17_col7\" class=\"data row17 col7\" >0.0567</td>\n",
       "    </tr>\n",
       "  </tbody>\n",
       "</table>\n"
      ],
      "text/plain": [
       "<pandas.io.formats.style.Styler at 0x2ef586096a0>"
      ]
     },
     "metadata": {},
     "output_type": "display_data"
    },
    {
     "data": {
      "application/vnd.jupyter.widget-view+json": {
       "model_id": "",
       "version_major": 2,
       "version_minor": 0
      },
      "text/plain": [
       "Processing:   0%|          | 0/79 [00:00<?, ?it/s]"
      ]
     },
     "metadata": {},
     "output_type": "display_data"
    }
   ],
   "source": [
    "# Comparing all Models\n",
    "# However we used n_select parameter to return top N models. In this example compare_models has returned Top 3 models.\n",
    "# fold parameter will compare all models on 15 fold cross validation.\n",
    "# Increasing the number of folds will inccrease the training time.\n",
    "top3 = compare_models(n_select = 3,fold = 15)"
   ]
  },
  {
   "cell_type": "code",
   "execution_count": 9,
   "id": "8b254f68",
   "metadata": {},
   "outputs": [
    {
     "name": "stdout",
     "output_type": "stream",
     "text": [
      "[ExtraTreesRegressor(n_jobs=-1, random_state=123), KNeighborsRegressor(n_jobs=-1), GradientBoostingRegressor(random_state=123)]\n"
     ]
    }
   ],
   "source": [
    "# Printing Out Top Three Models\n",
    "print(top3)"
   ]
  },
  {
   "cell_type": "markdown",
   "id": "8fcebcc2",
   "metadata": {},
   "source": [
    "___CREATING A  EXTRA TREE REGRESSOR MODEL (with 10 Fold CV and Metrics rounded to 2 decimals points)___"
   ]
  },
  {
   "cell_type": "code",
   "execution_count": 10,
   "id": "a9f475dc",
   "metadata": {},
   "outputs": [
    {
     "data": {
      "text/html": [],
      "text/plain": [
       "<IPython.core.display.HTML object>"
      ]
     },
     "metadata": {},
     "output_type": "display_data"
    },
    {
     "data": {
      "text/html": [
       "<style type=\"text/css\">\n",
       "#T_e6751_row10_col0, #T_e6751_row10_col1, #T_e6751_row10_col2, #T_e6751_row10_col3, #T_e6751_row10_col4, #T_e6751_row10_col5 {\n",
       "  background: yellow;\n",
       "}\n",
       "</style>\n",
       "<table id=\"T_e6751\">\n",
       "  <thead>\n",
       "    <tr>\n",
       "      <th class=\"blank level0\" >&nbsp;</th>\n",
       "      <th id=\"T_e6751_level0_col0\" class=\"col_heading level0 col0\" >MAE</th>\n",
       "      <th id=\"T_e6751_level0_col1\" class=\"col_heading level0 col1\" >MSE</th>\n",
       "      <th id=\"T_e6751_level0_col2\" class=\"col_heading level0 col2\" >RMSE</th>\n",
       "      <th id=\"T_e6751_level0_col3\" class=\"col_heading level0 col3\" >R2</th>\n",
       "      <th id=\"T_e6751_level0_col4\" class=\"col_heading level0 col4\" >RMSLE</th>\n",
       "      <th id=\"T_e6751_level0_col5\" class=\"col_heading level0 col5\" >MAPE</th>\n",
       "    </tr>\n",
       "    <tr>\n",
       "      <th class=\"index_name level0\" >Fold</th>\n",
       "      <th class=\"blank col0\" >&nbsp;</th>\n",
       "      <th class=\"blank col1\" >&nbsp;</th>\n",
       "      <th class=\"blank col2\" >&nbsp;</th>\n",
       "      <th class=\"blank col3\" >&nbsp;</th>\n",
       "      <th class=\"blank col4\" >&nbsp;</th>\n",
       "      <th class=\"blank col5\" >&nbsp;</th>\n",
       "    </tr>\n",
       "  </thead>\n",
       "  <tbody>\n",
       "    <tr>\n",
       "      <th id=\"T_e6751_level0_row0\" class=\"row_heading level0 row0\" >0</th>\n",
       "      <td id=\"T_e6751_row0_col0\" class=\"data row0 col0\" >41.25</td>\n",
       "      <td id=\"T_e6751_row0_col1\" class=\"data row0 col1\" >8948.87</td>\n",
       "      <td id=\"T_e6751_row0_col2\" class=\"data row0 col2\" >94.60</td>\n",
       "      <td id=\"T_e6751_row0_col3\" class=\"data row0 col3\" >0.55</td>\n",
       "      <td id=\"T_e6751_row0_col4\" class=\"data row0 col4\" >0.42</td>\n",
       "      <td id=\"T_e6751_row0_col5\" class=\"data row0 col5\" >0.38</td>\n",
       "    </tr>\n",
       "    <tr>\n",
       "      <th id=\"T_e6751_level0_row1\" class=\"row_heading level0 row1\" >1</th>\n",
       "      <td id=\"T_e6751_row1_col0\" class=\"data row1 col0\" >38.71</td>\n",
       "      <td id=\"T_e6751_row1_col1\" class=\"data row1 col1\" >6846.30</td>\n",
       "      <td id=\"T_e6751_row1_col2\" class=\"data row1 col2\" >82.74</td>\n",
       "      <td id=\"T_e6751_row1_col3\" class=\"data row1 col3\" >0.59</td>\n",
       "      <td id=\"T_e6751_row1_col4\" class=\"data row1 col4\" >0.40</td>\n",
       "      <td id=\"T_e6751_row1_col5\" class=\"data row1 col5\" >0.34</td>\n",
       "    </tr>\n",
       "    <tr>\n",
       "      <th id=\"T_e6751_level0_row2\" class=\"row_heading level0 row2\" >2</th>\n",
       "      <td id=\"T_e6751_row2_col0\" class=\"data row2 col0\" >40.99</td>\n",
       "      <td id=\"T_e6751_row2_col1\" class=\"data row2 col1\" >19702.57</td>\n",
       "      <td id=\"T_e6751_row2_col2\" class=\"data row2 col2\" >140.37</td>\n",
       "      <td id=\"T_e6751_row2_col3\" class=\"data row2 col3\" >0.47</td>\n",
       "      <td id=\"T_e6751_row2_col4\" class=\"data row2 col4\" >0.40</td>\n",
       "      <td id=\"T_e6751_row2_col5\" class=\"data row2 col5\" >0.38</td>\n",
       "    </tr>\n",
       "    <tr>\n",
       "      <th id=\"T_e6751_level0_row3\" class=\"row_heading level0 row3\" >3</th>\n",
       "      <td id=\"T_e6751_row3_col0\" class=\"data row3 col0\" >35.84</td>\n",
       "      <td id=\"T_e6751_row3_col1\" class=\"data row3 col1\" >10454.44</td>\n",
       "      <td id=\"T_e6751_row3_col2\" class=\"data row3 col2\" >102.25</td>\n",
       "      <td id=\"T_e6751_row3_col3\" class=\"data row3 col3\" >0.64</td>\n",
       "      <td id=\"T_e6751_row3_col4\" class=\"data row3 col4\" >0.37</td>\n",
       "      <td id=\"T_e6751_row3_col5\" class=\"data row3 col5\" >0.35</td>\n",
       "    </tr>\n",
       "    <tr>\n",
       "      <th id=\"T_e6751_level0_row4\" class=\"row_heading level0 row4\" >4</th>\n",
       "      <td id=\"T_e6751_row4_col0\" class=\"data row4 col0\" >40.01</td>\n",
       "      <td id=\"T_e6751_row4_col1\" class=\"data row4 col1\" >10580.76</td>\n",
       "      <td id=\"T_e6751_row4_col2\" class=\"data row4 col2\" >102.86</td>\n",
       "      <td id=\"T_e6751_row4_col3\" class=\"data row4 col3\" >0.62</td>\n",
       "      <td id=\"T_e6751_row4_col4\" class=\"data row4 col4\" >0.42</td>\n",
       "      <td id=\"T_e6751_row4_col5\" class=\"data row4 col5\" >0.41</td>\n",
       "    </tr>\n",
       "    <tr>\n",
       "      <th id=\"T_e6751_level0_row5\" class=\"row_heading level0 row5\" >5</th>\n",
       "      <td id=\"T_e6751_row5_col0\" class=\"data row5 col0\" >37.55</td>\n",
       "      <td id=\"T_e6751_row5_col1\" class=\"data row5 col1\" >10861.75</td>\n",
       "      <td id=\"T_e6751_row5_col2\" class=\"data row5 col2\" >104.22</td>\n",
       "      <td id=\"T_e6751_row5_col3\" class=\"data row5 col3\" >0.51</td>\n",
       "      <td id=\"T_e6751_row5_col4\" class=\"data row5 col4\" >0.39</td>\n",
       "      <td id=\"T_e6751_row5_col5\" class=\"data row5 col5\" >0.34</td>\n",
       "    </tr>\n",
       "    <tr>\n",
       "      <th id=\"T_e6751_level0_row6\" class=\"row_heading level0 row6\" >6</th>\n",
       "      <td id=\"T_e6751_row6_col0\" class=\"data row6 col0\" >39.42</td>\n",
       "      <td id=\"T_e6751_row6_col1\" class=\"data row6 col1\" >12181.92</td>\n",
       "      <td id=\"T_e6751_row6_col2\" class=\"data row6 col2\" >110.37</td>\n",
       "      <td id=\"T_e6751_row6_col3\" class=\"data row6 col3\" >0.35</td>\n",
       "      <td id=\"T_e6751_row6_col4\" class=\"data row6 col4\" >0.40</td>\n",
       "      <td id=\"T_e6751_row6_col5\" class=\"data row6 col5\" >0.37</td>\n",
       "    </tr>\n",
       "    <tr>\n",
       "      <th id=\"T_e6751_level0_row7\" class=\"row_heading level0 row7\" >7</th>\n",
       "      <td id=\"T_e6751_row7_col0\" class=\"data row7 col0\" >35.13</td>\n",
       "      <td id=\"T_e6751_row7_col1\" class=\"data row7 col1\" >7194.59</td>\n",
       "      <td id=\"T_e6751_row7_col2\" class=\"data row7 col2\" >84.82</td>\n",
       "      <td id=\"T_e6751_row7_col3\" class=\"data row7 col3\" >0.72</td>\n",
       "      <td id=\"T_e6751_row7_col4\" class=\"data row7 col4\" >0.37</td>\n",
       "      <td id=\"T_e6751_row7_col5\" class=\"data row7 col5\" >0.33</td>\n",
       "    </tr>\n",
       "    <tr>\n",
       "      <th id=\"T_e6751_level0_row8\" class=\"row_heading level0 row8\" >8</th>\n",
       "      <td id=\"T_e6751_row8_col0\" class=\"data row8 col0\" >35.99</td>\n",
       "      <td id=\"T_e6751_row8_col1\" class=\"data row8 col1\" >6540.47</td>\n",
       "      <td id=\"T_e6751_row8_col2\" class=\"data row8 col2\" >80.87</td>\n",
       "      <td id=\"T_e6751_row8_col3\" class=\"data row8 col3\" >0.69</td>\n",
       "      <td id=\"T_e6751_row8_col4\" class=\"data row8 col4\" >0.40</td>\n",
       "      <td id=\"T_e6751_row8_col5\" class=\"data row8 col5\" >0.38</td>\n",
       "    </tr>\n",
       "    <tr>\n",
       "      <th id=\"T_e6751_level0_row9\" class=\"row_heading level0 row9\" >9</th>\n",
       "      <td id=\"T_e6751_row9_col0\" class=\"data row9 col0\" >36.91</td>\n",
       "      <td id=\"T_e6751_row9_col1\" class=\"data row9 col1\" >6236.43</td>\n",
       "      <td id=\"T_e6751_row9_col2\" class=\"data row9 col2\" >78.97</td>\n",
       "      <td id=\"T_e6751_row9_col3\" class=\"data row9 col3\" >0.73</td>\n",
       "      <td id=\"T_e6751_row9_col4\" class=\"data row9 col4\" >0.40</td>\n",
       "      <td id=\"T_e6751_row9_col5\" class=\"data row9 col5\" >0.37</td>\n",
       "    </tr>\n",
       "    <tr>\n",
       "      <th id=\"T_e6751_level0_row10\" class=\"row_heading level0 row10\" >Mean</th>\n",
       "      <td id=\"T_e6751_row10_col0\" class=\"data row10 col0\" >38.18</td>\n",
       "      <td id=\"T_e6751_row10_col1\" class=\"data row10 col1\" >9954.81</td>\n",
       "      <td id=\"T_e6751_row10_col2\" class=\"data row10 col2\" >98.21</td>\n",
       "      <td id=\"T_e6751_row10_col3\" class=\"data row10 col3\" >0.59</td>\n",
       "      <td id=\"T_e6751_row10_col4\" class=\"data row10 col4\" >0.40</td>\n",
       "      <td id=\"T_e6751_row10_col5\" class=\"data row10 col5\" >0.36</td>\n",
       "    </tr>\n",
       "    <tr>\n",
       "      <th id=\"T_e6751_level0_row11\" class=\"row_heading level0 row11\" >Std</th>\n",
       "      <td id=\"T_e6751_row11_col0\" class=\"data row11 col0\" >2.10</td>\n",
       "      <td id=\"T_e6751_row11_col1\" class=\"data row11 col1\" >3810.78</td>\n",
       "      <td id=\"T_e6751_row11_col2\" class=\"data row11 col2\" >17.61</td>\n",
       "      <td id=\"T_e6751_row11_col3\" class=\"data row11 col3\" >0.11</td>\n",
       "      <td id=\"T_e6751_row11_col4\" class=\"data row11 col4\" >0.01</td>\n",
       "      <td id=\"T_e6751_row11_col5\" class=\"data row11 col5\" >0.02</td>\n",
       "    </tr>\n",
       "  </tbody>\n",
       "</table>\n"
      ],
      "text/plain": [
       "<pandas.io.formats.style.Styler at 0x2ef5e0d22e0>"
      ]
     },
     "metadata": {},
     "output_type": "display_data"
    },
    {
     "data": {
      "application/vnd.jupyter.widget-view+json": {
       "model_id": "",
       "version_major": 2,
       "version_minor": 0
      },
      "text/plain": [
       "Processing:   0%|          | 0/4 [00:00<?, ?it/s]"
      ]
     },
     "metadata": {},
     "output_type": "display_data"
    }
   ],
   "source": [
    "# Creating a mdel With Extra Tree Regressor with 10 fold cross validation.\n",
    "et = create_model('et', fold = 10, round = 2)"
   ]
  },
  {
   "cell_type": "markdown",
   "id": "14c5da31",
   "metadata": {},
   "source": [
    "___TUNING EXTRA TREE REGRESSOR MODEL___"
   ]
  },
  {
   "cell_type": "code",
   "execution_count": 11,
   "id": "a8338b93",
   "metadata": {},
   "outputs": [
    {
     "data": {
      "text/html": [],
      "text/plain": [
       "<IPython.core.display.HTML object>"
      ]
     },
     "metadata": {},
     "output_type": "display_data"
    },
    {
     "data": {
      "text/html": [
       "<style type=\"text/css\">\n",
       "#T_f3645_row10_col0, #T_f3645_row10_col1, #T_f3645_row10_col2, #T_f3645_row10_col3, #T_f3645_row10_col4, #T_f3645_row10_col5 {\n",
       "  background: yellow;\n",
       "}\n",
       "</style>\n",
       "<table id=\"T_f3645\">\n",
       "  <thead>\n",
       "    <tr>\n",
       "      <th class=\"blank level0\" >&nbsp;</th>\n",
       "      <th id=\"T_f3645_level0_col0\" class=\"col_heading level0 col0\" >MAE</th>\n",
       "      <th id=\"T_f3645_level0_col1\" class=\"col_heading level0 col1\" >MSE</th>\n",
       "      <th id=\"T_f3645_level0_col2\" class=\"col_heading level0 col2\" >RMSE</th>\n",
       "      <th id=\"T_f3645_level0_col3\" class=\"col_heading level0 col3\" >R2</th>\n",
       "      <th id=\"T_f3645_level0_col4\" class=\"col_heading level0 col4\" >RMSLE</th>\n",
       "      <th id=\"T_f3645_level0_col5\" class=\"col_heading level0 col5\" >MAPE</th>\n",
       "    </tr>\n",
       "    <tr>\n",
       "      <th class=\"index_name level0\" >Fold</th>\n",
       "      <th class=\"blank col0\" >&nbsp;</th>\n",
       "      <th class=\"blank col1\" >&nbsp;</th>\n",
       "      <th class=\"blank col2\" >&nbsp;</th>\n",
       "      <th class=\"blank col3\" >&nbsp;</th>\n",
       "      <th class=\"blank col4\" >&nbsp;</th>\n",
       "      <th class=\"blank col5\" >&nbsp;</th>\n",
       "    </tr>\n",
       "  </thead>\n",
       "  <tbody>\n",
       "    <tr>\n",
       "      <th id=\"T_f3645_level0_row0\" class=\"row_heading level0 row0\" >0</th>\n",
       "      <td id=\"T_f3645_row0_col0\" class=\"data row0 col0\" >39.6478</td>\n",
       "      <td id=\"T_f3645_row0_col1\" class=\"data row0 col1\" >6026.4060</td>\n",
       "      <td id=\"T_f3645_row0_col2\" class=\"data row0 col2\" >77.6299</td>\n",
       "      <td id=\"T_f3645_row0_col3\" class=\"data row0 col3\" >0.6971</td>\n",
       "      <td id=\"T_f3645_row0_col4\" class=\"data row0 col4\" >0.4142</td>\n",
       "      <td id=\"T_f3645_row0_col5\" class=\"data row0 col5\" >0.3741</td>\n",
       "    </tr>\n",
       "    <tr>\n",
       "      <th id=\"T_f3645_level0_row1\" class=\"row_heading level0 row1\" >1</th>\n",
       "      <td id=\"T_f3645_row1_col0\" class=\"data row1 col0\" >39.5498</td>\n",
       "      <td id=\"T_f3645_row1_col1\" class=\"data row1 col1\" >6404.1759</td>\n",
       "      <td id=\"T_f3645_row1_col2\" class=\"data row1 col2\" >80.0261</td>\n",
       "      <td id=\"T_f3645_row1_col3\" class=\"data row1 col3\" >0.6118</td>\n",
       "      <td id=\"T_f3645_row1_col4\" class=\"data row1 col4\" >0.4026</td>\n",
       "      <td id=\"T_f3645_row1_col5\" class=\"data row1 col5\" >0.3520</td>\n",
       "    </tr>\n",
       "    <tr>\n",
       "      <th id=\"T_f3645_level0_row2\" class=\"row_heading level0 row2\" >2</th>\n",
       "      <td id=\"T_f3645_row2_col0\" class=\"data row2 col0\" >39.7165</td>\n",
       "      <td id=\"T_f3645_row2_col1\" class=\"data row2 col1\" >18232.0518</td>\n",
       "      <td id=\"T_f3645_row2_col2\" class=\"data row2 col2\" >135.0261</td>\n",
       "      <td id=\"T_f3645_row2_col3\" class=\"data row2 col3\" >0.5117</td>\n",
       "      <td id=\"T_f3645_row2_col4\" class=\"data row2 col4\" >0.3859</td>\n",
       "      <td id=\"T_f3645_row2_col5\" class=\"data row2 col5\" >0.3577</td>\n",
       "    </tr>\n",
       "    <tr>\n",
       "      <th id=\"T_f3645_level0_row3\" class=\"row_heading level0 row3\" >3</th>\n",
       "      <td id=\"T_f3645_row3_col0\" class=\"data row3 col0\" >37.1083</td>\n",
       "      <td id=\"T_f3645_row3_col1\" class=\"data row3 col1\" >11773.1308</td>\n",
       "      <td id=\"T_f3645_row3_col2\" class=\"data row3 col2\" >108.5041</td>\n",
       "      <td id=\"T_f3645_row3_col3\" class=\"data row3 col3\" >0.5935</td>\n",
       "      <td id=\"T_f3645_row3_col4\" class=\"data row3 col4\" >0.3699</td>\n",
       "      <td id=\"T_f3645_row3_col5\" class=\"data row3 col5\" >0.3408</td>\n",
       "    </tr>\n",
       "    <tr>\n",
       "      <th id=\"T_f3645_level0_row4\" class=\"row_heading level0 row4\" >4</th>\n",
       "      <td id=\"T_f3645_row4_col0\" class=\"data row4 col0\" >37.6164</td>\n",
       "      <td id=\"T_f3645_row4_col1\" class=\"data row4 col1\" >9794.8098</td>\n",
       "      <td id=\"T_f3645_row4_col2\" class=\"data row4 col2\" >98.9687</td>\n",
       "      <td id=\"T_f3645_row4_col3\" class=\"data row4 col3\" >0.6490</td>\n",
       "      <td id=\"T_f3645_row4_col4\" class=\"data row4 col4\" >0.3796</td>\n",
       "      <td id=\"T_f3645_row4_col5\" class=\"data row4 col5\" >0.3470</td>\n",
       "    </tr>\n",
       "    <tr>\n",
       "      <th id=\"T_f3645_level0_row5\" class=\"row_heading level0 row5\" >5</th>\n",
       "      <td id=\"T_f3645_row5_col0\" class=\"data row5 col0\" >38.1108</td>\n",
       "      <td id=\"T_f3645_row5_col1\" class=\"data row5 col1\" >10856.7674</td>\n",
       "      <td id=\"T_f3645_row5_col2\" class=\"data row5 col2\" >104.1958</td>\n",
       "      <td id=\"T_f3645_row5_col3\" class=\"data row5 col3\" >0.5143</td>\n",
       "      <td id=\"T_f3645_row5_col4\" class=\"data row5 col4\" >0.3794</td>\n",
       "      <td id=\"T_f3645_row5_col5\" class=\"data row5 col5\" >0.3198</td>\n",
       "    </tr>\n",
       "    <tr>\n",
       "      <th id=\"T_f3645_level0_row6\" class=\"row_heading level0 row6\" >6</th>\n",
       "      <td id=\"T_f3645_row6_col0\" class=\"data row6 col0\" >39.1684</td>\n",
       "      <td id=\"T_f3645_row6_col1\" class=\"data row6 col1\" >10907.8647</td>\n",
       "      <td id=\"T_f3645_row6_col2\" class=\"data row6 col2\" >104.4407</td>\n",
       "      <td id=\"T_f3645_row6_col3\" class=\"data row6 col3\" >0.4176</td>\n",
       "      <td id=\"T_f3645_row6_col4\" class=\"data row6 col4\" >0.4080</td>\n",
       "      <td id=\"T_f3645_row6_col5\" class=\"data row6 col5\" >0.3725</td>\n",
       "    </tr>\n",
       "    <tr>\n",
       "      <th id=\"T_f3645_level0_row7\" class=\"row_heading level0 row7\" >7</th>\n",
       "      <td id=\"T_f3645_row7_col0\" class=\"data row7 col0\" >37.9367</td>\n",
       "      <td id=\"T_f3645_row7_col1\" class=\"data row7 col1\" >10950.1255</td>\n",
       "      <td id=\"T_f3645_row7_col2\" class=\"data row7 col2\" >104.6428</td>\n",
       "      <td id=\"T_f3645_row7_col3\" class=\"data row7 col3\" >0.5743</td>\n",
       "      <td id=\"T_f3645_row7_col4\" class=\"data row7 col4\" >0.3865</td>\n",
       "      <td id=\"T_f3645_row7_col5\" class=\"data row7 col5\" >0.3471</td>\n",
       "    </tr>\n",
       "    <tr>\n",
       "      <th id=\"T_f3645_level0_row8\" class=\"row_heading level0 row8\" >8</th>\n",
       "      <td id=\"T_f3645_row8_col0\" class=\"data row8 col0\" >38.6269</td>\n",
       "      <td id=\"T_f3645_row8_col1\" class=\"data row8 col1\" >7262.9021</td>\n",
       "      <td id=\"T_f3645_row8_col2\" class=\"data row8 col2\" >85.2227</td>\n",
       "      <td id=\"T_f3645_row8_col3\" class=\"data row8 col3\" >0.6529</td>\n",
       "      <td id=\"T_f3645_row8_col4\" class=\"data row8 col4\" >0.4078</td>\n",
       "      <td id=\"T_f3645_row8_col5\" class=\"data row8 col5\" >0.3845</td>\n",
       "    </tr>\n",
       "    <tr>\n",
       "      <th id=\"T_f3645_level0_row9\" class=\"row_heading level0 row9\" >9</th>\n",
       "      <td id=\"T_f3645_row9_col0\" class=\"data row9 col0\" >38.5722</td>\n",
       "      <td id=\"T_f3645_row9_col1\" class=\"data row9 col1\" >9042.0003</td>\n",
       "      <td id=\"T_f3645_row9_col2\" class=\"data row9 col2\" >95.0894</td>\n",
       "      <td id=\"T_f3645_row9_col3\" class=\"data row9 col3\" >0.6019</td>\n",
       "      <td id=\"T_f3645_row9_col4\" class=\"data row9 col4\" >0.3816</td>\n",
       "      <td id=\"T_f3645_row9_col5\" class=\"data row9 col5\" >0.3454</td>\n",
       "    </tr>\n",
       "    <tr>\n",
       "      <th id=\"T_f3645_level0_row10\" class=\"row_heading level0 row10\" >Mean</th>\n",
       "      <td id=\"T_f3645_row10_col0\" class=\"data row10 col0\" >38.6054</td>\n",
       "      <td id=\"T_f3645_row10_col1\" class=\"data row10 col1\" >10125.0234</td>\n",
       "      <td id=\"T_f3645_row10_col2\" class=\"data row10 col2\" >99.3746</td>\n",
       "      <td id=\"T_f3645_row10_col3\" class=\"data row10 col3\" >0.5824</td>\n",
       "      <td id=\"T_f3645_row10_col4\" class=\"data row10 col4\" >0.3916</td>\n",
       "      <td id=\"T_f3645_row10_col5\" class=\"data row10 col5\" >0.3541</td>\n",
       "    </tr>\n",
       "    <tr>\n",
       "      <th id=\"T_f3645_level0_row11\" class=\"row_heading level0 row11\" >Std</th>\n",
       "      <td id=\"T_f3645_row11_col0\" class=\"data row11 col0\" >0.8627</td>\n",
       "      <td id=\"T_f3645_row11_col1\" class=\"data row11 col1\" >3322.4440</td>\n",
       "      <td id=\"T_f3645_row11_col2\" class=\"data row11 col2\" >15.8020</td>\n",
       "      <td id=\"T_f3645_row11_col3\" class=\"data row11 col3\" >0.0780</td>\n",
       "      <td id=\"T_f3645_row11_col4\" class=\"data row11 col4\" >0.0144</td>\n",
       "      <td id=\"T_f3645_row11_col5\" class=\"data row11 col5\" >0.0179</td>\n",
       "    </tr>\n",
       "  </tbody>\n",
       "</table>\n"
      ],
      "text/plain": [
       "<pandas.io.formats.style.Styler at 0x2ef5e20de20>"
      ]
     },
     "metadata": {},
     "output_type": "display_data"
    },
    {
     "data": {
      "application/vnd.jupyter.widget-view+json": {
       "model_id": "",
       "version_major": 2,
       "version_minor": 0
      },
      "text/plain": [
       "Processing:   0%|          | 0/7 [00:00<?, ?it/s]"
      ]
     },
     "metadata": {},
     "output_type": "display_data"
    },
    {
     "name": "stdout",
     "output_type": "stream",
     "text": [
      "Fitting 10 folds for each of 5 candidates, totalling 50 fits\n",
      "Original model was better than the tuned model, hence it will be returned. NOTE: The display metrics are for the tuned model (not the original one).\n"
     ]
    }
   ],
   "source": [
    "# Tuning Extra Tree Regressor\n",
    "tuned_et = tune_model(et, n_iter = 5)"
   ]
  },
  {
   "cell_type": "code",
   "execution_count": 12,
   "id": "3956958b",
   "metadata": {},
   "outputs": [
    {
     "data": {
      "text/html": [],
      "text/plain": [
       "<IPython.core.display.HTML object>"
      ]
     },
     "metadata": {},
     "output_type": "display_data"
    },
    {
     "data": {
      "text/html": [
       "<div>\n",
       "<style scoped>\n",
       "    .dataframe tbody tr th:only-of-type {\n",
       "        vertical-align: middle;\n",
       "    }\n",
       "\n",
       "    .dataframe tbody tr th {\n",
       "        vertical-align: top;\n",
       "    }\n",
       "\n",
       "    .dataframe thead th {\n",
       "        text-align: right;\n",
       "    }\n",
       "</style>\n",
       "<table border=\"1\" class=\"dataframe\">\n",
       "  <thead>\n",
       "    <tr style=\"text-align: right;\">\n",
       "      <th></th>\n",
       "      <th>Parameters</th>\n",
       "    </tr>\n",
       "  </thead>\n",
       "  <tbody>\n",
       "    <tr>\n",
       "      <th>bootstrap</th>\n",
       "      <td>False</td>\n",
       "    </tr>\n",
       "    <tr>\n",
       "      <th>ccp_alpha</th>\n",
       "      <td>0.0</td>\n",
       "    </tr>\n",
       "    <tr>\n",
       "      <th>criterion</th>\n",
       "      <td>squared_error</td>\n",
       "    </tr>\n",
       "    <tr>\n",
       "      <th>max_depth</th>\n",
       "      <td>None</td>\n",
       "    </tr>\n",
       "    <tr>\n",
       "      <th>max_features</th>\n",
       "      <td>1.0</td>\n",
       "    </tr>\n",
       "    <tr>\n",
       "      <th>max_leaf_nodes</th>\n",
       "      <td>None</td>\n",
       "    </tr>\n",
       "    <tr>\n",
       "      <th>max_samples</th>\n",
       "      <td>None</td>\n",
       "    </tr>\n",
       "    <tr>\n",
       "      <th>min_impurity_decrease</th>\n",
       "      <td>0.0</td>\n",
       "    </tr>\n",
       "    <tr>\n",
       "      <th>min_samples_leaf</th>\n",
       "      <td>1</td>\n",
       "    </tr>\n",
       "    <tr>\n",
       "      <th>min_samples_split</th>\n",
       "      <td>2</td>\n",
       "    </tr>\n",
       "    <tr>\n",
       "      <th>min_weight_fraction_leaf</th>\n",
       "      <td>0.0</td>\n",
       "    </tr>\n",
       "    <tr>\n",
       "      <th>n_estimators</th>\n",
       "      <td>100</td>\n",
       "    </tr>\n",
       "    <tr>\n",
       "      <th>n_jobs</th>\n",
       "      <td>-1</td>\n",
       "    </tr>\n",
       "    <tr>\n",
       "      <th>oob_score</th>\n",
       "      <td>False</td>\n",
       "    </tr>\n",
       "    <tr>\n",
       "      <th>random_state</th>\n",
       "      <td>123</td>\n",
       "    </tr>\n",
       "    <tr>\n",
       "      <th>verbose</th>\n",
       "      <td>0</td>\n",
       "    </tr>\n",
       "    <tr>\n",
       "      <th>warm_start</th>\n",
       "      <td>False</td>\n",
       "    </tr>\n",
       "  </tbody>\n",
       "</table>\n",
       "</div>"
      ],
      "text/plain": [
       "                             Parameters\n",
       "bootstrap                         False\n",
       "ccp_alpha                           0.0\n",
       "criterion                 squared_error\n",
       "max_depth                          None\n",
       "max_features                        1.0\n",
       "max_leaf_nodes                     None\n",
       "max_samples                        None\n",
       "min_impurity_decrease               0.0\n",
       "min_samples_leaf                      1\n",
       "min_samples_split                     2\n",
       "min_weight_fraction_leaf            0.0\n",
       "n_estimators                        100\n",
       "n_jobs                               -1\n",
       "oob_score                         False\n",
       "random_state                        123\n",
       "verbose                               0\n",
       "warm_start                        False"
      ]
     },
     "metadata": {},
     "output_type": "display_data"
    }
   ],
   "source": [
    "# Observing the hyperparameters of tuned_et\n",
    "plot_model(tuned_et, plot = 'parameter')"
   ]
  },
  {
   "cell_type": "code",
   "execution_count": 13,
   "id": "9a36853b",
   "metadata": {},
   "outputs": [
    {
     "data": {
      "text/html": [],
      "text/plain": [
       "<IPython.core.display.HTML object>"
      ]
     },
     "metadata": {},
     "output_type": "display_data"
    },
    {
     "data": {
      "image/png": "[encoded data removed]",
      "text/plain": [
       "<Figure size 432x288 with 2 Axes>"
      ]
     },
     "metadata": {
      "needs_background": "light"
     },
     "output_type": "display_data"
    }
   ],
   "source": [
    "# Residual Plot for tuned model\n",
    "plot_model(tuned_et)"
   ]
  },
  {
   "cell_type": "code",
   "execution_count": 14,
   "id": "817d6329",
   "metadata": {},
   "outputs": [
    {
     "data": {
      "text/html": [],
      "text/plain": [
       "<IPython.core.display.HTML object>"
      ]
     },
     "metadata": {},
     "output_type": "display_data"
    },
    {
     "data": {
      "image/png": "[encoded data removed]",
      "text/plain": [
       "<Figure size 432x288 with 1 Axes>"
      ]
     },
     "metadata": {
      "needs_background": "light"
     },
     "output_type": "display_data"
    }
   ],
   "source": [
    "# Prediction Error Plot\n",
    "plot_model(tuned_et, plot = 'error')"
   ]
  },
  {
   "cell_type": "code",
   "execution_count": 15,
   "id": "1b1d8ed3",
   "metadata": {},
   "outputs": [
    {
     "data": {
      "text/html": [],
      "text/plain": [
       "<IPython.core.display.HTML object>"
      ]
     },
     "metadata": {},
     "output_type": "display_data"
    },
    {
     "data": {
      "image/png": "[encoded data removed]",
      "text/plain": [
       "<Figure size 800x500 with 1 Axes>"
      ]
     },
     "metadata": {
      "needs_background": "light"
     },
     "output_type": "display_data"
    }
   ],
   "source": [
    "# Feature Importance Plot\n",
    "plot_model(tuned_et, plot='feature')"
   ]
  },
  {
   "cell_type": "code",
   "execution_count": 16,
   "id": "31598bce",
   "metadata": {},
   "outputs": [
    {
     "data": {
      "text/html": [
       "<style type=\"text/css\">\n",
       "</style>\n",
       "<table id=\"T_a390f\">\n",
       "  <thead>\n",
       "    <tr>\n",
       "      <th class=\"blank level0\" >&nbsp;</th>\n",
       "      <th id=\"T_a390f_level0_col0\" class=\"col_heading level0 col0\" >Model</th>\n",
       "      <th id=\"T_a390f_level0_col1\" class=\"col_heading level0 col1\" >MAE</th>\n",
       "      <th id=\"T_a390f_level0_col2\" class=\"col_heading level0 col2\" >MSE</th>\n",
       "      <th id=\"T_a390f_level0_col3\" class=\"col_heading level0 col3\" >RMSE</th>\n",
       "      <th id=\"T_a390f_level0_col4\" class=\"col_heading level0 col4\" >R2</th>\n",
       "      <th id=\"T_a390f_level0_col5\" class=\"col_heading level0 col5\" >RMSLE</th>\n",
       "      <th id=\"T_a390f_level0_col6\" class=\"col_heading level0 col6\" >MAPE</th>\n",
       "    </tr>\n",
       "  </thead>\n",
       "  <tbody>\n",
       "    <tr>\n",
       "      <th id=\"T_a390f_level0_row0\" class=\"row_heading level0 row0\" >0</th>\n",
       "      <td id=\"T_a390f_row0_col0\" class=\"data row0 col0\" >Extra Trees Regressor</td>\n",
       "      <td id=\"T_a390f_row0_col1\" class=\"data row0 col1\" >37.4177</td>\n",
       "      <td id=\"T_a390f_row0_col2\" class=\"data row0 col2\" >7823.9349</td>\n",
       "      <td id=\"T_a390f_row0_col3\" class=\"data row0 col3\" >88.4530</td>\n",
       "      <td id=\"T_a390f_row0_col4\" class=\"data row0 col4\" >0.5608</td>\n",
       "      <td id=\"T_a390f_row0_col5\" class=\"data row0 col5\" >0.4056</td>\n",
       "      <td id=\"T_a390f_row0_col6\" class=\"data row0 col6\" >0.3699</td>\n",
       "    </tr>\n",
       "  </tbody>\n",
       "</table>\n"
      ],
      "text/plain": [
       "<pandas.io.formats.style.Styler at 0x2ef5e5e5ca0>"
      ]
     },
     "metadata": {},
     "output_type": "display_data"
    }
   ],
   "source": [
    "# Predict on Test / Hold-out Sample\n",
    "\n",
    "pred = predict_model(tuned_et);"
   ]
  },
  {
   "cell_type": "code",
   "execution_count": 17,
   "id": "74149ef7",
   "metadata": {},
   "outputs": [],
   "source": [
    "# Finalize Model for Deployment\n",
    "final_et = finalize_model(tuned_et)"
   ]
  },
  {
   "cell_type": "code",
   "execution_count": 18,
   "id": "2862d41c",
   "metadata": {},
   "outputs": [
    {
     "data": {
      "text/html": [
       "<style type=\"text/css\">\n",
       "</style>\n",
       "<table id=\"T_83ee6\">\n",
       "  <thead>\n",
       "    <tr>\n",
       "      <th class=\"blank level0\" >&nbsp;</th>\n",
       "      <th id=\"T_83ee6_level0_col0\" class=\"col_heading level0 col0\" >Model</th>\n",
       "      <th id=\"T_83ee6_level0_col1\" class=\"col_heading level0 col1\" >MAE</th>\n",
       "      <th id=\"T_83ee6_level0_col2\" class=\"col_heading level0 col2\" >MSE</th>\n",
       "      <th id=\"T_83ee6_level0_col3\" class=\"col_heading level0 col3\" >RMSE</th>\n",
       "      <th id=\"T_83ee6_level0_col4\" class=\"col_heading level0 col4\" >R2</th>\n",
       "      <th id=\"T_83ee6_level0_col5\" class=\"col_heading level0 col5\" >RMSLE</th>\n",
       "      <th id=\"T_83ee6_level0_col6\" class=\"col_heading level0 col6\" >MAPE</th>\n",
       "    </tr>\n",
       "  </thead>\n",
       "  <tbody>\n",
       "    <tr>\n",
       "      <th id=\"T_83ee6_level0_row0\" class=\"row_heading level0 row0\" >0</th>\n",
       "      <td id=\"T_83ee6_row0_col0\" class=\"data row0 col0\" >Extra Trees Regressor</td>\n",
       "      <td id=\"T_83ee6_row0_col1\" class=\"data row0 col1\" >26.3432</td>\n",
       "      <td id=\"T_83ee6_row0_col2\" class=\"data row0 col2\" >14840.8791</td>\n",
       "      <td id=\"T_83ee6_row0_col3\" class=\"data row0 col3\" >121.8231</td>\n",
       "      <td id=\"T_83ee6_row0_col4\" class=\"data row0 col4\" >0.3240</td>\n",
       "      <td id=\"T_83ee6_row0_col5\" class=\"data row0 col5\" >0.2838</td>\n",
       "      <td id=\"T_83ee6_row0_col6\" class=\"data row0 col6\" >0.1908</td>\n",
       "    </tr>\n",
       "  </tbody>\n",
       "</table>\n"
      ],
      "text/plain": [
       "<pandas.io.formats.style.Styler at 0x2ef5e38ed60>"
      ]
     },
     "metadata": {},
     "output_type": "display_data"
    },
    {
     "data": {
      "text/html": [
       "<div>\n",
       "<style scoped>\n",
       "    .dataframe tbody tr th:only-of-type {\n",
       "        vertical-align: middle;\n",
       "    }\n",
       "\n",
       "    .dataframe tbody tr th {\n",
       "        vertical-align: top;\n",
       "    }\n",
       "\n",
       "    .dataframe thead th {\n",
       "        text-align: right;\n",
       "    }\n",
       "</style>\n",
       "<table border=\"1\" class=\"dataframe\">\n",
       "  <thead>\n",
       "    <tr style=\"text-align: right;\">\n",
       "      <th></th>\n",
       "      <th>area_type</th>\n",
       "      <th>availability</th>\n",
       "      <th>location</th>\n",
       "      <th>size</th>\n",
       "      <th>bath</th>\n",
       "      <th>balcony</th>\n",
       "      <th>Area_sqft</th>\n",
       "      <th>price</th>\n",
       "      <th>prediction_label</th>\n",
       "    </tr>\n",
       "  </thead>\n",
       "  <tbody>\n",
       "    <tr>\n",
       "      <th>0</th>\n",
       "      <td>Super built-up  Area</td>\n",
       "      <td>Ready To Move</td>\n",
       "      <td>Whitefield</td>\n",
       "      <td>2 BHK</td>\n",
       "      <td>2.0</td>\n",
       "      <td>1.0</td>\n",
       "      <td>1170</td>\n",
       "      <td>38.0</td>\n",
       "      <td>48.5079</td>\n",
       "    </tr>\n",
       "    <tr>\n",
       "      <th>1</th>\n",
       "      <td>Super built-up  Area</td>\n",
       "      <td>Ready To Move</td>\n",
       "      <td>Ramakrishnappa Layout</td>\n",
       "      <td>3 BHK</td>\n",
       "      <td>4.0</td>\n",
       "      <td>2.0</td>\n",
       "      <td>2770</td>\n",
       "      <td>290.0</td>\n",
       "      <td>485.7000</td>\n",
       "    </tr>\n",
       "    <tr>\n",
       "      <th>2</th>\n",
       "      <td>Super built-up  Area</td>\n",
       "      <td>Ready To Move</td>\n",
       "      <td>Kundalahalli</td>\n",
       "      <td>3 BHK</td>\n",
       "      <td>3.0</td>\n",
       "      <td>2.0</td>\n",
       "      <td>1724</td>\n",
       "      <td>125.0</td>\n",
       "      <td>124.4800</td>\n",
       "    </tr>\n",
       "    <tr>\n",
       "      <th>3</th>\n",
       "      <td>Built-up  Area</td>\n",
       "      <td>Ready To Move</td>\n",
       "      <td>Uttarahalli</td>\n",
       "      <td>2 BHK</td>\n",
       "      <td>2.0</td>\n",
       "      <td>2.0</td>\n",
       "      <td>1143</td>\n",
       "      <td>45.0</td>\n",
       "      <td>46.0894</td>\n",
       "    </tr>\n",
       "    <tr>\n",
       "      <th>4</th>\n",
       "      <td>Super built-up  Area</td>\n",
       "      <td>Ready To Move</td>\n",
       "      <td>Ramakrishnappa Layout</td>\n",
       "      <td>2 BHK</td>\n",
       "      <td>2.0</td>\n",
       "      <td>2.0</td>\n",
       "      <td>1500</td>\n",
       "      <td>185.0</td>\n",
       "      <td>161.1650</td>\n",
       "    </tr>\n",
       "  </tbody>\n",
       "</table>\n",
       "</div>"
      ],
      "text/plain": [
       "              area_type   availability               location   size bath  \\\n",
       "0  Super built-up  Area  Ready To Move             Whitefield  2 BHK  2.0   \n",
       "1  Super built-up  Area  Ready To Move  Ramakrishnappa Layout  3 BHK  4.0   \n",
       "2  Super built-up  Area  Ready To Move           Kundalahalli  3 BHK  3.0   \n",
       "3        Built-up  Area  Ready To Move            Uttarahalli  2 BHK  2.0   \n",
       "4  Super built-up  Area  Ready To Move  Ramakrishnappa Layout  2 BHK  2.0   \n",
       "\n",
       "  balcony  Area_sqft  price  prediction_label  \n",
       "0     1.0       1170   38.0           48.5079  \n",
       "1     2.0       2770  290.0          485.7000  \n",
       "2     2.0       1724  125.0          124.4800  \n",
       "3     2.0       1143   45.0           46.0894  \n",
       "4     2.0       1500  185.0          161.1650  "
      ]
     },
     "execution_count": 18,
     "metadata": {},
     "output_type": "execute_result"
    }
   ],
   "source": [
    "# Predict on Unseen Data\n",
    "\n",
    "unseen_predictions = predict_model(final_et, data=data_unseen)\n",
    "unseen_predictions.head()"
   ]
  },
  {
   "cell_type": "code",
   "execution_count": 19,
   "id": "66d6b25c",
   "metadata": {},
   "outputs": [
    {
     "data": {
      "text/plain": [
       "0.324"
      ]
     },
     "execution_count": 19,
     "metadata": {},
     "output_type": "execute_result"
    }
   ],
   "source": [
    "# Checking Metrics\n",
    "from pycaret.utils import check_metric\n",
    "check_metric(unseen_predictions.price, unseen_predictions.prediction_label, 'R2')"
   ]
  },
  {
   "cell_type": "markdown",
   "id": "fd686aa8",
   "metadata": {},
   "source": [
    "If we observed that, the r2 value is in negative. This means that the choosen model Extra Tree Regressor fits worse than a horizontal Line.R2 is negative only when the chosen model does not follow the trend of the data, so fits worse than a horizontal line. \n",
    "\n",
    "Due to this reason we are going to do next model KNN, which is the second of top three models."
   ]
  },
  {
   "cell_type": "markdown",
   "id": "6a98238b",
   "metadata": {},
   "source": [
    "___CREATING A KNN MODEL (with 10 Fold CV and Metrics rounded to 2 decimals points)___"
   ]
  },
  {
   "cell_type": "code",
   "execution_count": 20,
   "id": "bb4e0236",
   "metadata": {},
   "outputs": [
    {
     "data": {
      "text/html": [],
      "text/plain": [
       "<IPython.core.display.HTML object>"
      ]
     },
     "metadata": {},
     "output_type": "display_data"
    },
    {
     "data": {
      "text/html": [
       "<style type=\"text/css\">\n",
       "#T_489b6_row10_col0, #T_489b6_row10_col1, #T_489b6_row10_col2, #T_489b6_row10_col3, #T_489b6_row10_col4, #T_489b6_row10_col5 {\n",
       "  background: yellow;\n",
       "}\n",
       "</style>\n",
       "<table id=\"T_489b6\">\n",
       "  <thead>\n",
       "    <tr>\n",
       "      <th class=\"blank level0\" >&nbsp;</th>\n",
       "      <th id=\"T_489b6_level0_col0\" class=\"col_heading level0 col0\" >MAE</th>\n",
       "      <th id=\"T_489b6_level0_col1\" class=\"col_heading level0 col1\" >MSE</th>\n",
       "      <th id=\"T_489b6_level0_col2\" class=\"col_heading level0 col2\" >RMSE</th>\n",
       "      <th id=\"T_489b6_level0_col3\" class=\"col_heading level0 col3\" >R2</th>\n",
       "      <th id=\"T_489b6_level0_col4\" class=\"col_heading level0 col4\" >RMSLE</th>\n",
       "      <th id=\"T_489b6_level0_col5\" class=\"col_heading level0 col5\" >MAPE</th>\n",
       "    </tr>\n",
       "    <tr>\n",
       "      <th class=\"index_name level0\" >Fold</th>\n",
       "      <th class=\"blank col0\" >&nbsp;</th>\n",
       "      <th class=\"blank col1\" >&nbsp;</th>\n",
       "      <th class=\"blank col2\" >&nbsp;</th>\n",
       "      <th class=\"blank col3\" >&nbsp;</th>\n",
       "      <th class=\"blank col4\" >&nbsp;</th>\n",
       "      <th class=\"blank col5\" >&nbsp;</th>\n",
       "    </tr>\n",
       "  </thead>\n",
       "  <tbody>\n",
       "    <tr>\n",
       "      <th id=\"T_489b6_level0_row0\" class=\"row_heading level0 row0\" >0</th>\n",
       "      <td id=\"T_489b6_row0_col0\" class=\"data row0 col0\" >40.19</td>\n",
       "      <td id=\"T_489b6_row0_col1\" class=\"data row0 col1\" >8694.06</td>\n",
       "      <td id=\"T_489b6_row0_col2\" class=\"data row0 col2\" >93.24</td>\n",
       "      <td id=\"T_489b6_row0_col3\" class=\"data row0 col3\" >0.56</td>\n",
       "      <td id=\"T_489b6_row0_col4\" class=\"data row0 col4\" >0.45</td>\n",
       "      <td id=\"T_489b6_row0_col5\" class=\"data row0 col5\" >0.38</td>\n",
       "    </tr>\n",
       "    <tr>\n",
       "      <th id=\"T_489b6_level0_row1\" class=\"row_heading level0 row1\" >1</th>\n",
       "      <td id=\"T_489b6_row1_col0\" class=\"data row1 col0\" >44.15</td>\n",
       "      <td id=\"T_489b6_row1_col1\" class=\"data row1 col1\" >11750.16</td>\n",
       "      <td id=\"T_489b6_row1_col2\" class=\"data row1 col2\" >108.40</td>\n",
       "      <td id=\"T_489b6_row1_col3\" class=\"data row1 col3\" >0.29</td>\n",
       "      <td id=\"T_489b6_row1_col4\" class=\"data row1 col4\" >0.44</td>\n",
       "      <td id=\"T_489b6_row1_col5\" class=\"data row1 col5\" >0.40</td>\n",
       "    </tr>\n",
       "    <tr>\n",
       "      <th id=\"T_489b6_level0_row2\" class=\"row_heading level0 row2\" >2</th>\n",
       "      <td id=\"T_489b6_row2_col0\" class=\"data row2 col0\" >40.45</td>\n",
       "      <td id=\"T_489b6_row2_col1\" class=\"data row2 col1\" >17942.82</td>\n",
       "      <td id=\"T_489b6_row2_col2\" class=\"data row2 col2\" >133.95</td>\n",
       "      <td id=\"T_489b6_row2_col3\" class=\"data row2 col3\" >0.52</td>\n",
       "      <td id=\"T_489b6_row2_col4\" class=\"data row2 col4\" >0.40</td>\n",
       "      <td id=\"T_489b6_row2_col5\" class=\"data row2 col5\" >0.34</td>\n",
       "    </tr>\n",
       "    <tr>\n",
       "      <th id=\"T_489b6_level0_row3\" class=\"row_heading level0 row3\" >3</th>\n",
       "      <td id=\"T_489b6_row3_col0\" class=\"data row3 col0\" >39.64</td>\n",
       "      <td id=\"T_489b6_row3_col1\" class=\"data row3 col1\" >17950.59</td>\n",
       "      <td id=\"T_489b6_row3_col2\" class=\"data row3 col2\" >133.98</td>\n",
       "      <td id=\"T_489b6_row3_col3\" class=\"data row3 col3\" >0.38</td>\n",
       "      <td id=\"T_489b6_row3_col4\" class=\"data row3 col4\" >0.40</td>\n",
       "      <td id=\"T_489b6_row3_col5\" class=\"data row3 col5\" >0.32</td>\n",
       "    </tr>\n",
       "    <tr>\n",
       "      <th id=\"T_489b6_level0_row4\" class=\"row_heading level0 row4\" >4</th>\n",
       "      <td id=\"T_489b6_row4_col0\" class=\"data row4 col0\" >38.27</td>\n",
       "      <td id=\"T_489b6_row4_col1\" class=\"data row4 col1\" >10460.56</td>\n",
       "      <td id=\"T_489b6_row4_col2\" class=\"data row4 col2\" >102.28</td>\n",
       "      <td id=\"T_489b6_row4_col3\" class=\"data row4 col3\" >0.63</td>\n",
       "      <td id=\"T_489b6_row4_col4\" class=\"data row4 col4\" >0.39</td>\n",
       "      <td id=\"T_489b6_row4_col5\" class=\"data row4 col5\" >0.33</td>\n",
       "    </tr>\n",
       "    <tr>\n",
       "      <th id=\"T_489b6_level0_row5\" class=\"row_heading level0 row5\" >5</th>\n",
       "      <td id=\"T_489b6_row5_col0\" class=\"data row5 col0\" >36.47</td>\n",
       "      <td id=\"T_489b6_row5_col1\" class=\"data row5 col1\" >10046.84</td>\n",
       "      <td id=\"T_489b6_row5_col2\" class=\"data row5 col2\" >100.23</td>\n",
       "      <td id=\"T_489b6_row5_col3\" class=\"data row5 col3\" >0.55</td>\n",
       "      <td id=\"T_489b6_row5_col4\" class=\"data row5 col4\" >0.38</td>\n",
       "      <td id=\"T_489b6_row5_col5\" class=\"data row5 col5\" >0.30</td>\n",
       "    </tr>\n",
       "    <tr>\n",
       "      <th id=\"T_489b6_level0_row6\" class=\"row_heading level0 row6\" >6</th>\n",
       "      <td id=\"T_489b6_row6_col0\" class=\"data row6 col0\" >38.13</td>\n",
       "      <td id=\"T_489b6_row6_col1\" class=\"data row6 col1\" >10276.69</td>\n",
       "      <td id=\"T_489b6_row6_col2\" class=\"data row6 col2\" >101.37</td>\n",
       "      <td id=\"T_489b6_row6_col3\" class=\"data row6 col3\" >0.45</td>\n",
       "      <td id=\"T_489b6_row6_col4\" class=\"data row6 col4\" >0.41</td>\n",
       "      <td id=\"T_489b6_row6_col5\" class=\"data row6 col5\" >0.34</td>\n",
       "    </tr>\n",
       "    <tr>\n",
       "      <th id=\"T_489b6_level0_row7\" class=\"row_heading level0 row7\" >7</th>\n",
       "      <td id=\"T_489b6_row7_col0\" class=\"data row7 col0\" >40.17</td>\n",
       "      <td id=\"T_489b6_row7_col1\" class=\"data row7 col1\" >11793.81</td>\n",
       "      <td id=\"T_489b6_row7_col2\" class=\"data row7 col2\" >108.60</td>\n",
       "      <td id=\"T_489b6_row7_col3\" class=\"data row7 col3\" >0.54</td>\n",
       "      <td id=\"T_489b6_row7_col4\" class=\"data row7 col4\" >0.41</td>\n",
       "      <td id=\"T_489b6_row7_col5\" class=\"data row7 col5\" >0.34</td>\n",
       "    </tr>\n",
       "    <tr>\n",
       "      <th id=\"T_489b6_level0_row8\" class=\"row_heading level0 row8\" >8</th>\n",
       "      <td id=\"T_489b6_row8_col0\" class=\"data row8 col0\" >37.15</td>\n",
       "      <td id=\"T_489b6_row8_col1\" class=\"data row8 col1\" >7123.60</td>\n",
       "      <td id=\"T_489b6_row8_col2\" class=\"data row8 col2\" >84.40</td>\n",
       "      <td id=\"T_489b6_row8_col3\" class=\"data row8 col3\" >0.66</td>\n",
       "      <td id=\"T_489b6_row8_col4\" class=\"data row8 col4\" >0.42</td>\n",
       "      <td id=\"T_489b6_row8_col5\" class=\"data row8 col5\" >0.36</td>\n",
       "    </tr>\n",
       "    <tr>\n",
       "      <th id=\"T_489b6_level0_row9\" class=\"row_heading level0 row9\" >9</th>\n",
       "      <td id=\"T_489b6_row9_col0\" class=\"data row9 col0\" >37.65</td>\n",
       "      <td id=\"T_489b6_row9_col1\" class=\"data row9 col1\" >8009.56</td>\n",
       "      <td id=\"T_489b6_row9_col2\" class=\"data row9 col2\" >89.50</td>\n",
       "      <td id=\"T_489b6_row9_col3\" class=\"data row9 col3\" >0.65</td>\n",
       "      <td id=\"T_489b6_row9_col4\" class=\"data row9 col4\" >0.39</td>\n",
       "      <td id=\"T_489b6_row9_col5\" class=\"data row9 col5\" >0.33</td>\n",
       "    </tr>\n",
       "    <tr>\n",
       "      <th id=\"T_489b6_level0_row10\" class=\"row_heading level0 row10\" >Mean</th>\n",
       "      <td id=\"T_489b6_row10_col0\" class=\"data row10 col0\" >39.23</td>\n",
       "      <td id=\"T_489b6_row10_col1\" class=\"data row10 col1\" >11404.87</td>\n",
       "      <td id=\"T_489b6_row10_col2\" class=\"data row10 col2\" >105.60</td>\n",
       "      <td id=\"T_489b6_row10_col3\" class=\"data row10 col3\" >0.52</td>\n",
       "      <td id=\"T_489b6_row10_col4\" class=\"data row10 col4\" >0.41</td>\n",
       "      <td id=\"T_489b6_row10_col5\" class=\"data row10 col5\" >0.34</td>\n",
       "    </tr>\n",
       "    <tr>\n",
       "      <th id=\"T_489b6_level0_row11\" class=\"row_heading level0 row11\" >Std</th>\n",
       "      <td id=\"T_489b6_row11_col0\" class=\"data row11 col0\" >2.10</td>\n",
       "      <td id=\"T_489b6_row11_col1\" class=\"data row11 col1\" >3564.78</td>\n",
       "      <td id=\"T_489b6_row11_col2\" class=\"data row11 col2\" >15.95</td>\n",
       "      <td id=\"T_489b6_row11_col3\" class=\"data row11 col3\" >0.11</td>\n",
       "      <td id=\"T_489b6_row11_col4\" class=\"data row11 col4\" >0.02</td>\n",
       "      <td id=\"T_489b6_row11_col5\" class=\"data row11 col5\" >0.03</td>\n",
       "    </tr>\n",
       "  </tbody>\n",
       "</table>\n"
      ],
      "text/plain": [
       "<pandas.io.formats.style.Styler at 0x2ef5e6559a0>"
      ]
     },
     "metadata": {},
     "output_type": "display_data"
    },
    {
     "data": {
      "application/vnd.jupyter.widget-view+json": {
       "model_id": "",
       "version_major": 2,
       "version_minor": 0
      },
      "text/plain": [
       "Processing:   0%|          | 0/4 [00:00<?, ?it/s]"
      ]
     },
     "metadata": {},
     "output_type": "display_data"
    }
   ],
   "source": [
    "# Creating a mdel With K Neighbors Regressor with 10 fold cross validation.\n",
    "knn = create_model('knn', fold = 10, round = 2)"
   ]
  },
  {
   "cell_type": "markdown",
   "id": "f1ffc062",
   "metadata": {},
   "source": [
    "___TUNING KNN MODEL___"
   ]
  },
  {
   "cell_type": "code",
   "execution_count": 21,
   "id": "7e9eda8d",
   "metadata": {},
   "outputs": [
    {
     "data": {
      "text/html": [],
      "text/plain": [
       "<IPython.core.display.HTML object>"
      ]
     },
     "metadata": {},
     "output_type": "display_data"
    },
    {
     "data": {
      "text/html": [
       "<style type=\"text/css\">\n",
       "#T_1b7c9_row10_col0, #T_1b7c9_row10_col1, #T_1b7c9_row10_col2, #T_1b7c9_row10_col3, #T_1b7c9_row10_col4, #T_1b7c9_row10_col5 {\n",
       "  background: yellow;\n",
       "}\n",
       "</style>\n",
       "<table id=\"T_1b7c9\">\n",
       "  <thead>\n",
       "    <tr>\n",
       "      <th class=\"blank level0\" >&nbsp;</th>\n",
       "      <th id=\"T_1b7c9_level0_col0\" class=\"col_heading level0 col0\" >MAE</th>\n",
       "      <th id=\"T_1b7c9_level0_col1\" class=\"col_heading level0 col1\" >MSE</th>\n",
       "      <th id=\"T_1b7c9_level0_col2\" class=\"col_heading level0 col2\" >RMSE</th>\n",
       "      <th id=\"T_1b7c9_level0_col3\" class=\"col_heading level0 col3\" >R2</th>\n",
       "      <th id=\"T_1b7c9_level0_col4\" class=\"col_heading level0 col4\" >RMSLE</th>\n",
       "      <th id=\"T_1b7c9_level0_col5\" class=\"col_heading level0 col5\" >MAPE</th>\n",
       "    </tr>\n",
       "    <tr>\n",
       "      <th class=\"index_name level0\" >Fold</th>\n",
       "      <th class=\"blank col0\" >&nbsp;</th>\n",
       "      <th class=\"blank col1\" >&nbsp;</th>\n",
       "      <th class=\"blank col2\" >&nbsp;</th>\n",
       "      <th class=\"blank col3\" >&nbsp;</th>\n",
       "      <th class=\"blank col4\" >&nbsp;</th>\n",
       "      <th class=\"blank col5\" >&nbsp;</th>\n",
       "    </tr>\n",
       "  </thead>\n",
       "  <tbody>\n",
       "    <tr>\n",
       "      <th id=\"T_1b7c9_level0_row0\" class=\"row_heading level0 row0\" >0</th>\n",
       "      <td id=\"T_1b7c9_row0_col0\" class=\"data row0 col0\" >37.8014</td>\n",
       "      <td id=\"T_1b7c9_row0_col1\" class=\"data row0 col1\" >7367.2211</td>\n",
       "      <td id=\"T_1b7c9_row0_col2\" class=\"data row0 col2\" >85.8325</td>\n",
       "      <td id=\"T_1b7c9_row0_col3\" class=\"data row0 col3\" >0.6297</td>\n",
       "      <td id=\"T_1b7c9_row0_col4\" class=\"data row0 col4\" >0.4372</td>\n",
       "      <td id=\"T_1b7c9_row0_col5\" class=\"data row0 col5\" >0.3932</td>\n",
       "    </tr>\n",
       "    <tr>\n",
       "      <th id=\"T_1b7c9_level0_row1\" class=\"row_heading level0 row1\" >1</th>\n",
       "      <td id=\"T_1b7c9_row1_col0\" class=\"data row1 col0\" >39.9558</td>\n",
       "      <td id=\"T_1b7c9_row1_col1\" class=\"data row1 col1\" >8305.2441</td>\n",
       "      <td id=\"T_1b7c9_row1_col2\" class=\"data row1 col2\" >91.1331</td>\n",
       "      <td id=\"T_1b7c9_row1_col3\" class=\"data row1 col3\" >0.4966</td>\n",
       "      <td id=\"T_1b7c9_row1_col4\" class=\"data row1 col4\" >0.4155</td>\n",
       "      <td id=\"T_1b7c9_row1_col5\" class=\"data row1 col5\" >0.3657</td>\n",
       "    </tr>\n",
       "    <tr>\n",
       "      <th id=\"T_1b7c9_level0_row2\" class=\"row_heading level0 row2\" >2</th>\n",
       "      <td id=\"T_1b7c9_row2_col0\" class=\"data row2 col0\" >39.6059</td>\n",
       "      <td id=\"T_1b7c9_row2_col1\" class=\"data row2 col1\" >18475.9787</td>\n",
       "      <td id=\"T_1b7c9_row2_col2\" class=\"data row2 col2\" >135.9264</td>\n",
       "      <td id=\"T_1b7c9_row2_col3\" class=\"data row2 col3\" >0.5052</td>\n",
       "      <td id=\"T_1b7c9_row2_col4\" class=\"data row2 col4\" >0.3956</td>\n",
       "      <td id=\"T_1b7c9_row2_col5\" class=\"data row2 col5\" >0.3520</td>\n",
       "    </tr>\n",
       "    <tr>\n",
       "      <th id=\"T_1b7c9_level0_row3\" class=\"row_heading level0 row3\" >3</th>\n",
       "      <td id=\"T_1b7c9_row3_col0\" class=\"data row3 col0\" >36.9533</td>\n",
       "      <td id=\"T_1b7c9_row3_col1\" class=\"data row3 col1\" >14453.0355</td>\n",
       "      <td id=\"T_1b7c9_row3_col2\" class=\"data row3 col2\" >120.2208</td>\n",
       "      <td id=\"T_1b7c9_row3_col3\" class=\"data row3 col3\" >0.5010</td>\n",
       "      <td id=\"T_1b7c9_row3_col4\" class=\"data row3 col4\" >0.3780</td>\n",
       "      <td id=\"T_1b7c9_row3_col5\" class=\"data row3 col5\" >0.3104</td>\n",
       "    </tr>\n",
       "    <tr>\n",
       "      <th id=\"T_1b7c9_level0_row4\" class=\"row_heading level0 row4\" >4</th>\n",
       "      <td id=\"T_1b7c9_row4_col0\" class=\"data row4 col0\" >38.2342</td>\n",
       "      <td id=\"T_1b7c9_row4_col1\" class=\"data row4 col1\" >10894.9823</td>\n",
       "      <td id=\"T_1b7c9_row4_col2\" class=\"data row4 col2\" >104.3790</td>\n",
       "      <td id=\"T_1b7c9_row4_col3\" class=\"data row4 col3\" >0.6095</td>\n",
       "      <td id=\"T_1b7c9_row4_col4\" class=\"data row4 col4\" >0.3912</td>\n",
       "      <td id=\"T_1b7c9_row4_col5\" class=\"data row4 col5\" >0.3492</td>\n",
       "    </tr>\n",
       "    <tr>\n",
       "      <th id=\"T_1b7c9_level0_row5\" class=\"row_heading level0 row5\" >5</th>\n",
       "      <td id=\"T_1b7c9_row5_col0\" class=\"data row5 col0\" >36.0225</td>\n",
       "      <td id=\"T_1b7c9_row5_col1\" class=\"data row5 col1\" >9299.9174</td>\n",
       "      <td id=\"T_1b7c9_row5_col2\" class=\"data row5 col2\" >96.4361</td>\n",
       "      <td id=\"T_1b7c9_row5_col3\" class=\"data row5 col3\" >0.5839</td>\n",
       "      <td id=\"T_1b7c9_row5_col4\" class=\"data row5 col4\" >0.3727</td>\n",
       "      <td id=\"T_1b7c9_row5_col5\" class=\"data row5 col5\" >0.3006</td>\n",
       "    </tr>\n",
       "    <tr>\n",
       "      <th id=\"T_1b7c9_level0_row6\" class=\"row_heading level0 row6\" >6</th>\n",
       "      <td id=\"T_1b7c9_row6_col0\" class=\"data row6 col0\" >35.5144</td>\n",
       "      <td id=\"T_1b7c9_row6_col1\" class=\"data row6 col1\" >8032.1781</td>\n",
       "      <td id=\"T_1b7c9_row6_col2\" class=\"data row6 col2\" >89.6224</td>\n",
       "      <td id=\"T_1b7c9_row6_col3\" class=\"data row6 col3\" >0.5711</td>\n",
       "      <td id=\"T_1b7c9_row6_col4\" class=\"data row6 col4\" >0.3917</td>\n",
       "      <td id=\"T_1b7c9_row6_col5\" class=\"data row6 col5\" >0.3312</td>\n",
       "    </tr>\n",
       "    <tr>\n",
       "      <th id=\"T_1b7c9_level0_row7\" class=\"row_heading level0 row7\" >7</th>\n",
       "      <td id=\"T_1b7c9_row7_col0\" class=\"data row7 col0\" >38.1571</td>\n",
       "      <td id=\"T_1b7c9_row7_col1\" class=\"data row7 col1\" >10254.2005</td>\n",
       "      <td id=\"T_1b7c9_row7_col2\" class=\"data row7 col2\" >101.2630</td>\n",
       "      <td id=\"T_1b7c9_row7_col3\" class=\"data row7 col3\" >0.6014</td>\n",
       "      <td id=\"T_1b7c9_row7_col4\" class=\"data row7 col4\" >0.4012</td>\n",
       "      <td id=\"T_1b7c9_row7_col5\" class=\"data row7 col5\" >0.3399</td>\n",
       "    </tr>\n",
       "    <tr>\n",
       "      <th id=\"T_1b7c9_level0_row8\" class=\"row_heading level0 row8\" >8</th>\n",
       "      <td id=\"T_1b7c9_row8_col0\" class=\"data row8 col0\" >37.2218</td>\n",
       "      <td id=\"T_1b7c9_row8_col1\" class=\"data row8 col1\" >7824.1685</td>\n",
       "      <td id=\"T_1b7c9_row8_col2\" class=\"data row8 col2\" >88.4543</td>\n",
       "      <td id=\"T_1b7c9_row8_col3\" class=\"data row8 col3\" >0.6261</td>\n",
       "      <td id=\"T_1b7c9_row8_col4\" class=\"data row8 col4\" >0.4116</td>\n",
       "      <td id=\"T_1b7c9_row8_col5\" class=\"data row8 col5\" >0.3622</td>\n",
       "    </tr>\n",
       "    <tr>\n",
       "      <th id=\"T_1b7c9_level0_row9\" class=\"row_heading level0 row9\" >9</th>\n",
       "      <td id=\"T_1b7c9_row9_col0\" class=\"data row9 col0\" >37.9424</td>\n",
       "      <td id=\"T_1b7c9_row9_col1\" class=\"data row9 col1\" >7590.6124</td>\n",
       "      <td id=\"T_1b7c9_row9_col2\" class=\"data row9 col2\" >87.1241</td>\n",
       "      <td id=\"T_1b7c9_row9_col3\" class=\"data row9 col3\" >0.6658</td>\n",
       "      <td id=\"T_1b7c9_row9_col4\" class=\"data row9 col4\" >0.3864</td>\n",
       "      <td id=\"T_1b7c9_row9_col5\" class=\"data row9 col5\" >0.3365</td>\n",
       "    </tr>\n",
       "    <tr>\n",
       "      <th id=\"T_1b7c9_level0_row10\" class=\"row_heading level0 row10\" >Mean</th>\n",
       "      <td id=\"T_1b7c9_row10_col0\" class=\"data row10 col0\" >37.7409</td>\n",
       "      <td id=\"T_1b7c9_row10_col1\" class=\"data row10 col1\" >10249.7539</td>\n",
       "      <td id=\"T_1b7c9_row10_col2\" class=\"data row10 col2\" >100.0392</td>\n",
       "      <td id=\"T_1b7c9_row10_col3\" class=\"data row10 col3\" >0.5790</td>\n",
       "      <td id=\"T_1b7c9_row10_col4\" class=\"data row10 col4\" >0.3981</td>\n",
       "      <td id=\"T_1b7c9_row10_col5\" class=\"data row10 col5\" >0.3441</td>\n",
       "    </tr>\n",
       "    <tr>\n",
       "      <th id=\"T_1b7c9_level0_row11\" class=\"row_heading level0 row11\" >Std</th>\n",
       "      <td id=\"T_1b7c9_row11_col0\" class=\"data row11 col0\" >1.3283</td>\n",
       "      <td id=\"T_1b7c9_row11_col1\" class=\"data row11 col1\" >3414.9544</td>\n",
       "      <td id=\"T_1b7c9_row11_col2\" class=\"data row11 col2\" >15.5537</td>\n",
       "      <td id=\"T_1b7c9_row11_col3\" class=\"data row11 col3\" >0.0567</td>\n",
       "      <td id=\"T_1b7c9_row11_col4\" class=\"data row11 col4\" >0.0182</td>\n",
       "      <td id=\"T_1b7c9_row11_col5\" class=\"data row11 col5\" >0.0256</td>\n",
       "    </tr>\n",
       "  </tbody>\n",
       "</table>\n"
      ],
      "text/plain": [
       "<pandas.io.formats.style.Styler at 0x2ef5dcbb670>"
      ]
     },
     "metadata": {},
     "output_type": "display_data"
    },
    {
     "data": {
      "application/vnd.jupyter.widget-view+json": {
       "model_id": "",
       "version_major": 2,
       "version_minor": 0
      },
      "text/plain": [
       "Processing:   0%|          | 0/7 [00:00<?, ?it/s]"
      ]
     },
     "metadata": {},
     "output_type": "display_data"
    },
    {
     "name": "stdout",
     "output_type": "stream",
     "text": [
      "Fitting 10 folds for each of 5 candidates, totalling 50 fits\n"
     ]
    }
   ],
   "source": [
    "# Tuning KNN model\n",
    "tuned_knn = tune_model(knn, n_iter = 5)"
   ]
  },
  {
   "cell_type": "code",
   "execution_count": 22,
   "id": "ffad2ea5",
   "metadata": {},
   "outputs": [
    {
     "data": {
      "text/html": [],
      "text/plain": [
       "<IPython.core.display.HTML object>"
      ]
     },
     "metadata": {},
     "output_type": "display_data"
    },
    {
     "data": {
      "text/html": [
       "<div>\n",
       "<style scoped>\n",
       "    .dataframe tbody tr th:only-of-type {\n",
       "        vertical-align: middle;\n",
       "    }\n",
       "\n",
       "    .dataframe tbody tr th {\n",
       "        vertical-align: top;\n",
       "    }\n",
       "\n",
       "    .dataframe thead th {\n",
       "        text-align: right;\n",
       "    }\n",
       "</style>\n",
       "<table border=\"1\" class=\"dataframe\">\n",
       "  <thead>\n",
       "    <tr style=\"text-align: right;\">\n",
       "      <th></th>\n",
       "      <th>Parameters</th>\n",
       "    </tr>\n",
       "  </thead>\n",
       "  <tbody>\n",
       "    <tr>\n",
       "      <th>algorithm</th>\n",
       "      <td>auto</td>\n",
       "    </tr>\n",
       "    <tr>\n",
       "      <th>leaf_size</th>\n",
       "      <td>30</td>\n",
       "    </tr>\n",
       "    <tr>\n",
       "      <th>metric</th>\n",
       "      <td>minkowski</td>\n",
       "    </tr>\n",
       "    <tr>\n",
       "      <th>metric_params</th>\n",
       "      <td>None</td>\n",
       "    </tr>\n",
       "    <tr>\n",
       "      <th>n_jobs</th>\n",
       "      <td>-1</td>\n",
       "    </tr>\n",
       "    <tr>\n",
       "      <th>n_neighbors</th>\n",
       "      <td>42</td>\n",
       "    </tr>\n",
       "    <tr>\n",
       "      <th>p</th>\n",
       "      <td>2</td>\n",
       "    </tr>\n",
       "    <tr>\n",
       "      <th>weights</th>\n",
       "      <td>distance</td>\n",
       "    </tr>\n",
       "  </tbody>\n",
       "</table>\n",
       "</div>"
      ],
      "text/plain": [
       "              Parameters\n",
       "algorithm           auto\n",
       "leaf_size             30\n",
       "metric         minkowski\n",
       "metric_params       None\n",
       "n_jobs                -1\n",
       "n_neighbors           42\n",
       "p                      2\n",
       "weights         distance"
      ]
     },
     "metadata": {},
     "output_type": "display_data"
    }
   ],
   "source": [
    "# Observing the hyperparameters of tuned_knn\n",
    "plot_model(tuned_knn, plot = 'parameter')"
   ]
  },
  {
   "cell_type": "code",
   "execution_count": 23,
   "id": "4892f18e",
   "metadata": {},
   "outputs": [
    {
     "data": {
      "text/html": [],
      "text/plain": [
       "<IPython.core.display.HTML object>"
      ]
     },
     "metadata": {},
     "output_type": "display_data"
    },
    {
     "data": {
      "image/png": "[encoded data removed]",
      "text/plain": [
       "<Figure size 432x288 with 2 Axes>"
      ]
     },
     "metadata": {
      "needs_background": "light"
     },
     "output_type": "display_data"
    }
   ],
   "source": [
    "# Residual Plot for tuned model\n",
    "plot_model(tuned_knn)"
   ]
  },
  {
   "cell_type": "code",
   "execution_count": 24,
   "id": "6f38f247",
   "metadata": {},
   "outputs": [
    {
     "data": {
      "text/html": [],
      "text/plain": [
       "<IPython.core.display.HTML object>"
      ]
     },
     "metadata": {},
     "output_type": "display_data"
    },
    {
     "data": {
      "image/png": "[encoded data removed]",
      "text/plain": [
       "<Figure size 432x288 with 1 Axes>"
      ]
     },
     "metadata": {
      "needs_background": "light"
     },
     "output_type": "display_data"
    }
   ],
   "source": [
    "# Prediction Error Plot\n",
    "plot_model(tuned_knn, plot = 'error')"
   ]
  },
  {
   "cell_type": "code",
   "execution_count": 25,
   "id": "0f13710d",
   "metadata": {},
   "outputs": [
    {
     "data": {
      "text/html": [
       "<style type=\"text/css\">\n",
       "</style>\n",
       "<table id=\"T_24e67\">\n",
       "  <thead>\n",
       "    <tr>\n",
       "      <th class=\"blank level0\" >&nbsp;</th>\n",
       "      <th id=\"T_24e67_level0_col0\" class=\"col_heading level0 col0\" >Model</th>\n",
       "      <th id=\"T_24e67_level0_col1\" class=\"col_heading level0 col1\" >MAE</th>\n",
       "      <th id=\"T_24e67_level0_col2\" class=\"col_heading level0 col2\" >MSE</th>\n",
       "      <th id=\"T_24e67_level0_col3\" class=\"col_heading level0 col3\" >RMSE</th>\n",
       "      <th id=\"T_24e67_level0_col4\" class=\"col_heading level0 col4\" >R2</th>\n",
       "      <th id=\"T_24e67_level0_col5\" class=\"col_heading level0 col5\" >RMSLE</th>\n",
       "      <th id=\"T_24e67_level0_col6\" class=\"col_heading level0 col6\" >MAPE</th>\n",
       "    </tr>\n",
       "  </thead>\n",
       "  <tbody>\n",
       "    <tr>\n",
       "      <th id=\"T_24e67_level0_row0\" class=\"row_heading level0 row0\" >0</th>\n",
       "      <td id=\"T_24e67_row0_col0\" class=\"data row0 col0\" >K Neighbors Regressor</td>\n",
       "      <td id=\"T_24e67_row0_col1\" class=\"data row0 col1\" >36.3470</td>\n",
       "      <td id=\"T_24e67_row0_col2\" class=\"data row0 col2\" >7795.6770</td>\n",
       "      <td id=\"T_24e67_row0_col3\" class=\"data row0 col3\" >88.2931</td>\n",
       "      <td id=\"T_24e67_row0_col4\" class=\"data row0 col4\" >0.5624</td>\n",
       "      <td id=\"T_24e67_row0_col5\" class=\"data row0 col5\" >0.3935</td>\n",
       "      <td id=\"T_24e67_row0_col6\" class=\"data row0 col6\" >0.3407</td>\n",
       "    </tr>\n",
       "  </tbody>\n",
       "</table>\n"
      ],
      "text/plain": [
       "<pandas.io.formats.style.Styler at 0x2ef5e05a3a0>"
      ]
     },
     "metadata": {},
     "output_type": "display_data"
    }
   ],
   "source": [
    "# Predict on Test / Hold-out Sample\n",
    "\n",
    "pred = predict_model(tuned_knn);"
   ]
  },
  {
   "cell_type": "code",
   "execution_count": 26,
   "id": "3111a6aa",
   "metadata": {},
   "outputs": [],
   "source": [
    "# Finalize Model for Deployment\n",
    "final_knn = finalize_model(tuned_knn)"
   ]
  },
  {
   "cell_type": "code",
   "execution_count": 27,
   "id": "983ef06d",
   "metadata": {},
   "outputs": [
    {
     "data": {
      "text/html": [
       "<style type=\"text/css\">\n",
       "</style>\n",
       "<table id=\"T_721ca\">\n",
       "  <thead>\n",
       "    <tr>\n",
       "      <th class=\"blank level0\" >&nbsp;</th>\n",
       "      <th id=\"T_721ca_level0_col0\" class=\"col_heading level0 col0\" >Model</th>\n",
       "      <th id=\"T_721ca_level0_col1\" class=\"col_heading level0 col1\" >MAE</th>\n",
       "      <th id=\"T_721ca_level0_col2\" class=\"col_heading level0 col2\" >MSE</th>\n",
       "      <th id=\"T_721ca_level0_col3\" class=\"col_heading level0 col3\" >RMSE</th>\n",
       "      <th id=\"T_721ca_level0_col4\" class=\"col_heading level0 col4\" >R2</th>\n",
       "      <th id=\"T_721ca_level0_col5\" class=\"col_heading level0 col5\" >RMSLE</th>\n",
       "      <th id=\"T_721ca_level0_col6\" class=\"col_heading level0 col6\" >MAPE</th>\n",
       "    </tr>\n",
       "  </thead>\n",
       "  <tbody>\n",
       "    <tr>\n",
       "      <th id=\"T_721ca_level0_row0\" class=\"row_heading level0 row0\" >0</th>\n",
       "      <td id=\"T_721ca_row0_col0\" class=\"data row0 col0\" >K Neighbors Regressor</td>\n",
       "      <td id=\"T_721ca_row0_col1\" class=\"data row0 col1\" >35.6506</td>\n",
       "      <td id=\"T_721ca_row0_col2\" class=\"data row0 col2\" >9748.5033</td>\n",
       "      <td id=\"T_721ca_row0_col3\" class=\"data row0 col3\" >98.7345</td>\n",
       "      <td id=\"T_721ca_row0_col4\" class=\"data row0 col4\" >0.5560</td>\n",
       "      <td id=\"T_721ca_row0_col5\" class=\"data row0 col5\" >0.3956</td>\n",
       "      <td id=\"T_721ca_row0_col6\" class=\"data row0 col6\" >0.3193</td>\n",
       "    </tr>\n",
       "  </tbody>\n",
       "</table>\n"
      ],
      "text/plain": [
       "<pandas.io.formats.style.Styler at 0x2ef5e05a850>"
      ]
     },
     "metadata": {},
     "output_type": "display_data"
    },
    {
     "data": {
      "text/html": [
       "<div>\n",
       "<style scoped>\n",
       "    .dataframe tbody tr th:only-of-type {\n",
       "        vertical-align: middle;\n",
       "    }\n",
       "\n",
       "    .dataframe tbody tr th {\n",
       "        vertical-align: top;\n",
       "    }\n",
       "\n",
       "    .dataframe thead th {\n",
       "        text-align: right;\n",
       "    }\n",
       "</style>\n",
       "<table border=\"1\" class=\"dataframe\">\n",
       "  <thead>\n",
       "    <tr style=\"text-align: right;\">\n",
       "      <th></th>\n",
       "      <th>area_type</th>\n",
       "      <th>availability</th>\n",
       "      <th>location</th>\n",
       "      <th>size</th>\n",
       "      <th>bath</th>\n",
       "      <th>balcony</th>\n",
       "      <th>Area_sqft</th>\n",
       "      <th>price</th>\n",
       "      <th>prediction_label</th>\n",
       "    </tr>\n",
       "  </thead>\n",
       "  <tbody>\n",
       "    <tr>\n",
       "      <th>0</th>\n",
       "      <td>Super built-up  Area</td>\n",
       "      <td>Ready To Move</td>\n",
       "      <td>Whitefield</td>\n",
       "      <td>2 BHK</td>\n",
       "      <td>2.0</td>\n",
       "      <td>1.0</td>\n",
       "      <td>1170</td>\n",
       "      <td>38.0</td>\n",
       "      <td>69.013037</td>\n",
       "    </tr>\n",
       "    <tr>\n",
       "      <th>1</th>\n",
       "      <td>Super built-up  Area</td>\n",
       "      <td>Ready To Move</td>\n",
       "      <td>Ramakrishnappa Layout</td>\n",
       "      <td>3 BHK</td>\n",
       "      <td>4.0</td>\n",
       "      <td>2.0</td>\n",
       "      <td>2770</td>\n",
       "      <td>290.0</td>\n",
       "      <td>364.861583</td>\n",
       "    </tr>\n",
       "    <tr>\n",
       "      <th>2</th>\n",
       "      <td>Super built-up  Area</td>\n",
       "      <td>Ready To Move</td>\n",
       "      <td>Kundalahalli</td>\n",
       "      <td>3 BHK</td>\n",
       "      <td>3.0</td>\n",
       "      <td>2.0</td>\n",
       "      <td>1724</td>\n",
       "      <td>125.0</td>\n",
       "      <td>122.695376</td>\n",
       "    </tr>\n",
       "    <tr>\n",
       "      <th>3</th>\n",
       "      <td>Built-up  Area</td>\n",
       "      <td>Ready To Move</td>\n",
       "      <td>Uttarahalli</td>\n",
       "      <td>2 BHK</td>\n",
       "      <td>2.0</td>\n",
       "      <td>2.0</td>\n",
       "      <td>1143</td>\n",
       "      <td>45.0</td>\n",
       "      <td>51.125754</td>\n",
       "    </tr>\n",
       "    <tr>\n",
       "      <th>4</th>\n",
       "      <td>Super built-up  Area</td>\n",
       "      <td>Ready To Move</td>\n",
       "      <td>Ramakrishnappa Layout</td>\n",
       "      <td>2 BHK</td>\n",
       "      <td>2.0</td>\n",
       "      <td>2.0</td>\n",
       "      <td>1500</td>\n",
       "      <td>185.0</td>\n",
       "      <td>159.986709</td>\n",
       "    </tr>\n",
       "  </tbody>\n",
       "</table>\n",
       "</div>"
      ],
      "text/plain": [
       "              area_type   availability               location   size bath  \\\n",
       "0  Super built-up  Area  Ready To Move             Whitefield  2 BHK  2.0   \n",
       "1  Super built-up  Area  Ready To Move  Ramakrishnappa Layout  3 BHK  4.0   \n",
       "2  Super built-up  Area  Ready To Move           Kundalahalli  3 BHK  3.0   \n",
       "3        Built-up  Area  Ready To Move            Uttarahalli  2 BHK  2.0   \n",
       "4  Super built-up  Area  Ready To Move  Ramakrishnappa Layout  2 BHK  2.0   \n",
       "\n",
       "  balcony  Area_sqft  price  prediction_label  \n",
       "0     1.0       1170   38.0         69.013037  \n",
       "1     2.0       2770  290.0        364.861583  \n",
       "2     2.0       1724  125.0        122.695376  \n",
       "3     2.0       1143   45.0         51.125754  \n",
       "4     2.0       1500  185.0        159.986709  "
      ]
     },
     "execution_count": 27,
     "metadata": {},
     "output_type": "execute_result"
    }
   ],
   "source": [
    "# Predict on Unseen Data\n",
    "\n",
    "unseen_predictions = predict_model(final_knn, data=data_unseen)\n",
    "unseen_predictions.head()"
   ]
  },
  {
   "cell_type": "code",
   "execution_count": 28,
   "id": "440d7655",
   "metadata": {},
   "outputs": [
    {
     "data": {
      "text/plain": [
       "0.556"
      ]
     },
     "execution_count": 28,
     "metadata": {},
     "output_type": "execute_result"
    }
   ],
   "source": [
    "# Checking Metrics\n",
    "from pycaret.utils import check_metric\n",
    "check_metric(unseen_predictions.price, unseen_predictions.prediction_label,'R2')"
   ]
  },
  {
   "cell_type": "code",
   "execution_count": 29,
   "id": "e8e13e7d",
   "metadata": {},
   "outputs": [
    {
     "data": {
      "text/plain": [
       "98.7345"
      ]
     },
     "execution_count": 29,
     "metadata": {},
     "output_type": "execute_result"
    }
   ],
   "source": [
    "# Checking Metrics\n",
    "from pycaret.utils import check_metric\n",
    "check_metric(unseen_predictions.price, unseen_predictions.prediction_label,'RMSE')"
   ]
  },
  {
   "cell_type": "code",
   "execution_count": 30,
   "id": "c5db427e",
   "metadata": {},
   "outputs": [
    {
     "data": {
      "text/html": [],
      "text/plain": [
       "<IPython.core.display.HTML object>"
      ]
     },
     "metadata": {},
     "output_type": "display_data"
    },
    {
     "data": {
      "text/html": [
       "<style type=\"text/css\">\n",
       "#T_08db4_row10_col0, #T_08db4_row10_col1, #T_08db4_row10_col2, #T_08db4_row10_col3, #T_08db4_row10_col4, #T_08db4_row10_col5 {\n",
       "  background: yellow;\n",
       "}\n",
       "</style>\n",
       "<table id=\"T_08db4\">\n",
       "  <thead>\n",
       "    <tr>\n",
       "      <th class=\"blank level0\" >&nbsp;</th>\n",
       "      <th id=\"T_08db4_level0_col0\" class=\"col_heading level0 col0\" >MAE</th>\n",
       "      <th id=\"T_08db4_level0_col1\" class=\"col_heading level0 col1\" >MSE</th>\n",
       "      <th id=\"T_08db4_level0_col2\" class=\"col_heading level0 col2\" >RMSE</th>\n",
       "      <th id=\"T_08db4_level0_col3\" class=\"col_heading level0 col3\" >R2</th>\n",
       "      <th id=\"T_08db4_level0_col4\" class=\"col_heading level0 col4\" >RMSLE</th>\n",
       "      <th id=\"T_08db4_level0_col5\" class=\"col_heading level0 col5\" >MAPE</th>\n",
       "    </tr>\n",
       "    <tr>\n",
       "      <th class=\"index_name level0\" >Fold</th>\n",
       "      <th class=\"blank col0\" >&nbsp;</th>\n",
       "      <th class=\"blank col1\" >&nbsp;</th>\n",
       "      <th class=\"blank col2\" >&nbsp;</th>\n",
       "      <th class=\"blank col3\" >&nbsp;</th>\n",
       "      <th class=\"blank col4\" >&nbsp;</th>\n",
       "      <th class=\"blank col5\" >&nbsp;</th>\n",
       "    </tr>\n",
       "  </thead>\n",
       "  <tbody>\n",
       "    <tr>\n",
       "      <th id=\"T_08db4_level0_row0\" class=\"row_heading level0 row0\" >0</th>\n",
       "      <td id=\"T_08db4_row0_col0\" class=\"data row0 col0\" >57.83</td>\n",
       "      <td id=\"T_08db4_row0_col1\" class=\"data row0 col1\" >9729.77</td>\n",
       "      <td id=\"T_08db4_row0_col2\" class=\"data row0 col2\" >98.64</td>\n",
       "      <td id=\"T_08db4_row0_col3\" class=\"data row0 col3\" >0.51</td>\n",
       "      <td id=\"T_08db4_row0_col4\" class=\"data row0 col4\" >0.64</td>\n",
       "      <td id=\"T_08db4_row0_col5\" class=\"data row0 col5\" >0.71</td>\n",
       "    </tr>\n",
       "    <tr>\n",
       "      <th id=\"T_08db4_level0_row1\" class=\"row_heading level0 row1\" >1</th>\n",
       "      <td id=\"T_08db4_row1_col0\" class=\"data row1 col0\" >58.73</td>\n",
       "      <td id=\"T_08db4_row1_col1\" class=\"data row1 col1\" >9730.28</td>\n",
       "      <td id=\"T_08db4_row1_col2\" class=\"data row1 col2\" >98.64</td>\n",
       "      <td id=\"T_08db4_row1_col3\" class=\"data row1 col3\" >0.41</td>\n",
       "      <td id=\"T_08db4_row1_col4\" class=\"data row1 col4\" >0.61</td>\n",
       "      <td id=\"T_08db4_row1_col5\" class=\"data row1 col5\" >0.67</td>\n",
       "    </tr>\n",
       "    <tr>\n",
       "      <th id=\"T_08db4_level0_row2\" class=\"row_heading level0 row2\" >2</th>\n",
       "      <td id=\"T_08db4_row2_col0\" class=\"data row2 col0\" >62.98</td>\n",
       "      <td id=\"T_08db4_row2_col1\" class=\"data row2 col1\" >20629.99</td>\n",
       "      <td id=\"T_08db4_row2_col2\" class=\"data row2 col2\" >143.63</td>\n",
       "      <td id=\"T_08db4_row2_col3\" class=\"data row2 col3\" >0.45</td>\n",
       "      <td id=\"T_08db4_row2_col4\" class=\"data row2 col4\" >0.66</td>\n",
       "      <td id=\"T_08db4_row2_col5\" class=\"data row2 col5\" >0.80</td>\n",
       "    </tr>\n",
       "    <tr>\n",
       "      <th id=\"T_08db4_level0_row3\" class=\"row_heading level0 row3\" >3</th>\n",
       "      <td id=\"T_08db4_row3_col0\" class=\"data row3 col0\" >59.06</td>\n",
       "      <td id=\"T_08db4_row3_col1\" class=\"data row3 col1\" >17385.17</td>\n",
       "      <td id=\"T_08db4_row3_col2\" class=\"data row3 col2\" >131.85</td>\n",
       "      <td id=\"T_08db4_row3_col3\" class=\"data row3 col3\" >0.40</td>\n",
       "      <td id=\"T_08db4_row3_col4\" class=\"data row3 col4\" >0.63</td>\n",
       "      <td id=\"T_08db4_row3_col5\" class=\"data row3 col5\" >0.73</td>\n",
       "    </tr>\n",
       "    <tr>\n",
       "      <th id=\"T_08db4_level0_row4\" class=\"row_heading level0 row4\" >4</th>\n",
       "      <td id=\"T_08db4_row4_col0\" class=\"data row4 col0\" >58.62</td>\n",
       "      <td id=\"T_08db4_row4_col1\" class=\"data row4 col1\" >15365.89</td>\n",
       "      <td id=\"T_08db4_row4_col2\" class=\"data row4 col2\" >123.96</td>\n",
       "      <td id=\"T_08db4_row4_col3\" class=\"data row4 col3\" >0.45</td>\n",
       "      <td id=\"T_08db4_row4_col4\" class=\"data row4 col4\" >0.62</td>\n",
       "      <td id=\"T_08db4_row4_col5\" class=\"data row4 col5\" >0.70</td>\n",
       "    </tr>\n",
       "    <tr>\n",
       "      <th id=\"T_08db4_level0_row5\" class=\"row_heading level0 row5\" >5</th>\n",
       "      <td id=\"T_08db4_row5_col0\" class=\"data row5 col0\" >56.71</td>\n",
       "      <td id=\"T_08db4_row5_col1\" class=\"data row5 col1\" >16174.25</td>\n",
       "      <td id=\"T_08db4_row5_col2\" class=\"data row5 col2\" >127.18</td>\n",
       "      <td id=\"T_08db4_row5_col3\" class=\"data row5 col3\" >0.28</td>\n",
       "      <td id=\"T_08db4_row5_col4\" class=\"data row5 col4\" >0.60</td>\n",
       "      <td id=\"T_08db4_row5_col5\" class=\"data row5 col5\" >0.64</td>\n",
       "    </tr>\n",
       "    <tr>\n",
       "      <th id=\"T_08db4_level0_row6\" class=\"row_heading level0 row6\" >6</th>\n",
       "      <td id=\"T_08db4_row6_col0\" class=\"data row6 col0\" >56.28</td>\n",
       "      <td id=\"T_08db4_row6_col1\" class=\"data row6 col1\" >15332.30</td>\n",
       "      <td id=\"T_08db4_row6_col2\" class=\"data row6 col2\" >123.82</td>\n",
       "      <td id=\"T_08db4_row6_col3\" class=\"data row6 col3\" >0.18</td>\n",
       "      <td id=\"T_08db4_row6_col4\" class=\"data row6 col4\" >0.60</td>\n",
       "      <td id=\"T_08db4_row6_col5\" class=\"data row6 col5\" >0.65</td>\n",
       "    </tr>\n",
       "    <tr>\n",
       "      <th id=\"T_08db4_level0_row7\" class=\"row_heading level0 row7\" >7</th>\n",
       "      <td id=\"T_08db4_row7_col0\" class=\"data row7 col0\" >57.68</td>\n",
       "      <td id=\"T_08db4_row7_col1\" class=\"data row7 col1\" >12504.81</td>\n",
       "      <td id=\"T_08db4_row7_col2\" class=\"data row7 col2\" >111.82</td>\n",
       "      <td id=\"T_08db4_row7_col3\" class=\"data row7 col3\" >0.51</td>\n",
       "      <td id=\"T_08db4_row7_col4\" class=\"data row7 col4\" >0.62</td>\n",
       "      <td id=\"T_08db4_row7_col5\" class=\"data row7 col5\" >0.70</td>\n",
       "    </tr>\n",
       "    <tr>\n",
       "      <th id=\"T_08db4_level0_row8\" class=\"row_heading level0 row8\" >8</th>\n",
       "      <td id=\"T_08db4_row8_col0\" class=\"data row8 col0\" >53.14</td>\n",
       "      <td id=\"T_08db4_row8_col1\" class=\"data row8 col1\" >9393.88</td>\n",
       "      <td id=\"T_08db4_row8_col2\" class=\"data row8 col2\" >96.92</td>\n",
       "      <td id=\"T_08db4_row8_col3\" class=\"data row8 col3\" >0.55</td>\n",
       "      <td id=\"T_08db4_row8_col4\" class=\"data row8 col4\" >0.61</td>\n",
       "      <td id=\"T_08db4_row8_col5\" class=\"data row8 col5\" >0.68</td>\n",
       "    </tr>\n",
       "    <tr>\n",
       "      <th id=\"T_08db4_level0_row9\" class=\"row_heading level0 row9\" >9</th>\n",
       "      <td id=\"T_08db4_row9_col0\" class=\"data row9 col0\" >56.91</td>\n",
       "      <td id=\"T_08db4_row9_col1\" class=\"data row9 col1\" >10476.07</td>\n",
       "      <td id=\"T_08db4_row9_col2\" class=\"data row9 col2\" >102.35</td>\n",
       "      <td id=\"T_08db4_row9_col3\" class=\"data row9 col3\" >0.54</td>\n",
       "      <td id=\"T_08db4_row9_col4\" class=\"data row9 col4\" >0.61</td>\n",
       "      <td id=\"T_08db4_row9_col5\" class=\"data row9 col5\" >0.68</td>\n",
       "    </tr>\n",
       "    <tr>\n",
       "      <th id=\"T_08db4_level0_row10\" class=\"row_heading level0 row10\" >Mean</th>\n",
       "      <td id=\"T_08db4_row10_col0\" class=\"data row10 col0\" >57.79</td>\n",
       "      <td id=\"T_08db4_row10_col1\" class=\"data row10 col1\" >13672.24</td>\n",
       "      <td id=\"T_08db4_row10_col2\" class=\"data row10 col2\" >115.88</td>\n",
       "      <td id=\"T_08db4_row10_col3\" class=\"data row10 col3\" >0.43</td>\n",
       "      <td id=\"T_08db4_row10_col4\" class=\"data row10 col4\" >0.62</td>\n",
       "      <td id=\"T_08db4_row10_col5\" class=\"data row10 col5\" >0.70</td>\n",
       "    </tr>\n",
       "    <tr>\n",
       "      <th id=\"T_08db4_level0_row11\" class=\"row_heading level0 row11\" >Std</th>\n",
       "      <td id=\"T_08db4_row11_col0\" class=\"data row11 col0\" >2.36</td>\n",
       "      <td id=\"T_08db4_row11_col1\" class=\"data row11 col1\" >3674.85</td>\n",
       "      <td id=\"T_08db4_row11_col2\" class=\"data row11 col2\" >15.60</td>\n",
       "      <td id=\"T_08db4_row11_col3\" class=\"data row11 col3\" >0.11</td>\n",
       "      <td id=\"T_08db4_row11_col4\" class=\"data row11 col4\" >0.02</td>\n",
       "      <td id=\"T_08db4_row11_col5\" class=\"data row11 col5\" >0.04</td>\n",
       "    </tr>\n",
       "  </tbody>\n",
       "</table>\n"
      ],
      "text/plain": [
       "<pandas.io.formats.style.Styler at 0x2ef0048eb50>"
      ]
     },
     "metadata": {},
     "output_type": "display_data"
    },
    {
     "data": {
      "application/vnd.jupyter.widget-view+json": {
       "model_id": "",
       "version_major": 2,
       "version_minor": 0
      },
      "text/plain": [
       "Processing:   0%|          | 0/4 [00:00<?, ?it/s]"
      ]
     },
     "metadata": {},
     "output_type": "display_data"
    }
   ],
   "source": [
    "# Creating a mdel With K Neighbors Regressor with 10 fold cross validation.\n",
    "gbr = create_model('gbr', fold = 10, round = 2)"
   ]
  },
  {
   "cell_type": "code",
   "execution_count": 31,
   "id": "0f520471",
   "metadata": {},
   "outputs": [
    {
     "data": {
      "text/html": [],
      "text/plain": [
       "<IPython.core.display.HTML object>"
      ]
     },
     "metadata": {},
     "output_type": "display_data"
    },
    {
     "data": {
      "text/html": [
       "<style type=\"text/css\">\n",
       "#T_75ac9_row10_col0, #T_75ac9_row10_col1, #T_75ac9_row10_col2, #T_75ac9_row10_col3, #T_75ac9_row10_col4, #T_75ac9_row10_col5 {\n",
       "  background: yellow;\n",
       "}\n",
       "</style>\n",
       "<table id=\"T_75ac9\">\n",
       "  <thead>\n",
       "    <tr>\n",
       "      <th class=\"blank level0\" >&nbsp;</th>\n",
       "      <th id=\"T_75ac9_level0_col0\" class=\"col_heading level0 col0\" >MAE</th>\n",
       "      <th id=\"T_75ac9_level0_col1\" class=\"col_heading level0 col1\" >MSE</th>\n",
       "      <th id=\"T_75ac9_level0_col2\" class=\"col_heading level0 col2\" >RMSE</th>\n",
       "      <th id=\"T_75ac9_level0_col3\" class=\"col_heading level0 col3\" >R2</th>\n",
       "      <th id=\"T_75ac9_level0_col4\" class=\"col_heading level0 col4\" >RMSLE</th>\n",
       "      <th id=\"T_75ac9_level0_col5\" class=\"col_heading level0 col5\" >MAPE</th>\n",
       "    </tr>\n",
       "    <tr>\n",
       "      <th class=\"index_name level0\" >Fold</th>\n",
       "      <th class=\"blank col0\" >&nbsp;</th>\n",
       "      <th class=\"blank col1\" >&nbsp;</th>\n",
       "      <th class=\"blank col2\" >&nbsp;</th>\n",
       "      <th class=\"blank col3\" >&nbsp;</th>\n",
       "      <th class=\"blank col4\" >&nbsp;</th>\n",
       "      <th class=\"blank col5\" >&nbsp;</th>\n",
       "    </tr>\n",
       "  </thead>\n",
       "  <tbody>\n",
       "    <tr>\n",
       "      <th id=\"T_75ac9_level0_row0\" class=\"row_heading level0 row0\" >0</th>\n",
       "      <td id=\"T_75ac9_row0_col0\" class=\"data row0 col0\" >49.4012</td>\n",
       "      <td id=\"T_75ac9_row0_col1\" class=\"data row0 col1\" >8078.8950</td>\n",
       "      <td id=\"T_75ac9_row0_col2\" class=\"data row0 col2\" >89.8827</td>\n",
       "      <td id=\"T_75ac9_row0_col3\" class=\"data row0 col3\" >0.5939</td>\n",
       "      <td id=\"T_75ac9_row0_col4\" class=\"data row0 col4\" >0.5565</td>\n",
       "      <td id=\"T_75ac9_row0_col5\" class=\"data row0 col5\" >0.6095</td>\n",
       "    </tr>\n",
       "    <tr>\n",
       "      <th id=\"T_75ac9_level0_row1\" class=\"row_heading level0 row1\" >1</th>\n",
       "      <td id=\"T_75ac9_row1_col0\" class=\"data row1 col0\" >51.6672</td>\n",
       "      <td id=\"T_75ac9_row1_col1\" class=\"data row1 col1\" >8633.1038</td>\n",
       "      <td id=\"T_75ac9_row1_col2\" class=\"data row1 col2\" >92.9145</td>\n",
       "      <td id=\"T_75ac9_row1_col3\" class=\"data row1 col3\" >0.4767</td>\n",
       "      <td id=\"T_75ac9_row1_col4\" class=\"data row1 col4\" >0.5450</td>\n",
       "      <td id=\"T_75ac9_row1_col5\" class=\"data row1 col5\" >0.5794</td>\n",
       "    </tr>\n",
       "    <tr>\n",
       "      <th id=\"T_75ac9_level0_row2\" class=\"row_heading level0 row2\" >2</th>\n",
       "      <td id=\"T_75ac9_row2_col0\" class=\"data row2 col0\" >52.7357</td>\n",
       "      <td id=\"T_75ac9_row2_col1\" class=\"data row2 col1\" >22953.4541</td>\n",
       "      <td id=\"T_75ac9_row2_col2\" class=\"data row2 col2\" >151.5040</td>\n",
       "      <td id=\"T_75ac9_row2_col3\" class=\"data row2 col3\" >0.3853</td>\n",
       "      <td id=\"T_75ac9_row2_col4\" class=\"data row2 col4\" >0.5494</td>\n",
       "      <td id=\"T_75ac9_row2_col5\" class=\"data row2 col5\" >0.6156</td>\n",
       "    </tr>\n",
       "    <tr>\n",
       "      <th id=\"T_75ac9_level0_row3\" class=\"row_heading level0 row3\" >3</th>\n",
       "      <td id=\"T_75ac9_row3_col0\" class=\"data row3 col0\" >48.5607</td>\n",
       "      <td id=\"T_75ac9_row3_col1\" class=\"data row3 col1\" >16517.0036</td>\n",
       "      <td id=\"T_75ac9_row3_col2\" class=\"data row3 col2\" >128.5185</td>\n",
       "      <td id=\"T_75ac9_row3_col3\" class=\"data row3 col3\" >0.4298</td>\n",
       "      <td id=\"T_75ac9_row3_col4\" class=\"data row3 col4\" >0.5221</td>\n",
       "      <td id=\"T_75ac9_row3_col5\" class=\"data row3 col5\" >0.5677</td>\n",
       "    </tr>\n",
       "    <tr>\n",
       "      <th id=\"T_75ac9_level0_row4\" class=\"row_heading level0 row4\" >4</th>\n",
       "      <td id=\"T_75ac9_row4_col0\" class=\"data row4 col0\" >50.1737</td>\n",
       "      <td id=\"T_75ac9_row4_col1\" class=\"data row4 col1\" >14644.7314</td>\n",
       "      <td id=\"T_75ac9_row4_col2\" class=\"data row4 col2\" >121.0154</td>\n",
       "      <td id=\"T_75ac9_row4_col3\" class=\"data row4 col3\" >0.4751</td>\n",
       "      <td id=\"T_75ac9_row4_col4\" class=\"data row4 col4\" >0.5373</td>\n",
       "      <td id=\"T_75ac9_row4_col5\" class=\"data row4 col5\" >0.5879</td>\n",
       "    </tr>\n",
       "    <tr>\n",
       "      <th id=\"T_75ac9_level0_row5\" class=\"row_heading level0 row5\" >5</th>\n",
       "      <td id=\"T_75ac9_row5_col0\" class=\"data row5 col0\" >49.9296</td>\n",
       "      <td id=\"T_75ac9_row5_col1\" class=\"data row5 col1\" >14585.9180</td>\n",
       "      <td id=\"T_75ac9_row5_col2\" class=\"data row5 col2\" >120.7722</td>\n",
       "      <td id=\"T_75ac9_row5_col3\" class=\"data row5 col3\" >0.3474</td>\n",
       "      <td id=\"T_75ac9_row5_col4\" class=\"data row5 col4\" >0.5310</td>\n",
       "      <td id=\"T_75ac9_row5_col5\" class=\"data row5 col5\" >0.5473</td>\n",
       "    </tr>\n",
       "    <tr>\n",
       "      <th id=\"T_75ac9_level0_row6\" class=\"row_heading level0 row6\" >6</th>\n",
       "      <td id=\"T_75ac9_row6_col0\" class=\"data row6 col0\" >49.1453</td>\n",
       "      <td id=\"T_75ac9_row6_col1\" class=\"data row6 col1\" >12690.1280</td>\n",
       "      <td id=\"T_75ac9_row6_col2\" class=\"data row6 col2\" >112.6505</td>\n",
       "      <td id=\"T_75ac9_row6_col3\" class=\"data row6 col3\" >0.3224</td>\n",
       "      <td id=\"T_75ac9_row6_col4\" class=\"data row6 col4\" >0.5366</td>\n",
       "      <td id=\"T_75ac9_row6_col5\" class=\"data row6 col5\" >0.5759</td>\n",
       "    </tr>\n",
       "    <tr>\n",
       "      <th id=\"T_75ac9_level0_row7\" class=\"row_heading level0 row7\" >7</th>\n",
       "      <td id=\"T_75ac9_row7_col0\" class=\"data row7 col0\" >50.6635</td>\n",
       "      <td id=\"T_75ac9_row7_col1\" class=\"data row7 col1\" >15967.9387</td>\n",
       "      <td id=\"T_75ac9_row7_col2\" class=\"data row7 col2\" >126.3643</td>\n",
       "      <td id=\"T_75ac9_row7_col3\" class=\"data row7 col3\" >0.3793</td>\n",
       "      <td id=\"T_75ac9_row7_col4\" class=\"data row7 col4\" >0.5408</td>\n",
       "      <td id=\"T_75ac9_row7_col5\" class=\"data row7 col5\" >0.5815</td>\n",
       "    </tr>\n",
       "    <tr>\n",
       "      <th id=\"T_75ac9_level0_row8\" class=\"row_heading level0 row8\" >8</th>\n",
       "      <td id=\"T_75ac9_row8_col0\" class=\"data row8 col0\" >49.9860</td>\n",
       "      <td id=\"T_75ac9_row8_col1\" class=\"data row8 col1\" >11645.4824</td>\n",
       "      <td id=\"T_75ac9_row8_col2\" class=\"data row8 col2\" >107.9142</td>\n",
       "      <td id=\"T_75ac9_row8_col3\" class=\"data row8 col3\" >0.4435</td>\n",
       "      <td id=\"T_75ac9_row8_col4\" class=\"data row8 col4\" >0.5567</td>\n",
       "      <td id=\"T_75ac9_row8_col5\" class=\"data row8 col5\" >0.6299</td>\n",
       "    </tr>\n",
       "    <tr>\n",
       "      <th id=\"T_75ac9_level0_row9\" class=\"row_heading level0 row9\" >9</th>\n",
       "      <td id=\"T_75ac9_row9_col0\" class=\"data row9 col0\" >49.8995</td>\n",
       "      <td id=\"T_75ac9_row9_col1\" class=\"data row9 col1\" >13245.8887</td>\n",
       "      <td id=\"T_75ac9_row9_col2\" class=\"data row9 col2\" >115.0908</td>\n",
       "      <td id=\"T_75ac9_row9_col3\" class=\"data row9 col3\" >0.4168</td>\n",
       "      <td id=\"T_75ac9_row9_col4\" class=\"data row9 col4\" >0.5327</td>\n",
       "      <td id=\"T_75ac9_row9_col5\" class=\"data row9 col5\" >0.5656</td>\n",
       "    </tr>\n",
       "    <tr>\n",
       "      <th id=\"T_75ac9_level0_row10\" class=\"row_heading level0 row10\" >Mean</th>\n",
       "      <td id=\"T_75ac9_row10_col0\" class=\"data row10 col0\" >50.2162</td>\n",
       "      <td id=\"T_75ac9_row10_col1\" class=\"data row10 col1\" >13896.2544</td>\n",
       "      <td id=\"T_75ac9_row10_col2\" class=\"data row10 col2\" >116.6627</td>\n",
       "      <td id=\"T_75ac9_row10_col3\" class=\"data row10 col3\" >0.4270</td>\n",
       "      <td id=\"T_75ac9_row10_col4\" class=\"data row10 col4\" >0.5408</td>\n",
       "      <td id=\"T_75ac9_row10_col5\" class=\"data row10 col5\" >0.5860</td>\n",
       "    </tr>\n",
       "    <tr>\n",
       "      <th id=\"T_75ac9_level0_row11\" class=\"row_heading level0 row11\" >Std</th>\n",
       "      <td id=\"T_75ac9_row11_col0\" class=\"data row11 col0\" >1.1594</td>\n",
       "      <td id=\"T_75ac9_row11_col1\" class=\"data row11 col1\" >4033.7952</td>\n",
       "      <td id=\"T_75ac9_row11_col2\" class=\"data row11 col2\" >16.9135</td>\n",
       "      <td id=\"T_75ac9_row11_col3\" class=\"data row11 col3\" >0.0737</td>\n",
       "      <td id=\"T_75ac9_row11_col4\" class=\"data row11 col4\" >0.0106</td>\n",
       "      <td id=\"T_75ac9_row11_col5\" class=\"data row11 col5\" >0.0240</td>\n",
       "    </tr>\n",
       "  </tbody>\n",
       "</table>\n"
      ],
      "text/plain": [
       "<pandas.io.formats.style.Styler at 0x2ef5e38eb80>"
      ]
     },
     "metadata": {},
     "output_type": "display_data"
    },
    {
     "data": {
      "application/vnd.jupyter.widget-view+json": {
       "model_id": "",
       "version_major": 2,
       "version_minor": 0
      },
      "text/plain": [
       "Processing:   0%|          | 0/7 [00:00<?, ?it/s]"
      ]
     },
     "metadata": {},
     "output_type": "display_data"
    },
    {
     "name": "stdout",
     "output_type": "stream",
     "text": [
      "Fitting 10 folds for each of 5 candidates, totalling 50 fits\n",
      "Original model was better than the tuned model, hence it will be returned. NOTE: The display metrics are for the tuned model (not the original one).\n"
     ]
    }
   ],
   "source": [
    "# Tuning Gradient Boosting Regressor\n",
    "tuned_gbr = tune_model(gbr, n_iter = 5)"
   ]
  },
  {
   "cell_type": "code",
   "execution_count": 32,
   "id": "35691f2c",
   "metadata": {},
   "outputs": [
    {
     "data": {
      "text/html": [
       "<style type=\"text/css\">\n",
       "</style>\n",
       "<table id=\"T_21fe4\">\n",
       "  <thead>\n",
       "    <tr>\n",
       "      <th class=\"blank level0\" >&nbsp;</th>\n",
       "      <th id=\"T_21fe4_level0_col0\" class=\"col_heading level0 col0\" >Model</th>\n",
       "      <th id=\"T_21fe4_level0_col1\" class=\"col_heading level0 col1\" >MAE</th>\n",
       "      <th id=\"T_21fe4_level0_col2\" class=\"col_heading level0 col2\" >MSE</th>\n",
       "      <th id=\"T_21fe4_level0_col3\" class=\"col_heading level0 col3\" >RMSE</th>\n",
       "      <th id=\"T_21fe4_level0_col4\" class=\"col_heading level0 col4\" >R2</th>\n",
       "      <th id=\"T_21fe4_level0_col5\" class=\"col_heading level0 col5\" >RMSLE</th>\n",
       "      <th id=\"T_21fe4_level0_col6\" class=\"col_heading level0 col6\" >MAPE</th>\n",
       "    </tr>\n",
       "  </thead>\n",
       "  <tbody>\n",
       "    <tr>\n",
       "      <th id=\"T_21fe4_level0_row0\" class=\"row_heading level0 row0\" >0</th>\n",
       "      <td id=\"T_21fe4_row0_col0\" class=\"data row0 col0\" >Gradient Boosting Regressor</td>\n",
       "      <td id=\"T_21fe4_row0_col1\" class=\"data row0 col1\" >54.5790</td>\n",
       "      <td id=\"T_21fe4_row0_col2\" class=\"data row0 col2\" >10688.9514</td>\n",
       "      <td id=\"T_21fe4_row0_col3\" class=\"data row0 col3\" >103.3874</td>\n",
       "      <td id=\"T_21fe4_row0_col4\" class=\"data row0 col4\" >0.3999</td>\n",
       "      <td id=\"T_21fe4_row0_col5\" class=\"data row0 col5\" >0.6020</td>\n",
       "      <td id=\"T_21fe4_row0_col6\" class=\"data row0 col6\" >0.6650</td>\n",
       "    </tr>\n",
       "  </tbody>\n",
       "</table>\n"
      ],
      "text/plain": [
       "<pandas.io.formats.style.Styler at 0x2ef586cfb80>"
      ]
     },
     "metadata": {},
     "output_type": "display_data"
    }
   ],
   "source": [
    "# Predict on Test / Hold-out Sample\n",
    "\n",
    "pred = predict_model(tuned_gbr);"
   ]
  },
  {
   "cell_type": "code",
   "execution_count": 33,
   "id": "92665009",
   "metadata": {},
   "outputs": [],
   "source": [
    "# Finalize Model for Deployment\n",
    "final_gbr = finalize_model(tuned_gbr)"
   ]
  },
  {
   "cell_type": "code",
   "execution_count": 34,
   "id": "2ae5100b",
   "metadata": {},
   "outputs": [
    {
     "data": {
      "text/html": [
       "<style type=\"text/css\">\n",
       "</style>\n",
       "<table id=\"T_dd998\">\n",
       "  <thead>\n",
       "    <tr>\n",
       "      <th class=\"blank level0\" >&nbsp;</th>\n",
       "      <th id=\"T_dd998_level0_col0\" class=\"col_heading level0 col0\" >Model</th>\n",
       "      <th id=\"T_dd998_level0_col1\" class=\"col_heading level0 col1\" >MAE</th>\n",
       "      <th id=\"T_dd998_level0_col2\" class=\"col_heading level0 col2\" >MSE</th>\n",
       "      <th id=\"T_dd998_level0_col3\" class=\"col_heading level0 col3\" >RMSE</th>\n",
       "      <th id=\"T_dd998_level0_col4\" class=\"col_heading level0 col4\" >R2</th>\n",
       "      <th id=\"T_dd998_level0_col5\" class=\"col_heading level0 col5\" >RMSLE</th>\n",
       "      <th id=\"T_dd998_level0_col6\" class=\"col_heading level0 col6\" >MAPE</th>\n",
       "    </tr>\n",
       "  </thead>\n",
       "  <tbody>\n",
       "    <tr>\n",
       "      <th id=\"T_dd998_level0_row0\" class=\"row_heading level0 row0\" >0</th>\n",
       "      <td id=\"T_dd998_row0_col0\" class=\"data row0 col0\" >Gradient Boosting Regressor</td>\n",
       "      <td id=\"T_dd998_row0_col1\" class=\"data row0 col1\" >18.2733</td>\n",
       "      <td id=\"T_dd998_row0_col2\" class=\"data row0 col2\" >6209.7803</td>\n",
       "      <td id=\"T_dd998_row0_col3\" class=\"data row0 col3\" >78.8022</td>\n",
       "      <td id=\"T_dd998_row0_col4\" class=\"data row0 col4\" >0.7172</td>\n",
       "      <td id=\"T_dd998_row0_col5\" class=\"data row0 col5\" >0.2575</td>\n",
       "      <td id=\"T_dd998_row0_col6\" class=\"data row0 col6\" >0.1801</td>\n",
       "    </tr>\n",
       "  </tbody>\n",
       "</table>\n"
      ],
      "text/plain": [
       "<pandas.io.formats.style.Styler at 0x2ef5dcbb9d0>"
      ]
     },
     "metadata": {},
     "output_type": "display_data"
    },
    {
     "data": {
      "text/html": [
       "<div>\n",
       "<style scoped>\n",
       "    .dataframe tbody tr th:only-of-type {\n",
       "        vertical-align: middle;\n",
       "    }\n",
       "\n",
       "    .dataframe tbody tr th {\n",
       "        vertical-align: top;\n",
       "    }\n",
       "\n",
       "    .dataframe thead th {\n",
       "        text-align: right;\n",
       "    }\n",
       "</style>\n",
       "<table border=\"1\" class=\"dataframe\">\n",
       "  <thead>\n",
       "    <tr style=\"text-align: right;\">\n",
       "      <th></th>\n",
       "      <th>area_type</th>\n",
       "      <th>availability</th>\n",
       "      <th>location</th>\n",
       "      <th>size</th>\n",
       "      <th>bath</th>\n",
       "      <th>balcony</th>\n",
       "      <th>Area_sqft</th>\n",
       "      <th>price</th>\n",
       "      <th>prediction_label</th>\n",
       "    </tr>\n",
       "  </thead>\n",
       "  <tbody>\n",
       "    <tr>\n",
       "      <th>0</th>\n",
       "      <td>Super built-up  Area</td>\n",
       "      <td>Ready To Move</td>\n",
       "      <td>Whitefield</td>\n",
       "      <td>2 BHK</td>\n",
       "      <td>2.0</td>\n",
       "      <td>1.0</td>\n",
       "      <td>1170</td>\n",
       "      <td>38.0</td>\n",
       "      <td>44.906758</td>\n",
       "    </tr>\n",
       "    <tr>\n",
       "      <th>1</th>\n",
       "      <td>Super built-up  Area</td>\n",
       "      <td>Ready To Move</td>\n",
       "      <td>Ramakrishnappa Layout</td>\n",
       "      <td>3 BHK</td>\n",
       "      <td>4.0</td>\n",
       "      <td>2.0</td>\n",
       "      <td>2770</td>\n",
       "      <td>290.0</td>\n",
       "      <td>341.127732</td>\n",
       "    </tr>\n",
       "    <tr>\n",
       "      <th>2</th>\n",
       "      <td>Super built-up  Area</td>\n",
       "      <td>Ready To Move</td>\n",
       "      <td>Kundalahalli</td>\n",
       "      <td>3 BHK</td>\n",
       "      <td>3.0</td>\n",
       "      <td>2.0</td>\n",
       "      <td>1724</td>\n",
       "      <td>125.0</td>\n",
       "      <td>121.730471</td>\n",
       "    </tr>\n",
       "    <tr>\n",
       "      <th>3</th>\n",
       "      <td>Built-up  Area</td>\n",
       "      <td>Ready To Move</td>\n",
       "      <td>Uttarahalli</td>\n",
       "      <td>2 BHK</td>\n",
       "      <td>2.0</td>\n",
       "      <td>2.0</td>\n",
       "      <td>1143</td>\n",
       "      <td>45.0</td>\n",
       "      <td>44.150409</td>\n",
       "    </tr>\n",
       "    <tr>\n",
       "      <th>4</th>\n",
       "      <td>Super built-up  Area</td>\n",
       "      <td>Ready To Move</td>\n",
       "      <td>Ramakrishnappa Layout</td>\n",
       "      <td>2 BHK</td>\n",
       "      <td>2.0</td>\n",
       "      <td>2.0</td>\n",
       "      <td>1500</td>\n",
       "      <td>185.0</td>\n",
       "      <td>158.445467</td>\n",
       "    </tr>\n",
       "  </tbody>\n",
       "</table>\n",
       "</div>"
      ],
      "text/plain": [
       "              area_type   availability               location   size bath  \\\n",
       "0  Super built-up  Area  Ready To Move             Whitefield  2 BHK  2.0   \n",
       "1  Super built-up  Area  Ready To Move  Ramakrishnappa Layout  3 BHK  4.0   \n",
       "2  Super built-up  Area  Ready To Move           Kundalahalli  3 BHK  3.0   \n",
       "3        Built-up  Area  Ready To Move            Uttarahalli  2 BHK  2.0   \n",
       "4  Super built-up  Area  Ready To Move  Ramakrishnappa Layout  2 BHK  2.0   \n",
       "\n",
       "  balcony  Area_sqft  price  prediction_label  \n",
       "0     1.0       1170   38.0         44.906758  \n",
       "1     2.0       2770  290.0        341.127732  \n",
       "2     2.0       1724  125.0        121.730471  \n",
       "3     2.0       1143   45.0         44.150409  \n",
       "4     2.0       1500  185.0        158.445467  "
      ]
     },
     "execution_count": 34,
     "metadata": {},
     "output_type": "execute_result"
    }
   ],
   "source": [
    "# Predict on Unseen Data\n",
    "\n",
    "unseen_predictions = predict_model(final_gbr, data=data_unseen)\n",
    "unseen_predictions.head()"
   ]
  },
  {
   "cell_type": "code",
   "execution_count": 35,
   "id": "722141f8",
   "metadata": {},
   "outputs": [
    {
     "data": {
      "text/plain": [
       "0.7172"
      ]
     },
     "execution_count": 35,
     "metadata": {},
     "output_type": "execute_result"
    }
   ],
   "source": [
    "# Checking Metrics\n",
    "from pycaret.utils import check_metric\n",
    "check_metric(unseen_predictions.price, unseen_predictions.prediction_label,'R2')"
   ]
  },
  {
   "cell_type": "code",
   "execution_count": 36,
   "id": "cabf45ec",
   "metadata": {},
   "outputs": [
    {
     "data": {
      "text/plain": [
       "78.8022"
      ]
     },
     "execution_count": 36,
     "metadata": {},
     "output_type": "execute_result"
    }
   ],
   "source": [
    "# Checking Metrics\n",
    "from pycaret.utils import check_metric\n",
    "check_metric(unseen_predictions.price, unseen_predictions.prediction_label,'RMSE')"
   ]
  },
  {
   "cell_type": "markdown",
   "id": "ea9ddfdd",
   "metadata": {},
   "source": [
    "___SAVING THE MODEL___"
   ]
  },
  {
   "cell_type": "code",
   "execution_count": 37,
   "id": "ba234597",
   "metadata": {},
   "outputs": [
    {
     "name": "stdout",
     "output_type": "stream",
     "text": [
      "Transformation Pipeline and Model Successfully Saved\n"
     ]
    },
    {
     "data": {
      "text/plain": [
       "(Pipeline(memory=Memory(location=C:\\Users\\VENKAT~1\\AppData\\Local\\Temp\\joblib),\n",
       "          steps=[('numerical_imputer',\n",
       "                  TransformerWrapper(include=['Area_sqft'],\n",
       "                                     transformer=SimpleImputer())),\n",
       "                 ('categorical_imputer',\n",
       "                  TransformerWrapper(include=['area_type', 'availability',\n",
       "                                              'location', 'size', 'bath',\n",
       "                                              'balcony'],\n",
       "                                     transformer=SimpleImputer(strategy='most_frequent'))),\n",
       "                 ('oneh...\n",
       "                                     transformer=OneHotEncoder(cols=['area_type',\n",
       "                                                                     'size',\n",
       "                                                                     'bath',\n",
       "                                                                     'balcony'],\n",
       "                                                               handle_missing='return_nan',\n",
       "                                                               use_cat_names=True))),\n",
       "                 ('rest_encoding',\n",
       "                  TransformerWrapper(include=['availability', 'location'],\n",
       "                                     transformer=LeaveOneOutEncoder(cols=['availability',\n",
       "                                                                          'location'],\n",
       "                                                                    handle_missing='return_nan',\n",
       "                                                                    random_state=123))),\n",
       "                 ('actual_estimator',\n",
       "                  GradientBoostingRegressor(random_state=123))]),\n",
       " 'gbr_for_banglore_house_price_Prediction.pkl')"
      ]
     },
     "execution_count": 37,
     "metadata": {},
     "output_type": "execute_result"
    }
   ],
   "source": [
    "# Saving the Model For Deployment\n",
    "save_model(final_gbr,'gbr_for_banglore_house_price_Prediction')"
   ]
  },
  {
   "cell_type": "markdown",
   "id": "91f30e5c",
   "metadata": {},
   "source": [
    "___LOADING THE SAVED MODEL___"
   ]
  },
  {
   "cell_type": "code",
   "execution_count": 38,
   "id": "46ee5e3d",
   "metadata": {},
   "outputs": [
    {
     "name": "stdout",
     "output_type": "stream",
     "text": [
      "Transformation Pipeline and Model Successfully Loaded\n"
     ]
    }
   ],
   "source": [
    "saved_final_gbr = load_model('gbr_for_banglore_house_price_Prediction')"
   ]
  },
  {
   "cell_type": "markdown",
   "id": "f54e057e",
   "metadata": {},
   "source": [
    "___REAL TIME PREDICTION USING UNSEEN DATA___"
   ]
  },
  {
   "cell_type": "code",
   "execution_count": 39,
   "id": "4960511d",
   "metadata": {},
   "outputs": [
    {
     "data": {
      "text/html": [
       "<style type=\"text/css\">\n",
       "</style>\n",
       "<table id=\"T_3c83b\">\n",
       "  <thead>\n",
       "    <tr>\n",
       "      <th class=\"blank level0\" >&nbsp;</th>\n",
       "      <th id=\"T_3c83b_level0_col0\" class=\"col_heading level0 col0\" >Model</th>\n",
       "      <th id=\"T_3c83b_level0_col1\" class=\"col_heading level0 col1\" >MAE</th>\n",
       "      <th id=\"T_3c83b_level0_col2\" class=\"col_heading level0 col2\" >MSE</th>\n",
       "      <th id=\"T_3c83b_level0_col3\" class=\"col_heading level0 col3\" >RMSE</th>\n",
       "      <th id=\"T_3c83b_level0_col4\" class=\"col_heading level0 col4\" >R2</th>\n",
       "      <th id=\"T_3c83b_level0_col5\" class=\"col_heading level0 col5\" >RMSLE</th>\n",
       "      <th id=\"T_3c83b_level0_col6\" class=\"col_heading level0 col6\" >MAPE</th>\n",
       "    </tr>\n",
       "  </thead>\n",
       "  <tbody>\n",
       "    <tr>\n",
       "      <th id=\"T_3c83b_level0_row0\" class=\"row_heading level0 row0\" >0</th>\n",
       "      <td id=\"T_3c83b_row0_col0\" class=\"data row0 col0\" >Gradient Boosting Regressor</td>\n",
       "      <td id=\"T_3c83b_row0_col1\" class=\"data row0 col1\" >18.2733</td>\n",
       "      <td id=\"T_3c83b_row0_col2\" class=\"data row0 col2\" >6209.7803</td>\n",
       "      <td id=\"T_3c83b_row0_col3\" class=\"data row0 col3\" >78.8022</td>\n",
       "      <td id=\"T_3c83b_row0_col4\" class=\"data row0 col4\" >0.7172</td>\n",
       "      <td id=\"T_3c83b_row0_col5\" class=\"data row0 col5\" >0.2575</td>\n",
       "      <td id=\"T_3c83b_row0_col6\" class=\"data row0 col6\" >0.1801</td>\n",
       "    </tr>\n",
       "  </tbody>\n",
       "</table>\n"
      ],
      "text/plain": [
       "<pandas.io.formats.style.Styler at 0x2ef5e4896a0>"
      ]
     },
     "metadata": {},
     "output_type": "display_data"
    }
   ],
   "source": [
    "new_prediction = predict_model(saved_final_gbr, data=data_unseen)"
   ]
  },
  {
   "cell_type": "code",
   "execution_count": 40,
   "id": "0ddebd1f",
   "metadata": {},
   "outputs": [
    {
     "data": {
      "text/html": [
       "<div>\n",
       "<style scoped>\n",
       "    .dataframe tbody tr th:only-of-type {\n",
       "        vertical-align: middle;\n",
       "    }\n",
       "\n",
       "    .dataframe tbody tr th {\n",
       "        vertical-align: top;\n",
       "    }\n",
       "\n",
       "    .dataframe thead th {\n",
       "        text-align: right;\n",
       "    }\n",
       "</style>\n",
       "<table border=\"1\" class=\"dataframe\">\n",
       "  <thead>\n",
       "    <tr style=\"text-align: right;\">\n",
       "      <th></th>\n",
       "      <th>area_type</th>\n",
       "      <th>availability</th>\n",
       "      <th>location</th>\n",
       "      <th>size</th>\n",
       "      <th>bath</th>\n",
       "      <th>balcony</th>\n",
       "      <th>Area_sqft</th>\n",
       "      <th>price</th>\n",
       "      <th>prediction_label</th>\n",
       "    </tr>\n",
       "  </thead>\n",
       "  <tbody>\n",
       "    <tr>\n",
       "      <th>0</th>\n",
       "      <td>Super built-up  Area</td>\n",
       "      <td>Ready To Move</td>\n",
       "      <td>Whitefield</td>\n",
       "      <td>2 BHK</td>\n",
       "      <td>2.0</td>\n",
       "      <td>1.0</td>\n",
       "      <td>1170</td>\n",
       "      <td>38.0</td>\n",
       "      <td>44.906758</td>\n",
       "    </tr>\n",
       "    <tr>\n",
       "      <th>1</th>\n",
       "      <td>Super built-up  Area</td>\n",
       "      <td>Ready To Move</td>\n",
       "      <td>Ramakrishnappa Layout</td>\n",
       "      <td>3 BHK</td>\n",
       "      <td>4.0</td>\n",
       "      <td>2.0</td>\n",
       "      <td>2770</td>\n",
       "      <td>290.0</td>\n",
       "      <td>341.127732</td>\n",
       "    </tr>\n",
       "    <tr>\n",
       "      <th>2</th>\n",
       "      <td>Super built-up  Area</td>\n",
       "      <td>Ready To Move</td>\n",
       "      <td>Kundalahalli</td>\n",
       "      <td>3 BHK</td>\n",
       "      <td>3.0</td>\n",
       "      <td>2.0</td>\n",
       "      <td>1724</td>\n",
       "      <td>125.0</td>\n",
       "      <td>121.730471</td>\n",
       "    </tr>\n",
       "    <tr>\n",
       "      <th>3</th>\n",
       "      <td>Built-up  Area</td>\n",
       "      <td>Ready To Move</td>\n",
       "      <td>Uttarahalli</td>\n",
       "      <td>2 BHK</td>\n",
       "      <td>2.0</td>\n",
       "      <td>2.0</td>\n",
       "      <td>1143</td>\n",
       "      <td>45.0</td>\n",
       "      <td>44.150409</td>\n",
       "    </tr>\n",
       "    <tr>\n",
       "      <th>4</th>\n",
       "      <td>Super built-up  Area</td>\n",
       "      <td>Ready To Move</td>\n",
       "      <td>Ramakrishnappa Layout</td>\n",
       "      <td>2 BHK</td>\n",
       "      <td>2.0</td>\n",
       "      <td>2.0</td>\n",
       "      <td>1500</td>\n",
       "      <td>185.0</td>\n",
       "      <td>158.445467</td>\n",
       "    </tr>\n",
       "  </tbody>\n",
       "</table>\n",
       "</div>"
      ],
      "text/plain": [
       "              area_type   availability               location   size bath  \\\n",
       "0  Super built-up  Area  Ready To Move             Whitefield  2 BHK  2.0   \n",
       "1  Super built-up  Area  Ready To Move  Ramakrishnappa Layout  3 BHK  4.0   \n",
       "2  Super built-up  Area  Ready To Move           Kundalahalli  3 BHK  3.0   \n",
       "3        Built-up  Area  Ready To Move            Uttarahalli  2 BHK  2.0   \n",
       "4  Super built-up  Area  Ready To Move  Ramakrishnappa Layout  2 BHK  2.0   \n",
       "\n",
       "  balcony  Area_sqft  price  prediction_label  \n",
       "0     1.0       1170   38.0         44.906758  \n",
       "1     2.0       2770  290.0        341.127732  \n",
       "2     2.0       1724  125.0        121.730471  \n",
       "3     2.0       1143   45.0         44.150409  \n",
       "4     2.0       1500  185.0        158.445467  "
      ]
     },
     "execution_count": 40,
     "metadata": {},
     "output_type": "execute_result"
    }
   ],
   "source": [
    "new_prediction.head()"
   ]
  },
  {
   "cell_type": "code",
   "execution_count": 41,
   "id": "265196b4",
   "metadata": {},
   "outputs": [
    {
     "data": {
      "text/plain": [
       "0.7172"
      ]
     },
     "execution_count": 41,
     "metadata": {},
     "output_type": "execute_result"
    }
   ],
   "source": [
    "from pycaret.utils import check_metric\n",
    "check_metric(new_prediction.price, new_prediction.prediction_label, 'R2')"
   ]
  },
  {
   "cell_type": "code",
   "execution_count": 42,
   "id": "04772b03",
   "metadata": {},
   "outputs": [
    {
     "data": {
      "text/plain": [
       "78.8022"
      ]
     },
     "execution_count": 42,
     "metadata": {},
     "output_type": "execute_result"
    }
   ],
   "source": [
    "from pycaret.utils import check_metric\n",
    "check_metric(new_prediction.price, new_prediction.prediction_label, 'RMSE')"
   ]
  },
  {
   "cell_type": "markdown",
   "id": "881c242f",
   "metadata": {},
   "source": [
    "___CONCLUSION___\n",
    "\n",
    "* To achieve the best model based on R2 and RMSE we trained three models i.e., Extra Trees Regressor, KNNRegressor, Gradient Boosting Regressor.\n",
    "\n",
    "* Among all three top models Gradient Boosting Regressor gives best R2 and RMSE Values, Based on these values GBR model has selected for deployment.\n",
    "\n",
    "* Ideally, lower RMSE and higher R-squared values are indicative of a good model. \n",
    "\n",
    "* The RMSE value 78.80 tells us that the average deviation between the predicted house price made by the model and the actual house price.\n",
    "\n",
    "* The R2 value tells us that the predictor variables in the model (square footage, bathrooms, and bedrooms) are able to explain 71.7% of the variation in the house prices.\n",
    "\n",
    "* When determining if these values are “good” or not, we can compare these metrics to alternative models.\n",
    "\n",
    "* Finally GBR model has selected for Deployment based on R2 and RMSE Scores.\n",
    "\n",
    "******************************************************** THANKYOU ***************************************************************"
   ]
  },
  {
   "cell_type": "code",
   "execution_count": null,
   "id": "cb4f3597",
   "metadata": {},
   "outputs": [],
   "source": []
  }
 ],
 "metadata": {
  "kernelspec": {
   "display_name": "Python 3 (ipykernel)",
   "language": "python",
   "name": "python3"
  },
  "language_info": {
   "codemirror_mode": {
    "name": "ipython",
    "version": 3
   },
   "file_extension": ".py",
   "mimetype": "text/x-python",
   "name": "python",
   "nbconvert_exporter": "python",
   "pygments_lexer": "ipython3",
   "version": "3.9.12"
  }
 },
 "nbformat": 4,
 "nbformat_minor": 5
}
